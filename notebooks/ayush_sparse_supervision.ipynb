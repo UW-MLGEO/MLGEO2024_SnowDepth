{
 "cells": [
  {
   "cell_type": "code",
   "execution_count": 1,
   "metadata": {},
   "outputs": [
    {
     "name": "stderr",
     "output_type": "stream",
     "text": [
      "/Users/ayushg/miniforge3/envs/deep-snow/lib/python3.12/site-packages/torchvision/io/image.py:14: UserWarning: Failed to load image Python extension: 'dlopen(/Users/ayushg/miniforge3/envs/deep-snow/lib/python3.12/site-packages/torchvision/image.so, 0x0006): Library not loaded: @rpath/libjpeg.9.dylib\n",
      "  Referenced from: <367D4265-B20F-34BD-94EB-4F3EE47C385B> /Users/ayushg/miniforge3/envs/deep-snow/lib/python3.12/site-packages/torchvision/image.so\n",
      "  Reason: tried: '/Users/ayushg/miniforge3/envs/deep-snow/lib/python3.12/site-packages/torchvision/../../../libjpeg.9.dylib' (no such file), '/Users/ayushg/miniforge3/envs/deep-snow/lib/python3.12/site-packages/torchvision/../../../libjpeg.9.dylib' (no such file), '/Users/ayushg/miniforge3/envs/deep-snow/lib/python3.12/lib-dynload/../../libjpeg.9.dylib' (no such file), '/Users/ayushg/miniforge3/envs/deep-snow/bin/../lib/libjpeg.9.dylib' (no such file)'If you don't plan on using image functionality from `torchvision.io`, you can ignore this warning. Otherwise, there might be something wrong with your environment. Did you have `libjpeg` or `libpng` installed before building `torchvision` from source?\n",
      "  warn(\n"
     ]
    }
   ],
   "source": [
    "import os, sys\n",
    "sys.path.append(os.path.dirname(os.path.abspath(os.getcwd())))\n",
    "\n",
    "import numpy as np\n",
    "import matplotlib.pyplot as plt\n",
    "import torch\n",
    "from glob import glob\n",
    "import seaborn as sns\n",
    "import torch.nn as nn\n",
    "import torch.optim as optim\n",
    "import torch.nn.functional as F\n",
    "import xarray as xr\n",
    "import rasterio as rio\n",
    "import rioxarray\n",
    "import math\n",
    "from sklearn.preprocessing import RobustScaler\n",
    "from sklearn.decomposition import PCA\n",
    "import pandas as pd\n",
    "import os\n",
    "\n",
    "import deep_snow.models\n",
    "from deep_snow.utils import calc_norm, undo_norm, calc_dowy\n",
    "from deep_snow.dataset import norm_dict\n",
    "from tqdm import tqdm\n",
    "import shutil"
   ]
  },
  {
   "cell_type": "markdown",
   "metadata": {},
   "source": [
    "#### Creating Random Grid for Sampling"
   ]
  },
  {
   "cell_type": "code",
   "execution_count": 740,
   "metadata": {},
   "outputs": [],
   "source": [
    "xgrid = 30\n",
    "ygrid = 4\n",
    "X_coords = np.arange(np.random.randint(-160, -140), 128+160, xgrid)\n",
    "Y_coords = np.arange(np.random.randint(-160, -140), 128+160, ygrid)\n",
    "xv, yv = np.meshgrid(X_coords, Y_coords)\n",
    "xv, yv = xv.flatten(), yv.flatten()\n",
    "\n",
    "rot = np.deg2rad(25)\n",
    "\n",
    "xv_rot = (xv*np.cos(rot) + yv*np.sin(rot)).astype('int')\n",
    "yv_rot = (yv*np.cos(rot) - xv*np.cos(rot)).astype('int')\n",
    "\n",
    "mask1 = (xv>0)&(xv<128)&(yv>0)&(yv<128)\n",
    "mask2 = (xv_rot>0)&(xv_rot<128)&(yv_rot>0)&(yv_rot<128)"
   ]
  },
  {
   "cell_type": "code",
   "execution_count": 744,
   "metadata": {},
   "outputs": [
    {
     "data": {
      "image/png": "[encoded data removed]",
      "text/plain": [
       "<Figure size 1200x600 with 2 Axes>"
      ]
     },
     "metadata": {},
     "output_type": "display_data"
    }
   ],
   "source": [
    "fig, axs = plt.subplots(1, 2, figsize=(12, 6))\n",
    "axs[0].scatter(xv[mask1], yv[mask1], s=10)\n",
    "axs[1].scatter(xv_rot[mask2], yv_rot[mask2], s=10)\n",
    "\n",
    "axs[0].set_title('Sampling Grid')\n",
    "axs[1].set_title('Rotated Sampling Grid')\n",
    "axs[0].set_xlim(0, 128)\n",
    "axs[1].set_xlim(0, 128)\n",
    "axs[0].set_ylim(0, 128)\n",
    "axs[1].set_ylim(0, 128)\n",
    "\n",
    "plt.savefig('sampling_data.png', bbox_inches='tight',\n",
    "            dpi=300, transparent=True)\n",
    "\n",
    "plt.show()"
   ]
  },
  {
   "cell_type": "markdown",
   "metadata": {},
   "source": [
    "#### Saving to pickle file of Random Sampling Grid"
   ]
  },
  {
   "cell_type": "code",
   "execution_count": 745,
   "metadata": {},
   "outputs": [],
   "source": [
    "def random_grid(grid_sz_x=30, grid_sz_y=30):\n",
    "    # Hard coded patch size\n",
    "    X_coords = np.arange(np.random.randint(-160, -140), 128+160, grid_sz_x)\n",
    "    Y_coords = np.arange(np.random.randint(-160, -140), 128+160, grid_sz_y)\n",
    "    xv, yv = np.meshgrid(X_coords, Y_coords)\n",
    "    xv, yv = xv.flatten(), yv.flatten()\n",
    "\n",
    "    rot = np.deg2rad(np.random.randint(0, 50)) \n",
    "\n",
    "    xv_rot = (xv*np.cos(rot) + yv*np.sin(rot)).astype('int')\n",
    "    yv_rot = (yv*np.cos(rot) - xv*np.cos(rot)).astype('int')\n",
    "    mask2 = (xv_rot>0)&(xv_rot<128)&(yv_rot>0)&(yv_rot<128)\n",
    "\n",
    "    return xv_rot[mask2], yv_rot[mask2]"
   ]
  },
  {
   "cell_type": "code",
   "execution_count": 747,
   "metadata": {},
   "outputs": [],
   "source": [
    "dataset_list = {}\n",
    "xgrid, ygrid = 30, 4\n",
    "for i, file in enumerate(files):\n",
    "    filenm = file.split('/')[-1].replace('.nc', '')\n",
    "    xv, yv = random_grid(grid_sz_x=xgrid, grid_sz_y=ygrid)\n",
    "    dataset_list[filenm] = { 'x_idx': list(xv), 'y_idx': list(yv) }"
   ]
  },
  {
   "cell_type": "code",
   "execution_count": 748,
   "metadata": {},
   "outputs": [],
   "source": [
    "import pickle\n",
    "out_path = f'/Users/ayushg/Desktop/Courses/ML_GEO/mlgeo-2024-deep-snow/final_data/jack_subsets 2/dataset_index_{xgrid}_{ygrid}.pkl'\n",
    "with open(out_path, \"wb\") as fp:\n",
    "    pickle.dump(dataset_list, fp)"
   ]
  },
  {
   "cell_type": "code",
   "execution_count": 749,
   "metadata": {},
   "outputs": [],
   "source": [
    "# Read dictionary pkl file\n",
    "with open(out_path, 'rb') as fp:\n",
    "    dataset_idx = pickle.load(fp)"
   ]
  },
  {
   "cell_type": "code",
   "execution_count": 750,
   "metadata": {},
   "outputs": [
    {
     "name": "stdout",
     "output_type": "stream",
     "text": [
      "Max length of indices 160\n"
     ]
    }
   ],
   "source": [
    "lens = []\n",
    "for key in dataset_idx.keys():\n",
    "    xi = dataset_idx[key]['x_idx']\n",
    "    lens.append(len(xi))\n",
    "\n",
    "print(\"Max length of indices\", max(lens))"
   ]
  },
  {
   "cell_type": "markdown",
   "metadata": {},
   "source": [
    "## Training using Sparse Supervision"
   ]
  },
  {
   "cell_type": "markdown",
   "metadata": {},
   "source": [
    "#### Creating dataloader using sampling points\n",
    "\n",
    "We are going to sample the sparse points during training, while during test and validation we will be sampling the entire image to evaludate the performance on the entire image. "
   ]
  },
  {
   "cell_type": "code",
   "execution_count": 2,
   "metadata": {},
   "outputs": [],
   "source": [
    "norm_dict = {'aso_sd':[0, 25],\n",
    "             'vv':[-59, 30],\n",
    "             'vh':[-65, 17],\n",
    "             'cr':[-43, 16],\n",
    "             'delta_cr':[-33, 27],\n",
    "             'AOT':[0, 572],\n",
    "             'coastal':[0, 24304],\n",
    "             'blue':[0, 23371],\n",
    "             'green':[0, 26440],\n",
    "             'red':[0, 21576],\n",
    "             'red_edge1':[0, 20796],\n",
    "             'red_edge2':[0, 20432],\n",
    "             'red_edge3':[0, 20149],\n",
    "             'nir':[0, 21217],\n",
    "             'water_vapor':[0, 18199],\n",
    "             'swir1':[0, 17669],\n",
    "             'swir2':[0, 17936],\n",
    "             'scene_class_map':[0, 15],\n",
    "             'water_vapor_product':[0, 6518],\n",
    "             'elevation':[-100, 9000],\n",
    "             'aspect':[0, 360],\n",
    "             'slope':[0, 90],\n",
    "             'curvature':[-22, 22],\n",
    "             'tpi':[-164, 167],\n",
    "             'tri':[0, 913],\n",
    "             'latitude':[-90, 90],\n",
    "             'longitude':[-180, 180],\n",
    "             'dowy': [0, 365]}\n",
    "\n",
    "def compute_maxlen(out_path):\n",
    "    # Read dictionary pkl file\n",
    "    with open(out_path, 'rb') as fp:\n",
    "        dataset_idx = pickle.load(fp)\n",
    "    lens = []\n",
    "\n",
    "    for key in dataset_idx.keys():\n",
    "        xi = dataset_idx[key]['x_idx']\n",
    "        lens.append(len(xi))\n",
    "\n",
    "    return max(lens)\n",
    "\n",
    "\n",
    "# Process each file and normalize the relevant features\n",
    "def process_file(file_path):\n",
    "    ds = xr.open_dataset(file_path)\n",
    "    # Normalize features using the norm_dict\n",
    "    data_dict = {}\n",
    "    data_dict['latitude'] = calc_norm(torch.Tensor(ds['latitude'].values), norm_dict['latitude'])\n",
    "    data_dict['longitude'] = calc_norm(torch.Tensor(ds['longitude'].values), norm_dict['longitude'])\n",
    "    data_dict['elevation'] = calc_norm(torch.Tensor(ds['elevation'].values), norm_dict['elevation'])\n",
    "    data_dict['slope'] = calc_norm(torch.Tensor(ds['slope'].values), norm_dict['slope'])\n",
    "    data_dict['tri'] = calc_norm(torch.Tensor(ds['tri'].values), norm_dict['tri'])\n",
    "    data_dict['tpi'] = calc_norm(torch.Tensor(ds['tpi'].values), norm_dict['tpi'])\n",
    "    data_dict['dowy'] = calc_norm(torch.Tensor(ds['dowy'].values), norm_dict['dowy'])\n",
    "    # Reshape PC components to 2D\n",
    "    s1_pc1_2d = ds['s1_pc1'].values.reshape(128, 128)\n",
    "    s1_pc2_2d = ds['s1_pc2'].values.reshape(128, 128)\n",
    "    s2_pc1_2d = ds['s2_pc1'].values.reshape(128, 128)\n",
    "    s2_pc2_2d = ds['s2_pc2'].values.reshape(128, 128)\n",
    "    s2_pc3_2d = ds['s2_pc3'].values.reshape(128, 128)\n",
    "    # Stack normalized features\n",
    "    features = np.stack([\n",
    "        data_dict['elevation'].numpy(),\n",
    "        data_dict['slope'].numpy(),\n",
    "        data_dict['tri'].numpy(),\n",
    "        data_dict['tpi'].numpy(),\n",
    "        data_dict['latitude'].numpy(),\n",
    "        data_dict['longitude'].numpy(),\n",
    "        s1_pc1_2d,\n",
    "        s1_pc2_2d,\n",
    "        s2_pc1_2d,\n",
    "        s2_pc2_2d,\n",
    "        s2_pc3_2d,\n",
    "        data_dict['dowy'].numpy()\n",
    "    ], axis=0)\n",
    "    target = ds['aso_sd'].values\n",
    "    return features, target"
   ]
  },
  {
   "cell_type": "code",
   "execution_count": 1,
   "metadata": {},
   "outputs": [],
   "source": [
    "import pickle\n",
    "from torch.utils.data import DataLoader, Dataset\n",
    "\n",
    "# For computing mean and std for normalisation of snow_depth\n",
    "# And potentially using histogram distribution of these points for weighted loss (penalising the model more on less frequent values compared to more frequent values)\n",
    "def compute_train_mean_std(ds_train, num_samples=None, num_workers=8, batch_size=128, max_len=160, return_distribution=False, bin_edges=None, collate_fn=None):\n",
    "    \"\"\"\n",
    "    Compute training statistics (mean and standard deviation) per tensor channel (with channel axis=1).\n",
    "    Can be used for multi-channel inputs and single channel targets\n",
    "    Args:\n",
    "        ds_train: torch dataset\n",
    "        data_key: string name of torch tensor with shape (channels, height, width). (e.g. 'inputs', 'labels_mean')\n",
    "        num_samples: max number of patches used to calculate the statistics\n",
    "        num_workers: number of workers used in dataloader\n",
    "        return_distribution: bool, if True: returns the number of samples per bin\n",
    "        bin_edges: used to return the number of sampler per bin\n",
    "\n",
    "    Returns:\n",
    "        train_mean: numpy array with shape (channels,)\n",
    "        train_std: numpy array with shape (channels,)\n",
    "    \"\"\"\n",
    "    max_range = 1.7e308  # max range for float64\n",
    "\n",
    "    dl_train = DataLoader(ds_train, batch_size=32, shuffle=True, collate_fn=lambda b: collate_fn(b, False, True, max_len))\n",
    "\n",
    "    with torch.no_grad():\n",
    "        # get the dimensions from the first sample\n",
    "        for batch_idx, batch in enumerate(dl_train):\n",
    "            _, first_sample, _ = batch\n",
    "\n",
    "            _, channels, length = first_sample.unsqueeze(1).shape\n",
    "            break\n",
    "        print('channels, height, width: ', channels, length)\n",
    "    \n",
    "        # init torch tensors\n",
    "        sum_ = torch.zeros(channels, dtype=torch.float64)\n",
    "        sum_sq_ = torch.zeros(channels, dtype=torch.float64)\n",
    "        count_ = torch.zeros(1, dtype=torch.float64)  # assume equal count for each channel (image or labels)\n",
    "\n",
    "        if return_distribution:\n",
    "            if bin_edges is None:\n",
    "                bin_edges = np.arange(0, 101, 1)\n",
    "            bin_num_samples = np.zeros(len(bin_edges)-1, dtype=np.float64)\n",
    "\n",
    "        for batch_idx, batch in enumerate(tqdm(dl_train, ncols=100, desc='stats')):  # for each training step\n",
    "            \n",
    "            _, Y, index = batch\n",
    "            # stop when num_samples are sampled\n",
    "            if batch_idx >= int(num_samples/batch_size):\n",
    "                print('Loaded {} samples to compute channel statistics.'.format(num_samples))\n",
    "                break\n",
    "\n",
    "            sum_ = sum_ + torch.nansum(Y, axis=(0, 1))\n",
    "            sum_sq_ = sum_sq_ + torch.nansum((Y ** 2), axis=(0, 1))\n",
    "            count_ = count_ + torch.sum(~torch.isnan(Y[:, ...]))  # use the first channel because we want the count per channel to compute image channel statistics\n",
    "\n",
    "            if return_distribution:\n",
    "                hist, bin_edges = np.histogram(Y, bins=bin_edges)\n",
    "                bin_num_samples = bin_num_samples + hist\n",
    "\n",
    "            # check overflow\n",
    "            if torch.any(sum_sq_ >= max_range):\n",
    "                print('sum_sq_: ', sum_sq_)\n",
    "                raise OverflowError('sum_sq_ is too large')\n",
    "\n",
    "        train_mean = sum_ / count_\n",
    "        train_mean_sq_ = sum_sq_ / count_\n",
    "        train_std = torch.sqrt(train_mean_sq_ - train_mean ** 2)\n",
    "\n",
    "        # cast to numpy float32\n",
    "        train_mean = train_mean.cpu().numpy().astype(np.float32)\n",
    "        train_std = train_std.cpu().numpy().astype(np.float32)\n",
    "\n",
    "    if return_distribution:\n",
    "        return train_mean, train_std, bin_num_samples, bin_edges\n",
    "    else:\n",
    "        return train_mean, train_std\n",
    "        "
   ]
  },
  {
   "cell_type": "code",
   "execution_count": null,
   "metadata": {},
   "outputs": [],
   "source": [
    "def get_inverse_bin_frequency_weights(labels, bin_edges, bin_weights):\n",
    "    bin_indices = np.digitize(labels, bin_edges, right=False) - 1  # to start with index=0\n",
    "    bin_indices = np.clip(bin_indices, 0, len(bin_edges) - 2)\n",
    "   # handle nan labels: nans map to len()\n",
    "    nan_mask = np.isnan(labels)\n",
    "    bin_indices[nan_mask] = 0\n",
    "    # print(bin_indices, labels, bin_weights)\n",
    "    sample_weights = bin_weights[bin_indices].astype(np.float32)    \n",
    "    return sample_weights\n",
    "\n",
    "\n",
    "class SparseSnowDataset(Dataset):\n",
    "    \"\"\"Sparse Snow Depth dataset\"\"\"\n",
    "    def __init__(self, datapath, idx_filename, mode, get_target=False, get_weights=False, bin_edges=None, bin_weights=None):\n",
    "        self.datapath = datapath\n",
    "        self.data_files = glob(f'{datapath}/ncs/*.nc')\n",
    "\n",
    "        # Calculate the sizes for each split\n",
    "        train_size = int(0.7 * len(self.data_files))  # 70% for training\n",
    "        test_size = int(0.2 * len(self.data_files))   # 20% for testing\n",
    "        val_size = len(self.data_files) - train_size - test_size  # Remaining 10% for validation\n",
    "\n",
    "        # Setting modes\n",
    "        if mode=='train':\n",
    "            self.data_files = self.data_files[:train_size]\n",
    "        elif mode=='test':\n",
    "            self.data_files = self.data_files[train_size:train_size + test_size]\n",
    "        elif mode=='val':\n",
    "            self.data_files = self.data_files[train_size + test_size:]\n",
    "\n",
    "        # Read dictionary pkl file\n",
    "        with open(f'{datapath}/{idx_filename}', 'rb') as fp:\n",
    "            self.dataset_idx = pickle.load(fp)\n",
    "\n",
    "        self.data_file_name = {}\n",
    "        for file in tqdm(self.data_files):\n",
    "            features, target = process_file(file)\n",
    "            self.data_file_name[file] = {'features': features, 'target': target}\n",
    "\n",
    "        self.get_target = get_target\n",
    "        self.get_weights = get_weights\n",
    "        if get_weights:\n",
    "            self.bin_edges = bin_edges\n",
    "            self.bin_weights = bin_weights\n",
    "\n",
    "    def __len__(self):\n",
    "        return len(self.data_files)\n",
    "    \n",
    "    def __getitem__(self, index):\n",
    "        file_name = self.data_files[index]\n",
    "        features, target = self.data_file_name[file_name]['features'], self.data_file_name[file_name]['target']\n",
    "        # features, target = process_file(file_name)\n",
    "        xy_grid = self.dataset_idx[file_name.split('/')[-1].replace('.nc', '')]\n",
    "        x_idx, y_idx = xy_grid['x_idx'], xy_grid['y_idx']\n",
    "        index = np.array((np.array(y_idx) * features.shape[-1]) + np.array(x_idx))\n",
    "        if self.get_target:\n",
    "            target = torch.gather(torch.flatten(torch.tensor(target), start_dim=0), 0, torch.tensor(index))\n",
    "            if self.get_weights:\n",
    "                sample_weights = get_inverse_bin_frequency_weights(target, self.bin_edges, self.bin_weights)\n",
    "                return features, target, index, sample_weights\n",
    "\n",
    "        return features, target, index"
   ]
  },
  {
   "cell_type": "code",
   "execution_count": 5,
   "metadata": {},
   "outputs": [],
   "source": [
    "MAX_IDX_LENGTH = 25\n",
    "\n",
    "def collate_fn(batch, get_weights=False, get_target=False, max_length=160):\n",
    "    features  = []\n",
    "    targets = []\n",
    "    idxs = []\n",
    "    weights = []\n",
    "    for batch_ele in batch:\n",
    "        if get_weights:\n",
    "            feature, target, idx, weight = batch_ele\n",
    "        else:\n",
    "            feature, target, idx = batch_ele\n",
    "\n",
    "        features.append(feature)\n",
    "        padding = max_length - idx.shape[0]\n",
    "        if padding > 0:\n",
    "            idxs.append(F.pad(torch.tensor(idx), (0, padding), \"constant\", 0))\n",
    "            if get_weights:\n",
    "                weights.append(F.pad(torch.tensor(weight), (0, padding), \"constant\", 0))\n",
    "            if get_target:\n",
    "                targets.append(F.pad(target, (0, padding), \"constant\", 0))\n",
    "            else:\n",
    "                targets.append(torch.tensor(target, dtype=torch.float))\n",
    "        else:\n",
    "            idxs.append(torch.tensor(idx))\n",
    "            if get_weights:\n",
    "                weights.append(torch.tensor(weight))\n",
    "            if get_target:\n",
    "                targets.append(torch.tensor(target))\n",
    "            else:\n",
    "                targets.append(torch.tensor(target, dtype=torch.float))\n",
    "    \n",
    "    if get_weights:\n",
    "        return torch.tensor(features, dtype=torch.float), torch.stack(targets), torch.stack(idxs), torch.stack(weights)\n",
    "    if get_target:\n",
    "        return torch.tensor(features, dtype=torch.float), torch.stack(targets), torch.stack(idxs)\n",
    "    else:\n",
    "        return torch.tensor(features, dtype=torch.float), torch.stack(targets)\n"
   ]
  },
  {
   "cell_type": "code",
   "execution_count": null,
   "metadata": {},
   "outputs": [
    {
     "name": "stderr",
     "output_type": "stream",
     "text": [
      "100%|██████████| 2478/2478 [02:39<00:00, 15.55it/s]\n",
      "/var/folders/q7/4r0lxc6j59lf_bjt9p2p0y8h0000gp/T/ipykernel_1275/2111274140.py:29: UserWarning: To copy construct from a tensor, it is recommended to use sourceTensor.clone().detach() or sourceTensor.clone().detach().requires_grad_(True), rather than torch.tensor(sourceTensor).\n",
      "  targets.append(torch.tensor(target))\n",
      "/var/folders/q7/4r0lxc6j59lf_bjt9p2p0y8h0000gp/T/ipykernel_1275/2111274140.py:36: UserWarning: Creating a tensor from a list of numpy.ndarrays is extremely slow. Please consider converting the list to a single numpy.ndarray with numpy.array() before converting to a tensor. (Triggered internally at /Users/runner/work/_temp/anaconda/conda-bld/pytorch_1729646995093/work/torch/csrc/utils/tensor_new.cpp:281.)\n",
      "  return torch.tensor(features, dtype=torch.float), torch.stack(targets), torch.stack(idxs)\n"
     ]
    },
    {
     "name": "stdout",
     "output_type": "stream",
     "text": [
      "channels, height, width:  1 160\n"
     ]
    },
    {
     "name": "stderr",
     "output_type": "stream",
     "text": [
      "stats:  24%|█████████████▋                                          | 19/78 [00:18<00:57,  1.03it/s]\n"
     ]
    },
    {
     "name": "stdout",
     "output_type": "stream",
     "text": [
      "Loaded 2478 samples to compute channel statistics.\n"
     ]
    },
    {
     "name": "stderr",
     "output_type": "stream",
     "text": [
      "100%|██████████| 2478/2478 [03:29<00:00, 11.84it/s] \n",
      "100%|██████████| 354/354 [00:22<00:00, 15.90it/s]\n",
      "100%|██████████| 708/708 [00:45<00:00, 15.59it/s]\n"
     ]
    }
   ],
   "source": [
    "# Creating train, validation, and test dataloaders\n",
    "data_path = '/Users/ayushg/Desktop/Courses/ML_GEO/mlgeo-2024-deep-snow/final_data/jack_subsets 2'\n",
    "idx_fn = 'dataset_index_30_4.pkl'\n",
    "\n",
    "max_len = compute_maxlen(f'{data_path}/{idx_fn}')\n",
    "train_snow_dataset = SparseSnowDataset(data_path, idx_fn, 'train', get_target=True)\n",
    "target_mean, target_std, bin_num_samples, bin_edges = compute_train_mean_std(train_snow_dataset, max_len=max_len, bin_edges=np.arange(0, 6, 0.5), num_samples=len(train_snow_dataset), return_distribution=True, collate_fn=collate_fn)\n",
    "bin_weights = np.sqrt(1/bin_num_samples)/np.sqrt(1/bin_num_samples).sum()\n",
    "\n",
    "train_snow_dataset = SparseSnowDataset(data_path, idx_fn, 'train', get_target=True, get_weights=True, bin_edges=bin_edges, bin_weights=bin_weights)\n",
    "val_snow_dataset = SparseSnowDataset(data_path, idx_fn, 'val', get_target=False, get_weights=False)\n",
    "test_snow_dataset = SparseSnowDataset(data_path, idx_fn, 'test', get_target=False, get_weights=False)\n",
    "\n",
    "# # Create data loaders\n",
    "train_loader = DataLoader(train_snow_dataset, batch_size=32, shuffle=True, collate_fn=lambda b: collate_fn(b, True, True, max_len))\n",
    "test_loader = DataLoader(test_snow_dataset, batch_size=32, shuffle=False, collate_fn=lambda b: collate_fn(b, False, False, max_len))\n",
    "val_loader = DataLoader(val_snow_dataset, batch_size=32, shuffle=False, collate_fn=lambda b: collate_fn(b, False, False, max_len))"
   ]
  },
  {
   "cell_type": "markdown",
   "metadata": {},
   "source": [
    "### Model Architecture\n",
    "\n",
    "We are just picking a simple CNN for evaluating if sparse supervision helps or not."
   ]
  },
  {
   "cell_type": "code",
   "execution_count": 7,
   "metadata": {},
   "outputs": [],
   "source": [
    "class SnowDepthCNN(nn.Module):\n",
    "    def __init__(self):\n",
    "        super(SnowDepthCNN, self).__init__()\n",
    "        # First conv layer: (12, 128, 128) -> (32, 128, 128)\n",
    "        self.conv1 = nn.Conv2d(in_channels=12, out_channels=32, kernel_size=3, padding=1)\n",
    "        self.relu = nn.ReLU()\n",
    "        # Second conv layer: (32, 128, 128) -> (16, 128, 128)\n",
    "        self.conv2 = nn.Conv2d(in_channels=32, out_channels=16, kernel_size=3, padding=1)\n",
    "        # Final conv layer: (16, 128, 128) -> (1, 128, 128)\n",
    "        self.pred = nn.Conv2d(in_channels=16, out_channels=1, kernel_size=1)\n",
    "        self.var = nn.Sequential(nn.Conv2d(in_channels=16, out_channels=1, kernel_size=1),\n",
    "                                 nn.ReLU(inplace=False))\n",
    "\n",
    "    def forward(self, x):\n",
    "        x = self.relu(self.conv1(x))\n",
    "        x = self.relu(self.conv2(x))\n",
    "        pred = self.pred(x)\n",
    "        var = self.var(x)\n",
    "        return pred.squeeze(1), var.squeeze(1)  # Remove channel dimension to match target shape"
   ]
  },
  {
   "cell_type": "code",
   "execution_count": null,
   "metadata": {},
   "outputs": [],
   "source": [
    "class GaussianNLL(nn.Module):\n",
    "    \"\"\"\n",
    "    Gaussian negative log likelihood to fit the mean and variance to p(y|x)\n",
    "    Note: We estimate the heteroscedastic variance. Hence, we include the var_i of sample i in the sum\n",
    "    over all samples N. Furthermore, the constant log term is discarded.\n",
    "    \"\"\"\n",
    "    def __init__(self, reduction='mean'):\n",
    "        super(GaussianNLL, self).__init__()\n",
    "        self.eps = 1e-8\n",
    "        self.reduction = reduction\n",
    "\n",
    "    def __call__(self, prediction, variance, target, mask=None):\n",
    "        variance = variance + self.eps\n",
    "        if self.reduction == 'mean':\n",
    "            return torch.mean((0.5 / variance * (prediction - target)**2 + 0.5 * torch.log(variance))[~mask])\n",
    "        elif self.reduction == 'none':\n",
    "            return 0.5 / variance * (prediction - target)**2 + 0.5 * torch.log(variance)\n",
    "\n",
    "\n",
    "class SparseMAE(nn.Module):\n",
    "    def __init__(self, reduction='mean'):\n",
    "        super(SparseMAE, self).__init__()\n",
    "        self.reduction = reduction\n",
    "\n",
    "    def __call__(self, prediction, variance, target, mask):\n",
    "        if self.reduction == 'mean':\n",
    "            return torch.mean(F.l1_loss(prediction, target, reduction='none')[~mask])\n",
    "        elif self.reduction == 'none':\n",
    "            return F.l1_loss(prediction, target, reduction='none')\n",
    "\n",
    "\n",
    "class SampleWeightedLoss(nn.Module):\n",
    "    '''\n",
    "    Weighted loss are computed to account for the class imbalance in data\n",
    "    Less frequent values are penalized more compared to more frequent values\n",
    "    '''\n",
    "    def __init__(self, loss_key='MAE', norm_batch=True):\n",
    "        super(SampleWeightedLoss, self).__init__()\n",
    "        self.loss_key = loss_key\n",
    "\n",
    "        if loss_key == 'MSE':\n",
    "            self.loss_fun = torch.nn.MSELoss(reduction='none')\n",
    "        elif loss_key == 'MAE':\n",
    "            self.loss_fun = torch.nn.L1Loss(reduction='none')\n",
    "        elif loss_key == 'GNLL':\n",
    "            self.loss_fun = GaussianNLL(reduction='none')\n",
    "        else:\n",
    "            raise ValueError('Sample weighted loss is not yet implemented for loss_key={}'.format(loss_key))\n",
    "\n",
    "    def __call__(self, output, target, sample_weights=None, variance=None, mask=None):\n",
    "        if self.loss_key!='GNLL':\n",
    "            loss_values = self.loss_fun(output, target)\n",
    "        else:\n",
    "            loss_values = self.loss_fun(output, variance, target)\n",
    "        \n",
    "        if mask is None:\n",
    "            loss = torch.mul(loss_values, sample_weights)[~mask].sum()\n",
    "        else:\n",
    "            loss = loss_values.mean()\n",
    "        return loss"
   ]
  },
  {
   "cell_type": "code",
   "execution_count": 796,
   "metadata": {},
   "outputs": [],
   "source": [
    "def train_and_evaluate_model(model, train_loader, val_loader, test_loader, criterion_train, criterion_test, optimizer, num_epochs, device, norm_mean, norm_std):\n",
    "    \"\"\"\n",
    "    Train, validate, and test the model.\n",
    "\n",
    "    Args:\n",
    "        model (nn.Module): The PyTorch model to train and evaluate.\n",
    "        train_loader (DataLoader): DataLoader for the training dataset.\n",
    "        val_loader (DataLoader): DataLoader for the validation dataset.\n",
    "        test_loader (DataLoader): DataLoader for the test dataset.\n",
    "        criterion (Loss): The loss function.\n",
    "        optimizer (Optimizer): The optimizer for model training.\n",
    "        num_epochs (int): Number of training epochs.\n",
    "        device (torch.device): Device to use for computation.\n",
    "\n",
    "    Returns:\n",
    "        tuple: A tuple containing training losses, validation losses, and final test loss.\n",
    "    \"\"\"\n",
    "    train_losses = []\n",
    "    val_losses = []\n",
    "    get_weight = True\n",
    "    norm_std = torch.tensor(norm_std).to(device)\n",
    "    norm_mean = torch.tensor(norm_mean).to(device)\n",
    "    for epoch in range(num_epochs):\n",
    "        # Training\n",
    "        model.train()\n",
    "        train_loss = 0\n",
    "        for batch in tqdm(train_loader, desc=f'Epoch {epoch+1}'):\n",
    "            if get_weight:\n",
    "                features, targets, index, weights = batch\n",
    "                features, targets, index, weights = features.to(device), targets.to(device), index.to(device), weights.to(device)\n",
    "\n",
    "            targets = (targets - norm_mean)/norm_std\n",
    "            \n",
    "            optimizer.zero_grad()\n",
    "            preds, variances = model(features)\n",
    "\n",
    "            # Getting sparse elements from array\n",
    "            mask = (index[:,:]<=0)\n",
    "            sparse_pred = torch.gather(torch.flatten(preds, start_dim=1), 1, index)\n",
    "            sparse_var = torch.gather(torch.flatten(variances, start_dim=1), 1, index)\n",
    "            # sparse_target = torch.gather(torch.flatten(targets, start_dim=1), 1, index)\n",
    "\n",
    "            loss = criterion_train(sparse_pred, targets, weights, sparse_var, mask=mask)\n",
    "            loss.backward()\n",
    "            optimizer.step()\n",
    "            train_loss += loss.item()\n",
    "        \n",
    "        # Validation\n",
    "        # It can be performed on entire target data (ASO Snow Depth)\n",
    "        model.eval()\n",
    "        val_loss = 0\n",
    "        with torch.no_grad():\n",
    "            for features, targets in val_loader:\n",
    "                features, targets = features.to(device), targets.to(device)\n",
    "                outputs, _ = model(features)\n",
    "                outputs = outputs*norm_std + norm_mean\n",
    "                val_loss += criterion_test(outputs, targets).item()\n",
    "        \n",
    "        # Compute average losses\n",
    "        avg_train_loss = train_loss / len(train_loader)\n",
    "        avg_val_loss = val_loss / len(val_loader)\n",
    "        train_losses.append(avg_train_loss)\n",
    "        val_losses.append(avg_val_loss)\n",
    "\n",
    "        print(f'Epoch [{epoch+1}/{num_epochs}]')\n",
    "        print(f'Training Loss: {avg_train_loss:.4f}')\n",
    "        print(f'Validation Loss: {avg_val_loss:.4f}')\n",
    "    \n",
    "    # Testing\n",
    "    model.eval()\n",
    "    test_loss = 0\n",
    "    with torch.no_grad():\n",
    "        for features, targets in test_loader:\n",
    "            features, targets = features.to(device), targets.to(device)\n",
    "            \n",
    "            outputs, _ = model(features)\n",
    "            test_loss += criterion_test(outputs, targets).item()\n",
    "\n",
    "    final_test_loss = test_loss / len(test_loader)\n",
    "    print(f'\\nFinal Test Loss: {final_test_loss:.4f}')\n",
    "\n",
    "    return train_losses, val_losses, final_test_loss"
   ]
  },
  {
   "cell_type": "code",
   "execution_count": null,
   "metadata": {},
   "outputs": [
    {
     "name": "stdout",
     "output_type": "stream",
     "text": [
      "mps\n"
     ]
    },
    {
     "name": "stderr",
     "output_type": "stream",
     "text": [
      "Epoch 1:   4%|▍         | 3/78 [00:02<01:01,  1.22it/s]/var/folders/q7/4r0lxc6j59lf_bjt9p2p0y8h0000gp/T/ipykernel_21442/2111274140.py:29: UserWarning: To copy construct from a tensor, it is recommended to use sourceTensor.clone().detach() or sourceTensor.clone().detach().requires_grad_(True), rather than torch.tensor(sourceTensor).\n",
      "  targets.append(torch.tensor(target))\n",
      "Epoch 1: 100%|██████████| 78/78 [01:02<00:00,  1.26it/s]\n"
     ]
    },
    {
     "name": "stdout",
     "output_type": "stream",
     "text": [
      "Epoch [1/10]\n",
      "Training Loss: 4009622087.2051\n",
      "Validation Loss: 0.8237\n"
     ]
    },
    {
     "name": "stderr",
     "output_type": "stream",
     "text": [
      "Epoch 2: 100%|██████████| 78/78 [01:02<00:00,  1.25it/s]\n"
     ]
    },
    {
     "name": "stdout",
     "output_type": "stream",
     "text": [
      "Epoch [2/10]\n",
      "Training Loss: 443236.6814\n",
      "Validation Loss: 0.8235\n"
     ]
    },
    {
     "name": "stderr",
     "output_type": "stream",
     "text": [
      "Epoch 3: 100%|██████████| 78/78 [01:01<00:00,  1.26it/s]\n"
     ]
    },
    {
     "name": "stdout",
     "output_type": "stream",
     "text": [
      "Epoch [3/10]\n",
      "Training Loss: 983.4651\n",
      "Validation Loss: 0.8235\n"
     ]
    },
    {
     "name": "stderr",
     "output_type": "stream",
     "text": [
      "Epoch 4: 100%|██████████| 78/78 [01:01<00:00,  1.26it/s]\n"
     ]
    },
    {
     "name": "stdout",
     "output_type": "stream",
     "text": [
      "Epoch [4/10]\n",
      "Training Loss: 947.4884\n",
      "Validation Loss: 0.8235\n"
     ]
    },
    {
     "name": "stderr",
     "output_type": "stream",
     "text": [
      "Epoch 5: 100%|██████████| 78/78 [01:01<00:00,  1.26it/s]\n"
     ]
    },
    {
     "name": "stdout",
     "output_type": "stream",
     "text": [
      "Epoch [5/10]\n",
      "Training Loss: 944.2229\n",
      "Validation Loss: 0.8235\n"
     ]
    },
    {
     "name": "stderr",
     "output_type": "stream",
     "text": [
      "Epoch 6: 100%|██████████| 78/78 [01:02<00:00,  1.26it/s]\n"
     ]
    },
    {
     "name": "stdout",
     "output_type": "stream",
     "text": [
      "Epoch [6/10]\n",
      "Training Loss: 940.0411\n",
      "Validation Loss: 0.8234\n"
     ]
    },
    {
     "name": "stderr",
     "output_type": "stream",
     "text": [
      "Epoch 7: 100%|██████████| 78/78 [01:01<00:00,  1.27it/s]\n"
     ]
    },
    {
     "name": "stdout",
     "output_type": "stream",
     "text": [
      "Epoch [7/10]\n",
      "Training Loss: 935.4200\n",
      "Validation Loss: 0.8234\n"
     ]
    },
    {
     "name": "stderr",
     "output_type": "stream",
     "text": [
      "Epoch 8: 100%|██████████| 78/78 [01:01<00:00,  1.26it/s]\n"
     ]
    },
    {
     "name": "stdout",
     "output_type": "stream",
     "text": [
      "Epoch [8/10]\n",
      "Training Loss: 930.2187\n",
      "Validation Loss: 0.8234\n"
     ]
    },
    {
     "name": "stderr",
     "output_type": "stream",
     "text": [
      "Epoch 9: 100%|██████████| 78/78 [01:02<00:00,  1.25it/s]\n"
     ]
    },
    {
     "name": "stdout",
     "output_type": "stream",
     "text": [
      "Epoch [9/10]\n",
      "Training Loss: 924.6778\n",
      "Validation Loss: 0.8234\n"
     ]
    },
    {
     "name": "stderr",
     "output_type": "stream",
     "text": [
      "Epoch 10: 100%|██████████| 78/78 [01:02<00:00,  1.25it/s]\n"
     ]
    },
    {
     "name": "stdout",
     "output_type": "stream",
     "text": [
      "Epoch [10/10]\n",
      "Training Loss: 918.7305\n",
      "Validation Loss: 0.8234\n",
      "\n",
      "Final Test Loss: 0.6409\n"
     ]
    }
   ],
   "source": [
    "model = SnowDepthCNN()\n",
    "\n",
    "loss_sample = SampleWeightedLoss(loss_key='GNLL')\n",
    "loss_mae = nn.L1Loss()\n",
    "\n",
    "optimizer = torch.optim.Adam(model.parameters(), lr=0.001)\n",
    "num_epochs = 10\n",
    "device = torch.device(\"mps\" if torch.backends.mps.is_available() else \"cpu\")\n",
    "# device = 'cpu'\n",
    "model = model.to(device)\n",
    "print(device)\n",
    "\n",
    "train_losses2, val_losses2, test_loss2 = train_and_evaluate_model(\n",
    "    model=model.to(device),\n",
    "    train_loader=train_loader,\n",
    "    val_loader=val_loader,  \n",
    "    test_loader=test_loader,\n",
    "    criterion_train=loss_sample,\n",
    "    criterion_test=loss_mae,\n",
    "    optimizer=optimizer,\n",
    "    num_epochs=num_epochs,\n",
    "    device=device,\n",
    "    norm_mean=target_mean, norm_std=target_std\n",
    ")"
   ]
  }
 ],
 "metadata": {
  "kernelspec": {
   "display_name": "deep-snow",
   "language": "python",
   "name": "python3"
  },
  "language_info": {
   "codemirror_mode": {
    "name": "ipython",
    "version": 3
   },
   "file_extension": ".py",
   "mimetype": "text/x-python",
   "name": "python",
   "nbconvert_exporter": "python",
   "pygments_lexer": "ipython3",
   "version": "3.12.7"
  }
 },
 "nbformat": 4,
 "nbformat_minor": 2
}
