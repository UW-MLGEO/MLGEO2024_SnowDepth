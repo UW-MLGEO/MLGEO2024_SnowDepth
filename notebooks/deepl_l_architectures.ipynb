{
 "cells": [
  {
   "cell_type": "markdown",
   "metadata": {},
   "source": [
    "# Below are explorations of deep learning architectures and the results we use in our final writeup"
   ]
  },
  {
   "cell_type": "code",
   "execution_count": 1,
   "metadata": {},
   "outputs": [],
   "source": [
    "import numpy as np\n",
    "import matplotlib.pyplot as plt\n",
    "import torch\n",
    "from glob import glob\n",
    "import seaborn as sns\n",
    "import torch.nn as nn\n",
    "import torch.optim as optim\n",
    "import torch.nn.functional as F\n",
    "import xarray as xr\n",
    "import rasterio as rio\n",
    "import rioxarray\n",
    "import math\n",
    "from sklearn.preprocessing import RobustScaler\n",
    "from sklearn.decomposition import PCA\n",
    "import pandas as pd\n",
    "import os\n",
    "\n",
    "import deep_snow.models\n",
    "from deep_snow.dataset import norm_dict\n",
    "from deep_snow.utils import calc_norm, undo_norm, calc_dowy\n",
    "from tqdm import tqdm\n",
    "import shutil"
   ]
  },
  {
   "cell_type": "code",
   "execution_count": 2,
   "metadata": {},
   "outputs": [
    {
     "data": {
      "text/plain": [
       "3540"
      ]
     },
     "execution_count": 2,
     "metadata": {},
     "output_type": "execute_result"
    }
   ],
   "source": [
    "# we see the directory below contains our ai-ready data\n",
    "files = glob(\"/mnt/c/Users/Jacke/uw/courses/aut24/ml_geo/jack_subsets/ncs/*.nc\")\n",
    "len(files)"
   ]
  },
  {
   "cell_type": "markdown",
   "metadata": {},
   "source": [
    "# Model Architecture Exploration"
   ]
  },
  {
   "cell_type": "code",
   "execution_count": 3,
   "metadata": {},
   "outputs": [],
   "source": [
    "# first, let's just create a basic data pipeline to feed into a standard CNN\n",
    "from torch.utils.data import DataLoader, TensorDataset, random_split\n",
    "from deep_snow.dataset import norm_dict\n",
    "from deep_snow.utils import calc_norm, undo_norm"
   ]
  },
  {
   "cell_type": "code",
   "execution_count": null,
   "metadata": {},
   "outputs": [],
   "source": [
    "# global mins and maxes for scaling\n",
    "norm_dict = {'aso_sd':[0, 25],\n",
    "             'vv':[-59, 30],\n",
    "             'vh':[-65, 17],\n",
    "             'cr':[-43, 16],\n",
    "             'delta_cr':[-33, 27],\n",
    "             'AOT':[0, 572],\n",
    "             'coastal':[0, 24304],\n",
    "             'blue':[0, 23371],\n",
    "             'green':[0, 26440],\n",
    "             'red':[0, 21576],\n",
    "             'red_edge1':[0, 20796],\n",
    "             'red_edge2':[0, 20432],\n",
    "             'red_edge3':[0, 20149],\n",
    "             'nir':[0, 21217],\n",
    "             'water_vapor':[0, 18199],\n",
    "             'swir1':[0, 17669],\n",
    "             'swir2':[0, 17936],\n",
    "             'scene_class_map':[0, 15],\n",
    "             'water_vapor_product':[0, 6518],\n",
    "             'elevation':[-100, 9000],\n",
    "             'aspect':[0, 360],\n",
    "             'slope':[0, 90],\n",
    "             'curvature':[-22, 22],\n",
    "             'tpi':[-164, 167],\n",
    "             'tri':[0, 913],\n",
    "             'latitude':[-90, 90],\n",
    "             'longitude':[-180, 180],\n",
    "             'dowy': [0, 365]}"
   ]
  },
  {
   "cell_type": "code",
   "execution_count": 5,
   "metadata": {},
   "outputs": [],
   "source": [
    "# Process each file and normalize the relevant features\n",
    "def process_file(file_path):\n",
    "    ds = xr.open_dataset(file_path)\n",
    "    # Normalize features using the norm_dict\n",
    "    data_dict = {}\n",
    "    data_dict['latitude'] = calc_norm(torch.Tensor(ds['latitude'].values), norm_dict['latitude'])\n",
    "    data_dict['longitude'] = calc_norm(torch.Tensor(ds['longitude'].values), norm_dict['longitude'])\n",
    "    data_dict['elevation'] = calc_norm(torch.Tensor(ds['elevation'].values), norm_dict['elevation'])\n",
    "    data_dict['slope'] = calc_norm(torch.Tensor(ds['slope'].values), norm_dict['slope'])\n",
    "    data_dict['tri'] = calc_norm(torch.Tensor(ds['tri'].values), norm_dict['tri'])\n",
    "    data_dict['tpi'] = calc_norm(torch.Tensor(ds['tpi'].values), norm_dict['tpi'])\n",
    "    data_dict['dowy'] = calc_norm(torch.Tensor(ds['dowy'].values), norm_dict['dowy'])\n",
    "    data_dict['fcf'] = torch.Tensor(ds['fcf'].values)\n",
    "    # Reshape PC components to 2D\n",
    "    s1_pc1_2d = ds['s1_pc1'].values.reshape(128, 128)\n",
    "    s1_pc2_2d = ds['s1_pc2'].values.reshape(128, 128)\n",
    "    s2_pc1_2d = ds['s2_pc1'].values.reshape(128, 128)\n",
    "    s2_pc2_2d = ds['s2_pc2'].values.reshape(128, 128)\n",
    "    s2_pc3_2d = ds['s2_pc3'].values.reshape(128, 128)\n",
    "    # Stack normalized features\n",
    "    features = np.stack([\n",
    "        data_dict['elevation'].numpy(),\n",
    "        data_dict['slope'].numpy(),\n",
    "        data_dict['tri'].numpy(),\n",
    "        data_dict['tpi'].numpy(),\n",
    "        data_dict['latitude'].numpy(),\n",
    "        data_dict['longitude'].numpy(),\n",
    "        s1_pc1_2d,\n",
    "        s1_pc2_2d,\n",
    "        s2_pc1_2d,\n",
    "        s2_pc2_2d,\n",
    "        s2_pc3_2d,\n",
    "        data_dict['fcf'].numpy(),\n",
    "        data_dict['dowy'].numpy()\n",
    "    ], axis=0)\n",
    "    target = ds['aso_sd'].values\n",
    "    return features, target\n",
    "\n",
    "# Create datasets and data loaders\n",
    "def create_dataset(file_list):\n",
    "    features_list = []\n",
    "    targets_list = []\n",
    "    for file in file_list:\n",
    "        features, target = process_file(file)\n",
    "        features_list.append(torch.FloatTensor(features))\n",
    "        targets_list.append(torch.FloatTensor(target))\n",
    "    features_tensor = torch.stack(features_list)\n",
    "    targets_tensor = torch.stack(targets_list)\n",
    "    return TensorDataset(features_tensor, targets_tensor)"
   ]
  },
  {
   "cell_type": "code",
   "execution_count": 6,
   "metadata": {},
   "outputs": [],
   "source": [
    "import random\n",
    "# Split files into train, test, and validation sets\n",
    "random.shuffle(files)\n",
    "files_subset = files[:]\n",
    "# Calculate the sizes for each split\n",
    "train_size = int(0.7 * len(files_subset))  # 70% for training\n",
    "test_size = int(0.2 * len(files_subset))   # 20% for testing\n",
    "val_size = len(files_subset) - train_size - test_size  # Remaining 10% for validation\n",
    "# Create the splits\n",
    "train_files = files_subset[:train_size]\n",
    "test_files = files_subset[train_size:train_size + test_size]\n",
    "val_files = files_subset[train_size + test_size:]\n",
    "# Create datasets\n",
    "train_dataset = create_dataset(train_files)\n",
    "test_dataset = create_dataset(test_files)\n",
    "val_dataset = create_dataset(val_files)\n",
    "\n",
    "# Create data loaders\n",
    "train_loader = DataLoader(train_dataset, batch_size=32, shuffle=True)\n",
    "test_loader = DataLoader(test_dataset, batch_size=32, shuffle=False)\n",
    "val_loader = DataLoader(val_dataset, batch_size=32, shuffle=False)"
   ]
  },
  {
   "cell_type": "code",
   "execution_count": 11,
   "metadata": {},
   "outputs": [
    {
     "name": "stdout",
     "output_type": "stream",
     "text": [
      "Training batch shapes:\n",
      "Features: torch.Size([32, 13, 128, 128])\n",
      "Targets: torch.Size([32, 128, 128])\n",
      "\n",
      "Test batch shapes:\n",
      "Features: torch.Size([32, 13, 128, 128])\n",
      "Targets: torch.Size([32, 128, 128])\n",
      "\n",
      "Validation batch shapes:\n",
      "Features: torch.Size([32, 13, 128, 128])\n",
      "Targets: torch.Size([32, 128, 128])\n"
     ]
    }
   ],
   "source": [
    "# Print shapes for training loader\n",
    "for features, targets in train_loader:\n",
    "    print(\"Training batch shapes:\")\n",
    "    print(f\"Features: {features.shape}\")\n",
    "    print(f\"Targets: {targets.shape}\")\n",
    "    break\n",
    "# Print shapes for test loader\n",
    "for features, targets in test_loader:\n",
    "    print(\"\\nTest batch shapes:\")\n",
    "    print(f\"Features: {features.shape}\")\n",
    "    print(f\"Targets: {targets.shape}\")\n",
    "    break\n",
    "# Print shapes for validation loader\n",
    "for features, targets in val_loader:\n",
    "    print(\"\\nValidation batch shapes:\")\n",
    "    print(f\"Features: {features.shape}\")\n",
    "    print(f\"Targets: {targets.shape}\")\n",
    "    break"
   ]
  },
  {
   "cell_type": "code",
   "execution_count": 8,
   "metadata": {},
   "outputs": [],
   "source": [
    "class SnowDepthCNN(nn.Module):\n",
    "    def __init__(self):\n",
    "        super(SnowDepthCNN, self).__init__()\n",
    "        # First conv layer: (12, 128, 128) -> (32, 128, 128)\n",
    "        self.conv1 = nn.Conv2d(in_channels=13, out_channels=32, kernel_size=3, padding=1)\n",
    "        self.relu = nn.ReLU()\n",
    "        # Second conv layer: (32, 128, 128) -> (16, 128, 128)\n",
    "        self.conv2 = nn.Conv2d(in_channels=32, out_channels=16, kernel_size=3, padding=1)\n",
    "        # Final conv layer: (16, 128, 128) -> (1, 128, 128)\n",
    "        self.conv3 = nn.Conv2d(in_channels=16, out_channels=1, kernel_size=1)\n",
    "    def forward(self, x):\n",
    "        x = self.relu(self.conv1(x))\n",
    "        x = self.relu(self.conv2(x))\n",
    "        x = self.conv3(x)\n",
    "        return x.squeeze(1)  # Remove channel dimension to match target shape"
   ]
  },
  {
   "cell_type": "code",
   "execution_count": 7,
   "metadata": {},
   "outputs": [],
   "source": [
    "def train_and_evaluate_model(model, train_loader, val_loader, test_loader, criterion, optimizer, num_epochs, device):\n",
    "    \"\"\"\n",
    "    Train, validate, and test the model.\n",
    "\n",
    "    Args:\n",
    "        model (nn.Module): The PyTorch model to train and evaluate.\n",
    "        train_loader (DataLoader): DataLoader for the training dataset.\n",
    "        val_loader (DataLoader): DataLoader for the validation dataset.\n",
    "        test_loader (DataLoader): DataLoader for the test dataset.\n",
    "        criterion (Loss): The loss function.\n",
    "        optimizer (Optimizer): The optimizer for model training.\n",
    "        num_epochs (int): Number of training epochs.\n",
    "        device (torch.device): Device to use for computation.\n",
    "\n",
    "    Returns:\n",
    "        tuple: A tuple containing training losses, validation losses, and final test loss.\n",
    "    \"\"\"\n",
    "    train_losses = []\n",
    "    val_losses = []\n",
    "\n",
    "    for epoch in range(num_epochs):\n",
    "        # Training\n",
    "        model.train()\n",
    "        train_loss = 0\n",
    "        for features, targets in tqdm(train_loader, desc=f'Epoch {epoch+1}'):\n",
    "            features, targets = features.to(device), targets.to(device)\n",
    "            optimizer.zero_grad()\n",
    "            outputs = model(features)\n",
    "            loss = criterion(outputs, targets)\n",
    "            loss.backward()\n",
    "            optimizer.step()\n",
    "            train_loss += loss.item()\n",
    "        \n",
    "        # Validation\n",
    "        model.eval()\n",
    "        val_loss = 0\n",
    "        with torch.no_grad():\n",
    "            for features, targets in val_loader:\n",
    "                features, targets = features.to(device), targets.to(device)\n",
    "                outputs = model(features)\n",
    "                val_loss += criterion(outputs, targets).item()\n",
    "        \n",
    "        # Compute average losses\n",
    "        avg_train_loss = train_loss / len(train_loader)\n",
    "        avg_val_loss = val_loss / len(val_loader)\n",
    "        train_losses.append(avg_train_loss)\n",
    "        val_losses.append(avg_val_loss)\n",
    "\n",
    "        print(f'Epoch [{epoch+1}/{num_epochs}]')\n",
    "        print(f'Training Loss: {avg_train_loss:.4f}')\n",
    "        print(f'Validation Loss: {avg_val_loss:.4f}')\n",
    "    \n",
    "    # Testing\n",
    "    model.eval()\n",
    "    test_loss = 0\n",
    "    with torch.no_grad():\n",
    "        for features, targets in test_loader:\n",
    "            features, targets = features.to(device), targets.to(device)\n",
    "            outputs = model(features)\n",
    "            test_loss += criterion(outputs, targets).item()\n",
    "\n",
    "    final_test_loss = test_loss / len(test_loader)\n",
    "    print(f'\\nFinal Test Loss: {final_test_loss:.4f}')\n",
    "\n",
    "    return train_losses, val_losses, final_test_loss"
   ]
  },
  {
   "cell_type": "code",
   "execution_count": null,
   "metadata": {},
   "outputs": [
    {
     "name": "stderr",
     "output_type": "stream",
     "text": [
      "Epoch 1: 100%|██████████| 78/78 [00:14<00:00,  5.32it/s]\n"
     ]
    },
    {
     "name": "stdout",
     "output_type": "stream",
     "text": [
      "Epoch [1/10]\n",
      "Training Loss: 1.4825\n",
      "Validation Loss: 1.5835\n"
     ]
    },
    {
     "name": "stderr",
     "output_type": "stream",
     "text": [
      "Epoch 2: 100%|██████████| 78/78 [00:16<00:00,  4.83it/s]\n"
     ]
    },
    {
     "name": "stdout",
     "output_type": "stream",
     "text": [
      "Epoch [2/10]\n",
      "Training Loss: 1.1928\n",
      "Validation Loss: 0.8901\n"
     ]
    },
    {
     "name": "stderr",
     "output_type": "stream",
     "text": [
      "Epoch 3: 100%|██████████| 78/78 [00:14<00:00,  5.56it/s]\n"
     ]
    },
    {
     "name": "stdout",
     "output_type": "stream",
     "text": [
      "Epoch [3/10]\n",
      "Training Loss: 0.9605\n",
      "Validation Loss: 0.8445\n"
     ]
    },
    {
     "name": "stderr",
     "output_type": "stream",
     "text": [
      "Epoch 4: 100%|██████████| 78/78 [00:16<00:00,  4.85it/s]\n"
     ]
    },
    {
     "name": "stdout",
     "output_type": "stream",
     "text": [
      "Epoch [4/10]\n",
      "Training Loss: 0.6583\n",
      "Validation Loss: 0.8170\n"
     ]
    },
    {
     "name": "stderr",
     "output_type": "stream",
     "text": [
      "Epoch 5: 100%|██████████| 78/78 [00:14<00:00,  5.37it/s]\n"
     ]
    },
    {
     "name": "stdout",
     "output_type": "stream",
     "text": [
      "Epoch [5/10]\n",
      "Training Loss: 0.6441\n",
      "Validation Loss: 0.7998\n"
     ]
    },
    {
     "name": "stderr",
     "output_type": "stream",
     "text": [
      "Epoch 6: 100%|██████████| 78/78 [00:14<00:00,  5.34it/s]\n"
     ]
    },
    {
     "name": "stdout",
     "output_type": "stream",
     "text": [
      "Epoch [6/10]\n",
      "Training Loss: 0.6282\n",
      "Validation Loss: 0.7824\n"
     ]
    },
    {
     "name": "stderr",
     "output_type": "stream",
     "text": [
      "Epoch 7: 100%|██████████| 78/78 [00:15<00:00,  4.92it/s]\n"
     ]
    },
    {
     "name": "stdout",
     "output_type": "stream",
     "text": [
      "Epoch [7/10]\n",
      "Training Loss: 0.6072\n",
      "Validation Loss: 0.7557\n"
     ]
    },
    {
     "name": "stderr",
     "output_type": "stream",
     "text": [
      "Epoch 8: 100%|██████████| 78/78 [00:14<00:00,  5.43it/s]\n"
     ]
    },
    {
     "name": "stdout",
     "output_type": "stream",
     "text": [
      "Epoch [8/10]\n",
      "Training Loss: 0.5887\n",
      "Validation Loss: 0.7359\n"
     ]
    },
    {
     "name": "stderr",
     "output_type": "stream",
     "text": [
      "Epoch 9: 100%|██████████| 78/78 [00:16<00:00,  4.74it/s]\n"
     ]
    },
    {
     "name": "stdout",
     "output_type": "stream",
     "text": [
      "Epoch [9/10]\n",
      "Training Loss: 0.5753\n",
      "Validation Loss: 0.7121\n"
     ]
    },
    {
     "name": "stderr",
     "output_type": "stream",
     "text": [
      "Epoch 10: 100%|██████████| 78/78 [00:14<00:00,  5.47it/s]\n"
     ]
    },
    {
     "name": "stdout",
     "output_type": "stream",
     "text": [
      "Epoch [10/10]\n",
      "Training Loss: 0.5649\n",
      "Validation Loss: 0.6964\n",
      "\n",
      "Final Test Loss: 0.5653\n"
     ]
    }
   ],
   "source": [
    "# Initialize model\n",
    "model = SnowDepthCNN()\n",
    "# Loss function: MAE is appropriate for continuous regression problems like snow depth\n",
    "criterion = nn.L1Loss()\n",
    "num_epochs = 10\n",
    "device = torch.device(\"cuda\" if torch.cuda.is_available() else \"cpu\")\n",
    "optimizer = torch.optim.Adam(model.parameters(), lr=0.001)\n",
    "num_epochs = 10\n",
    "# Call the function\n",
    "train_losses, val_losses, test_loss = train_and_evaluate_model(\n",
    "    model=model,\n",
    "    train_loader=train_loader,\n",
    "    val_loader=val_loader,\n",
    "    test_loader=test_loader,\n",
    "    criterion=criterion,\n",
    "    optimizer=optimizer,\n",
    "    num_epochs=num_epochs,\n",
    "    device=device\n",
    ")"
   ]
  },
  {
   "cell_type": "code",
   "execution_count": null,
   "metadata": {},
   "outputs": [],
   "source": [
    "# great, we have a basic CNN implemented\n",
    "# now let's explore other architectures for a preliminary search for the best architecture for our problem"
   ]
  },
  {
   "cell_type": "code",
   "execution_count": 12,
   "metadata": {},
   "outputs": [],
   "source": [
    "# Process each file and normalize the relevant features\n",
    "def process_file(file_path):\n",
    "    ds = xr.open_dataset(file_path)\n",
    "    # Normalize features using the norm_dict\n",
    "    data_dict = {}\n",
    "    data_dict['latitude'] = calc_norm(torch.Tensor(ds['latitude'].values), norm_dict['latitude'])\n",
    "    data_dict['longitude'] = calc_norm(torch.Tensor(ds['longitude'].values), norm_dict['longitude'])\n",
    "    data_dict['elevation'] = calc_norm(torch.Tensor(ds['elevation'].values), norm_dict['elevation'])\n",
    "    data_dict['slope'] = calc_norm(torch.Tensor(ds['slope'].values), norm_dict['slope'])\n",
    "    data_dict['tri'] = calc_norm(torch.Tensor(ds['tri'].values), norm_dict['tri'])\n",
    "    data_dict['tpi'] = calc_norm(torch.Tensor(ds['tpi'].values), norm_dict['tpi'])\n",
    "    data_dict['dowy'] = calc_norm(torch.Tensor(ds['dowy'].values), norm_dict['dowy'])\n",
    "    data_dict['fcf'] = torch.Tensor(ds['fcf'].values)\n",
    "    # Reshape PC components to 2D\n",
    "    s1_pc1_2d = ds['s1_pc1'].values.reshape(128, 128)\n",
    "    s1_pc2_2d = ds['s1_pc2'].values.reshape(128, 128)\n",
    "    s2_pc1_2d = ds['s2_pc1'].values.reshape(128, 128)\n",
    "    s2_pc2_2d = ds['s2_pc2'].values.reshape(128, 128)\n",
    "    s2_pc3_2d = ds['s2_pc3'].values.reshape(128, 128)\n",
    "    # Stack normalized features\n",
    "    features = np.stack([\n",
    "        data_dict['elevation'].numpy(),\n",
    "        data_dict['slope'].numpy(),\n",
    "        data_dict['tri'].numpy(),\n",
    "        data_dict['tpi'].numpy(),\n",
    "        data_dict['latitude'].numpy(),\n",
    "        data_dict['longitude'].numpy(),\n",
    "        s1_pc1_2d,\n",
    "        s1_pc2_2d,\n",
    "        s2_pc1_2d,\n",
    "        s2_pc2_2d,\n",
    "        s2_pc3_2d,\n",
    "        data_dict['fcf'].numpy(),\n",
    "        data_dict['dowy'].numpy()\n",
    "    ], axis=0)\n",
    "    target = ds['aso_sd'].values\n",
    "    # Add channel dimension to target\n",
    "    target = target[np.newaxis, ...]  # This makes it (1, 128, 128)\n",
    "    return features, target\n",
    "\n",
    "# Create datasets and data loaders\n",
    "def create_dataset(file_list):\n",
    "    features_list = []\n",
    "    targets_list = []\n",
    "    for file in file_list:\n",
    "        features, target = process_file(file)\n",
    "        features_list.append(torch.FloatTensor(features))\n",
    "        targets_list.append(torch.FloatTensor(target))\n",
    "    features_tensor = torch.stack(features_list)\n",
    "    targets_tensor = torch.stack(targets_list)\n",
    "    return TensorDataset(features_tensor, targets_tensor)\n",
    "import random\n",
    "# Split files into train, test, and validation sets\n",
    "random.shuffle(files)\n",
    "files_subset = files[:]\n",
    "# Calculate the sizes for each split\n",
    "train_size = int(0.7 * len(files_subset))  # 70% for training\n",
    "test_size = int(0.2 * len(files_subset))   # 20% for testing\n",
    "val_size = len(files_subset) - train_size - test_size  # Remaining 10% for validation\n",
    "# Create the splits\n",
    "train_files = files_subset[:train_size]\n",
    "test_files = files_subset[train_size:train_size + test_size]\n",
    "val_files = files_subset[train_size + test_size:]\n",
    "# Create datasets\n",
    "train_dataset = create_dataset(train_files)\n",
    "test_dataset = create_dataset(test_files)\n",
    "val_dataset = create_dataset(val_files)\n",
    "\n",
    "# Create data loaders\n",
    "train_loader = DataLoader(train_dataset, batch_size=32, shuffle=True)\n",
    "test_loader = DataLoader(test_dataset, batch_size=32, shuffle=False)\n",
    "val_loader = DataLoader(val_dataset, batch_size=32, shuffle=False)"
   ]
  },
  {
   "cell_type": "code",
   "execution_count": null,
   "metadata": {},
   "outputs": [],
   "source": [
    "class UNet(nn.Module):\n",
    "    def __init__(self, in_channels=13, out_channels=1):\n",
    "        super(UNet, self).__init__()\n",
    "        # Encoding path\n",
    "        self.enc1 = self.contract_block(in_channels, 64, 3)\n",
    "        self.enc2 = self.contract_block(64, 128, 3)\n",
    "        # Bottleneck\n",
    "        self.bottleneck = self.contract_block(128, 256, 3)\n",
    "        # Decoding path\n",
    "        self.dec2 = self.expand_block(256, 128, 3)\n",
    "        self.dec1 = self.expand_block(128, 64, 3)\n",
    "        # Final output layer\n",
    "        self.final = nn.Conv2d(64, out_channels, kernel_size=1)\n",
    "    def contract_block(self, in_channels, out_channels, kernel_size):\n",
    "        return nn.Sequential(\n",
    "            nn.Conv2d(in_channels, out_channels, kernel_size, padding=1),\n",
    "            nn.ReLU(),\n",
    "            nn.Conv2d(out_channels, out_channels, kernel_size, padding=1),\n",
    "            nn.ReLU(),\n",
    "            nn.MaxPool2d(kernel_size=2)\n",
    "        )\n",
    "\n",
    "    def expand_block(self, in_channels, out_channels, kernel_size):\n",
    "        return nn.Sequential(\n",
    "            nn.Conv2d(in_channels, out_channels, kernel_size, padding=1),\n",
    "            nn.ReLU(),\n",
    "            nn.Conv2d(out_channels, out_channels, kernel_size, padding=1),\n",
    "            nn.ReLU(),\n",
    "            nn.ConvTranspose2d(out_channels, out_channels, kernel_size=2, stride=2)\n",
    "        )\n",
    "    def forward(self, x):\n",
    "        # Encoding\n",
    "        enc1 = self.enc1(x)\n",
    "        enc2 = self.enc2(enc1)\n",
    "        bottleneck = self.bottleneck(enc2)\n",
    "        dec2 = self.dec2(bottleneck)\n",
    "        dec1 = self.dec1(dec2)\n",
    "        output = self.final(dec1)\n",
    "        # Resize the output to match the input size\n",
    "        return F.interpolate(output, size=(x.size(2), x.size(3)), mode='bilinear', align_corners=False)"
   ]
  },
  {
   "cell_type": "code",
   "execution_count": 15,
   "metadata": {},
   "outputs": [],
   "source": [
    "class UNet(nn.Module):\n",
    "    def __init__(self, in_channels=13, out_channels=1):\n",
    "        super(UNet, self).__init__()\n",
    "        \n",
    "        # Encoding path\n",
    "        self.enc1 = nn.Sequential(\n",
    "            nn.Conv2d(in_channels, 64, kernel_size=3, padding=1),\n",
    "            nn.ReLU(),\n",
    "            nn.Conv2d(64, 64, kernel_size=3, padding=1),\n",
    "            nn.ReLU()\n",
    "        )\n",
    "        \n",
    "        self.enc2 = nn.Sequential(\n",
    "            nn.MaxPool2d(kernel_size=2),\n",
    "            nn.Conv2d(64, 128, kernel_size=3, padding=1),\n",
    "            nn.ReLU(),\n",
    "            nn.Conv2d(128, 128, kernel_size=3, padding=1),\n",
    "            nn.ReLU()\n",
    "        )\n",
    "        \n",
    "        # Bottleneck\n",
    "        self.bottleneck = nn.Sequential(\n",
    "            nn.MaxPool2d(kernel_size=2),\n",
    "            nn.Conv2d(128, 256, kernel_size=3, padding=1),\n",
    "            nn.ReLU(),\n",
    "            nn.Conv2d(256, 256, kernel_size=3, padding=1),\n",
    "            nn.ReLU()\n",
    "        )\n",
    "        \n",
    "        # Decoding path\n",
    "        self.upsample2 = nn.ConvTranspose2d(256, 128, kernel_size=2, stride=2)\n",
    "        self.dec2 = nn.Sequential(\n",
    "            nn.Conv2d(128, 128, kernel_size=3, padding=1),\n",
    "            nn.ReLU(),\n",
    "            nn.Conv2d(128, 128, kernel_size=3, padding=1),\n",
    "            nn.ReLU()\n",
    "        )\n",
    "        \n",
    "        self.upsample1 = nn.ConvTranspose2d(128, 64, kernel_size=2, stride=2)\n",
    "        self.dec1 = nn.Sequential(\n",
    "            nn.Conv2d(64, 64, kernel_size=3, padding=1),\n",
    "            nn.ReLU(),\n",
    "            nn.Conv2d(64, 64, kernel_size=3, padding=1),\n",
    "            nn.ReLU()\n",
    "        )\n",
    "        \n",
    "        self.final = nn.Conv2d(64, out_channels, kernel_size=1)\n",
    "    \n",
    "    def forward(self, x):\n",
    "        # Encoding\n",
    "        enc1 = self.enc1(x)\n",
    "        enc2 = self.enc2(enc1)\n",
    "        \n",
    "        # Bottleneck\n",
    "        bottleneck = self.bottleneck(enc2)\n",
    "        \n",
    "        # Decoding\n",
    "        dec2 = self.upsample2(bottleneck)\n",
    "        dec2 = self.dec2(dec2)\n",
    "        \n",
    "        dec1 = self.upsample1(dec2)\n",
    "        dec1 = self.dec1(dec1)\n",
    "        \n",
    "        output = self.final(dec1)\n",
    "        return output"
   ]
  },
  {
   "cell_type": "code",
   "execution_count": 16,
   "metadata": {},
   "outputs": [
    {
     "name": "stderr",
     "output_type": "stream",
     "text": [
      "Epoch 1: 100%|██████████| 78/78 [04:44<00:00,  3.65s/it]\n"
     ]
    },
    {
     "name": "stdout",
     "output_type": "stream",
     "text": [
      "Epoch [1/10]\n",
      "Training Loss: 0.6563\n",
      "Validation Loss: 0.6168\n"
     ]
    },
    {
     "name": "stderr",
     "output_type": "stream",
     "text": [
      "Epoch 2: 100%|██████████| 78/78 [05:01<00:00,  3.86s/it]\n"
     ]
    },
    {
     "name": "stdout",
     "output_type": "stream",
     "text": [
      "Epoch [2/10]\n",
      "Training Loss: 0.6472\n",
      "Validation Loss: 0.6156\n"
     ]
    },
    {
     "name": "stderr",
     "output_type": "stream",
     "text": [
      "Epoch 3: 100%|██████████| 78/78 [05:00<00:00,  3.86s/it]\n"
     ]
    },
    {
     "name": "stdout",
     "output_type": "stream",
     "text": [
      "Epoch [3/10]\n",
      "Training Loss: 0.5967\n",
      "Validation Loss: 0.5878\n"
     ]
    },
    {
     "name": "stderr",
     "output_type": "stream",
     "text": [
      "Epoch 4: 100%|██████████| 78/78 [04:42<00:00,  3.62s/it]\n"
     ]
    },
    {
     "name": "stdout",
     "output_type": "stream",
     "text": [
      "Epoch [4/10]\n",
      "Training Loss: 0.5704\n",
      "Validation Loss: 0.5742\n"
     ]
    },
    {
     "name": "stderr",
     "output_type": "stream",
     "text": [
      "Epoch 5: 100%|██████████| 78/78 [05:05<00:00,  3.91s/it]\n"
     ]
    },
    {
     "name": "stdout",
     "output_type": "stream",
     "text": [
      "Epoch [5/10]\n",
      "Training Loss: 0.5521\n",
      "Validation Loss: 0.5489\n"
     ]
    },
    {
     "name": "stderr",
     "output_type": "stream",
     "text": [
      "Epoch 6: 100%|██████████| 78/78 [05:12<00:00,  4.00s/it]\n"
     ]
    },
    {
     "name": "stdout",
     "output_type": "stream",
     "text": [
      "Epoch [6/10]\n",
      "Training Loss: 0.5338\n",
      "Validation Loss: 0.5438\n"
     ]
    },
    {
     "name": "stderr",
     "output_type": "stream",
     "text": [
      "Epoch 7: 100%|██████████| 78/78 [04:41<00:00,  3.62s/it]\n"
     ]
    },
    {
     "name": "stdout",
     "output_type": "stream",
     "text": [
      "Epoch [7/10]\n",
      "Training Loss: 0.5144\n",
      "Validation Loss: 0.5457\n"
     ]
    },
    {
     "name": "stderr",
     "output_type": "stream",
     "text": [
      "Epoch 8: 100%|██████████| 78/78 [04:55<00:00,  3.79s/it]\n"
     ]
    },
    {
     "name": "stdout",
     "output_type": "stream",
     "text": [
      "Epoch [8/10]\n",
      "Training Loss: 0.5068\n",
      "Validation Loss: 0.5306\n"
     ]
    },
    {
     "name": "stderr",
     "output_type": "stream",
     "text": [
      "Epoch 9: 100%|██████████| 78/78 [05:03<00:00,  3.89s/it]\n"
     ]
    },
    {
     "name": "stdout",
     "output_type": "stream",
     "text": [
      "Epoch [9/10]\n",
      "Training Loss: 0.5072\n",
      "Validation Loss: 0.5373\n"
     ]
    },
    {
     "name": "stderr",
     "output_type": "stream",
     "text": [
      "Epoch 10: 100%|██████████| 78/78 [05:08<00:00,  3.95s/it]\n"
     ]
    },
    {
     "name": "stdout",
     "output_type": "stream",
     "text": [
      "Epoch [10/10]\n",
      "Training Loss: 0.4946\n",
      "Validation Loss: 0.5230\n",
      "\n",
      "Final Test Loss: 0.4867\n"
     ]
    }
   ],
   "source": [
    "device = torch.device(\"cuda\" if torch.cuda.is_available() else \"cpu\")\n",
    "model = UNet().to(device)\n",
    "criterion = nn.L1Loss()\n",
    "optimizer = torch.optim.Adam(model.parameters(), lr=0.001)\n",
    "num_epochs = 10\n",
    "train_losses, val_losses, test_loss = train_and_evaluate_model(\n",
    "    model=model,\n",
    "    train_loader=train_loader,\n",
    "    val_loader=val_loader,\n",
    "    test_loader=test_loader,\n",
    "    criterion=criterion,\n",
    "    optimizer=optimizer,\n",
    "    num_epochs=num_epochs,\n",
    "    device=device\n",
    ")"
   ]
  },
  {
   "cell_type": "code",
   "execution_count": 42,
   "metadata": {},
   "outputs": [
    {
     "data": {
      "image/png": "[encoded data removed]",
      "text/plain": [
       "<Figure size 1200x800 with 1 Axes>"
      ]
     },
     "metadata": {},
     "output_type": "display_data"
    }
   ],
   "source": [
    "fig, ax = plt.subplots(figsize=(12, 8))\n",
    "plt.plot(train_losses, label='Training Loss')\n",
    "plt.plot(val_losses, label='Validation Loss')\n",
    "plt.xlabel('Epoch')\n",
    "plt.ylabel('Loss')\n",
    "plt.grid(False)\n",
    "plt.title('Training and Validation Loss Over Time')\n",
    "plt.legend()\n",
    "plt.savefig(\"/mnt/c/Users/JackE/uw/courses/aut24/ml_geo/unet_loss.png\", bbox_inches='tight', dpi=300)\n",
    "plt.show()"
   ]
  },
  {
   "cell_type": "code",
   "execution_count": 43,
   "metadata": {},
   "outputs": [
    {
     "data": {
      "image/png": "[encoded data removed]",
      "text/plain": [
       "<Figure size 1500x500 with 12 Axes>"
      ]
     },
     "metadata": {},
     "output_type": "display_data"
    }
   ],
   "source": [
    "import random\n",
    "import matplotlib.pyplot as plt\n",
    "#random.seed(42)\n",
    "# Get a batch of test data\n",
    "input, target = next(iter(test_loader))\n",
    "\n",
    "# Generate predictions\n",
    "pred = model(input.to(device))\n",
    "pred = pred.squeeze()  # Remove channel dimension\n",
    "pred = pred.detach().cpu().numpy()  # Convert to numpy array\n",
    "\n",
    "# Ensure target is the right shape\n",
    "target = target.squeeze()  # Remove channel dimension if present\n",
    "target = target.numpy()  # Convert to numpy array\n",
    "\n",
    "# Visualization\n",
    "N = 6\n",
    "idxs = random.sample(range(pred.shape[0]), N)\n",
    "fig, axs = plt.subplots(2, N, figsize=(15, 5), squeeze=True)\n",
    "\n",
    "for i, idx in enumerate(idxs):\n",
    "    axs[0, i].imshow(pred[idx], cmap='Blues')\n",
    "    axs[1, i].imshow(target[idx], cmap='Blues')\n",
    "    \n",
    "    # Add titles\n",
    "    axs[0, i].set_title('Predicted')\n",
    "    axs[1, i].set_title('Ground Truth')\n",
    "\n",
    "for axi in axs:\n",
    "    for ax in axi:\n",
    "        ax.set_xticks([])\n",
    "        ax.set_yticks([])\n",
    "\n",
    "plt.suptitle(\"Initial UNet Predictions vs Ground Truth\")\n",
    "plt.tight_layout()\n",
    "plt.savefig(\"/mnt/c/Users/JackE/uw/courses/aut24/ml_geo/unet_preds.png\", bbox_inches='tight', dpi=300)\n",
    "plt.show()"
   ]
  },
  {
   "cell_type": "code",
   "execution_count": 21,
   "metadata": {},
   "outputs": [
    {
     "data": {
      "text/plain": [
       "torch.Size([32, 13, 128, 128])"
      ]
     },
     "execution_count": 21,
     "metadata": {},
     "output_type": "execute_result"
    }
   ],
   "source": [
    "input.shape"
   ]
  },
  {
   "cell_type": "code",
   "execution_count": null,
   "metadata": {},
   "outputs": [],
   "source": [
    "# hmm doesn't seem to be doing particularly well but we see there's an error in our loss function\n",
    "# that being said, we'll write off the UNet for this assignment as that took 30 minutes to run\n",
    "# and we'll have to do a lot of hyperparameter tuning for this assignement\n",
    "\n",
    "# in the real world, I'd correct this error and proceed again, but given the time constraints, I'll move on\n",
    "# we'd be sitting here for a lot more hours than necessary if we were to correct the UNet and tune the hyperparameters on that model"
   ]
  },
  {
   "cell_type": "code",
   "execution_count": 13,
   "metadata": {},
   "outputs": [],
   "source": [
    "# our third architecture to explore will be a resnet\n",
    "class ResidualBlock(nn.Module):\n",
    "    def __init__(self, in_channels, out_channels, kernel_size=3):\n",
    "        super(ResidualBlock, self).__init__()\n",
    "        self.conv1 = nn.Conv2d(in_channels, out_channels, kernel_size, padding=1)\n",
    "        self.relu = nn.ReLU()\n",
    "        self.conv2 = nn.Conv2d(out_channels, out_channels, kernel_size, padding=1)\n",
    "        self.shortcut = (\n",
    "            nn.Conv2d(in_channels, out_channels, kernel_size=1)\n",
    "            if in_channels != out_channels\n",
    "            else nn.Identity()\n",
    "        )\n",
    "    def forward(self, x):\n",
    "        shortcut = self.shortcut(x)\n",
    "        x = self.relu(self.conv1(x))\n",
    "        x = self.conv2(x)\n",
    "        return self.relu(x + shortcut)\n",
    "class ResNetSnowDepth(nn.Module):\n",
    "    def __init__(self):\n",
    "        super(ResNetSnowDepth, self).__init__()\n",
    "        # Initial convolution: (13, 128, 128) -> (32, 128, 128)\n",
    "        self.initial_conv = nn.Conv2d(13, 32, kernel_size=3, padding=1)\n",
    "        self.relu = nn.ReLU()\n",
    "        # Residual blocks\n",
    "        self.res1 = ResidualBlock(32, 64)  # (32, 128, 128) -> (64, 128, 128)\n",
    "        self.res2 = ResidualBlock(64, 128)  # (64, 128, 128) -> (128, 128, 128)\n",
    "        self.res3 = ResidualBlock(128, 64)  # (128, 128, 128) -> (64, 128, 128)\n",
    "        # Output layer: (64, 128, 128) -> (1, 128, 128)\n",
    "        self.output_conv = nn.Conv2d(64, 1, kernel_size=1)\n",
    "    def forward(self, x):\n",
    "        x = self.relu(self.initial_conv(x))\n",
    "        x = self.res1(x)\n",
    "        x = self.res2(x)\n",
    "        x = self.res3(x)\n",
    "        x = self.output_conv(x)\n",
    "        return x.squeeze(1)  # Remove channel dimension to match target shape"
   ]
  },
  {
   "cell_type": "code",
   "execution_count": 14,
   "metadata": {},
   "outputs": [
    {
     "name": "stderr",
     "output_type": "stream",
     "text": [
      "Epoch 1:   0%|          | 0/78 [00:00<?, ?it/s]"
     ]
    },
    {
     "name": "stderr",
     "output_type": "stream",
     "text": [
      "Epoch 1: 100%|██████████| 78/78 [05:44<00:00,  4.41s/it]\n"
     ]
    },
    {
     "name": "stdout",
     "output_type": "stream",
     "text": [
      "Epoch [1/10]\n",
      "Training Loss: 0.7284\n",
      "Validation Loss: 0.8139\n"
     ]
    },
    {
     "name": "stderr",
     "output_type": "stream",
     "text": [
      "Epoch 2: 100%|██████████| 78/78 [06:02<00:00,  4.64s/it]\n"
     ]
    },
    {
     "name": "stdout",
     "output_type": "stream",
     "text": [
      "Epoch [2/10]\n",
      "Training Loss: 0.6154\n",
      "Validation Loss: 0.7910\n"
     ]
    },
    {
     "name": "stderr",
     "output_type": "stream",
     "text": [
      "Epoch 3: 100%|██████████| 78/78 [06:03<00:00,  4.66s/it]\n"
     ]
    },
    {
     "name": "stdout",
     "output_type": "stream",
     "text": [
      "Epoch [3/10]\n",
      "Training Loss: 0.5923\n",
      "Validation Loss: 0.7241\n"
     ]
    },
    {
     "name": "stderr",
     "output_type": "stream",
     "text": [
      "Epoch 4: 100%|██████████| 78/78 [06:02<00:00,  4.65s/it]\n"
     ]
    },
    {
     "name": "stdout",
     "output_type": "stream",
     "text": [
      "Epoch [4/10]\n",
      "Training Loss: 0.5758\n",
      "Validation Loss: 0.7488\n"
     ]
    },
    {
     "name": "stderr",
     "output_type": "stream",
     "text": [
      "Epoch 5: 100%|██████████| 78/78 [06:01<00:00,  4.63s/it]\n"
     ]
    },
    {
     "name": "stdout",
     "output_type": "stream",
     "text": [
      "Epoch [5/10]\n",
      "Training Loss: 0.5608\n",
      "Validation Loss: 0.6550\n"
     ]
    },
    {
     "name": "stderr",
     "output_type": "stream",
     "text": [
      "Epoch 6: 100%|██████████| 78/78 [05:58<00:00,  4.59s/it]\n"
     ]
    },
    {
     "name": "stdout",
     "output_type": "stream",
     "text": [
      "Epoch [6/10]\n",
      "Training Loss: 0.5297\n",
      "Validation Loss: 0.6006\n"
     ]
    },
    {
     "name": "stderr",
     "output_type": "stream",
     "text": [
      "Epoch 7: 100%|██████████| 78/78 [06:03<00:00,  4.66s/it]\n"
     ]
    },
    {
     "name": "stdout",
     "output_type": "stream",
     "text": [
      "Epoch [7/10]\n",
      "Training Loss: 0.5322\n",
      "Validation Loss: 0.6852\n"
     ]
    },
    {
     "name": "stderr",
     "output_type": "stream",
     "text": [
      "Epoch 8: 100%|██████████| 78/78 [06:07<00:00,  4.71s/it]\n"
     ]
    },
    {
     "name": "stdout",
     "output_type": "stream",
     "text": [
      "Epoch [8/10]\n",
      "Training Loss: 0.5158\n",
      "Validation Loss: 0.5812\n"
     ]
    },
    {
     "name": "stderr",
     "output_type": "stream",
     "text": [
      "Epoch 9: 100%|██████████| 78/78 [06:05<00:00,  4.69s/it]\n"
     ]
    },
    {
     "name": "stdout",
     "output_type": "stream",
     "text": [
      "Epoch [9/10]\n",
      "Training Loss: 0.5045\n",
      "Validation Loss: 0.5814\n"
     ]
    },
    {
     "name": "stderr",
     "output_type": "stream",
     "text": [
      "Epoch 10: 100%|██████████| 78/78 [06:03<00:00,  4.66s/it]\n"
     ]
    },
    {
     "name": "stdout",
     "output_type": "stream",
     "text": [
      "Epoch [10/10]\n",
      "Training Loss: 0.4985\n",
      "Validation Loss: 0.6400\n",
      "\n",
      "Final Test Loss: 0.5247\n"
     ]
    }
   ],
   "source": [
    "model = ResNetSnowDepth()\n",
    "model = model.to(device)\n",
    "criterion = nn.L1Loss()\n",
    "optimizer = torch.optim.Adam(model.parameters(), lr=0.001)\n",
    "train_losses, val_losses, test_loss = train_and_evaluate_model(\n",
    "    model=model,\n",
    "    train_loader=train_loader,\n",
    "    val_loader=val_loader,\n",
    "    test_loader=test_loader,\n",
    "    criterion=criterion,\n",
    "    optimizer=optimizer,\n",
    "    num_epochs=num_epochs,\n",
    "    device=device\n",
    ")"
   ]
  },
  {
   "cell_type": "code",
   "execution_count": null,
   "metadata": {},
   "outputs": [],
   "source": [
    "# above we see that the ResNet model is the best performing model and quite promising, but we also see that it takes\n",
    "# over an hour to run a simple ResNet architecture as opposed to 30 minutes for a U-net and 3 minutes for a \n",
    "# basic CNN.\n",
    "# 1 hour isn't a long runtime at all, but given that this is for a homework assignemnt that requires hyperparameter tuning\n",
    "# we'll proceed with the simple CNN architecture rather than the ResNet architecture so we don't have to wait a lot of hours for \n",
    "# hyperparameter tuning. Running ResNet tuning overnight will be interesting, and something to explore, but for the sake of the assingment\n",
    "# deadline, we can't risk an error or bug interrupting this"
   ]
  },
  {
   "cell_type": "markdown",
   "metadata": {},
   "source": [
    "#### Parameter Tuning"
   ]
  },
  {
   "cell_type": "code",
   "execution_count": 17,
   "metadata": {},
   "outputs": [],
   "source": [
    "# let's change our train and eval model function to get rid of print statements\n",
    "def train_and_evaluate_model(model, train_loader, val_loader, test_loader, criterion, optimizer, num_epochs, device, verbose=True):\n",
    "    \"\"\"\n",
    "    Train, validate, and test the model.\n",
    "\n",
    "    Args:\n",
    "        model (nn.Module): The PyTorch model to train and evaluate.\n",
    "        train_loader (DataLoader): DataLoader for the training dataset.\n",
    "        val_loader (DataLoader): DataLoader for the validation dataset.\n",
    "        test_loader (DataLoader): DataLoader for the test dataset.\n",
    "        criterion (Loss): The loss function.\n",
    "        optimizer (Optimizer): The optimizer for model training.\n",
    "        num_epochs (int): Number of training epochs.\n",
    "        device (torch.device): Device to use for computation.\n",
    "        verbose (bool): Whether to print detailed progress for each epoch.\n",
    "\n",
    "    Returns:\n",
    "        tuple: A tuple containing training losses, validation losses, and final test loss.\n",
    "    \"\"\"\n",
    "    train_losses = []\n",
    "    val_losses = []\n",
    "\n",
    "    for epoch in range(num_epochs):\n",
    "        # Training\n",
    "        model.train()\n",
    "        train_loss = 0\n",
    "        for features, targets in train_loader:\n",
    "            features, targets = features.to(device), targets.to(device)\n",
    "            optimizer.zero_grad()\n",
    "            outputs = model(features).squeeze(1)\n",
    "            loss = criterion(outputs, targets)\n",
    "            loss.backward()\n",
    "            optimizer.step()\n",
    "            train_loss += loss.item()\n",
    "        \n",
    "        # Validation\n",
    "        model.eval()\n",
    "        val_loss = 0\n",
    "        with torch.no_grad():\n",
    "            for features, targets in val_loader:\n",
    "                features, targets = features.to(device), targets.to(device)\n",
    "                outputs = model(features)\n",
    "                val_loss += criterion(outputs, targets).item()\n",
    "        \n",
    "        # Compute average losses\n",
    "        avg_train_loss = train_loss / len(train_loader)\n",
    "        avg_val_loss = val_loss / len(val_loader)\n",
    "        train_losses.append(avg_train_loss)\n",
    "        val_losses.append(avg_val_loss)\n",
    "\n",
    "        if verbose:\n",
    "            print(f'Epoch [{epoch+1}/{num_epochs}]')\n",
    "            print(f'Training Loss: {avg_train_loss:.4f}')\n",
    "            print(f'Validation Loss: {avg_val_loss:.4f}')\n",
    "    \n",
    "    # Testing\n",
    "    model.eval()\n",
    "    test_loss = 0\n",
    "    with torch.no_grad():\n",
    "        for features, targets in test_loader:\n",
    "            features, targets = features.to(device), targets.to(device)\n",
    "            outputs = model(features)\n",
    "            test_loss += criterion(outputs, targets).item()\n",
    "\n",
    "    final_test_loss = test_loss / len(test_loader)\n",
    "\n",
    "    if verbose:\n",
    "        print(f'\\nFinal Test Loss: {final_test_loss:.4f}')\n",
    "\n",
    "    return train_losses, val_losses, final_test_loss\n"
   ]
  },
  {
   "cell_type": "code",
   "execution_count": 18,
   "metadata": {},
   "outputs": [
    {
     "name": "stdout",
     "output_type": "stream",
     "text": [
      "\n",
      "Training with learning rate=0.001, num_layers=3, filter_size=16\n",
      "\n",
      "Training with learning rate=0.001, num_layers=3, filter_size=32\n",
      "\n",
      "Training with learning rate=0.001, num_layers=3, filter_size=64\n",
      "\n",
      "Training with learning rate=0.001, num_layers=4, filter_size=16\n",
      "\n",
      "Training with learning rate=0.001, num_layers=4, filter_size=32\n",
      "\n",
      "Training with learning rate=0.001, num_layers=4, filter_size=64\n",
      "\n",
      "Training with learning rate=0.001, num_layers=5, filter_size=16\n",
      "\n",
      "Training with learning rate=0.001, num_layers=5, filter_size=32\n",
      "\n",
      "Training with learning rate=0.001, num_layers=5, filter_size=64\n",
      "\n",
      "Training with learning rate=0.0005, num_layers=3, filter_size=16\n",
      "\n",
      "Training with learning rate=0.0005, num_layers=3, filter_size=32\n",
      "\n",
      "Training with learning rate=0.0005, num_layers=3, filter_size=64\n",
      "\n",
      "Training with learning rate=0.0005, num_layers=4, filter_size=16\n",
      "\n",
      "Training with learning rate=0.0005, num_layers=4, filter_size=32\n",
      "\n",
      "Training with learning rate=0.0005, num_layers=4, filter_size=64\n",
      "\n",
      "Training with learning rate=0.0005, num_layers=5, filter_size=16\n",
      "\n",
      "Training with learning rate=0.0005, num_layers=5, filter_size=32\n",
      "\n",
      "Training with learning rate=0.0005, num_layers=5, filter_size=64\n",
      "\n",
      "Training with learning rate=0.0001, num_layers=3, filter_size=16\n",
      "\n",
      "Training with learning rate=0.0001, num_layers=3, filter_size=32\n",
      "\n",
      "Training with learning rate=0.0001, num_layers=3, filter_size=64\n",
      "\n",
      "Training with learning rate=0.0001, num_layers=4, filter_size=16\n",
      "\n",
      "Training with learning rate=0.0001, num_layers=4, filter_size=32\n",
      "\n",
      "Training with learning rate=0.0001, num_layers=4, filter_size=64\n",
      "\n",
      "Training with learning rate=0.0001, num_layers=5, filter_size=16\n",
      "\n",
      "Training with learning rate=0.0001, num_layers=5, filter_size=32\n",
      "\n",
      "Training with learning rate=0.0001, num_layers=5, filter_size=64\n",
      "\n",
      "Hyperparameter Tuning Results:\n",
      "{'learning_rate': 0.001, 'num_layers': 3, 'filter_size': 16, 'train_loss': 0.5769462627478135, 'val_loss': 0.8775304506222407, 'test_loss': 0.7092689677425053}\n",
      "{'learning_rate': 0.001, 'num_layers': 3, 'filter_size': 32, 'train_loss': 0.5291762321423261, 'val_loss': 0.9109394401311874, 'test_loss': 0.7500574238922285}\n",
      "{'learning_rate': 0.001, 'num_layers': 3, 'filter_size': 64, 'train_loss': 0.5753728346182749, 'val_loss': 0.9207137872775396, 'test_loss': 0.7619022286456564}\n",
      "{'learning_rate': 0.001, 'num_layers': 4, 'filter_size': 16, 'train_loss': 0.6086416531067628, 'val_loss': 0.8379030426343282, 'test_loss': 0.6669531231341155}\n",
      "{'learning_rate': 0.001, 'num_layers': 4, 'filter_size': 32, 'train_loss': 0.5730377015395042, 'val_loss': 0.8345480511585871, 'test_loss': 0.6603606796782949}\n",
      "{'learning_rate': 0.001, 'num_layers': 4, 'filter_size': 64, 'train_loss': 0.6161518054894912, 'val_loss': 0.8110980987548828, 'test_loss': 0.628714505745017}\n",
      "{'learning_rate': 0.001, 'num_layers': 5, 'filter_size': 16, 'train_loss': 0.5954087472114807, 'val_loss': 0.8290311892827352, 'test_loss': 0.6534373099389283}\n",
      "{'learning_rate': 0.001, 'num_layers': 5, 'filter_size': 32, 'train_loss': 0.53670578621901, 'val_loss': 0.9389326572418213, 'test_loss': 0.7734606123488882}\n",
      "{'learning_rate': 0.001, 'num_layers': 5, 'filter_size': 64, 'train_loss': 0.5240938250835125, 'val_loss': 0.9273408402999243, 'test_loss': 0.7667102476824885}\n",
      "{'learning_rate': 0.0005, 'num_layers': 3, 'filter_size': 16, 'train_loss': 0.6110817419412808, 'val_loss': 0.817975198229154, 'test_loss': 0.6395047864188319}\n",
      "{'learning_rate': 0.0005, 'num_layers': 3, 'filter_size': 32, 'train_loss': 0.6119682842340225, 'val_loss': 0.8212831715742747, 'test_loss': 0.6448338031768799}\n",
      "{'learning_rate': 0.0005, 'num_layers': 3, 'filter_size': 64, 'train_loss': 0.5329628132092648, 'val_loss': 0.9421137521664301, 'test_loss': 0.7835636644259744}\n",
      "{'learning_rate': 0.0005, 'num_layers': 4, 'filter_size': 16, 'train_loss': 0.5583885934872505, 'val_loss': 0.9090060989061991, 'test_loss': 0.7480027299860249}\n",
      "{'learning_rate': 0.0005, 'num_layers': 4, 'filter_size': 32, 'train_loss': 0.603226804580444, 'val_loss': 0.831058477361997, 'test_loss': 0.6584682399811952}\n",
      "{'learning_rate': 0.0005, 'num_layers': 4, 'filter_size': 64, 'train_loss': 0.5254723551945809, 'val_loss': 0.9455276628335317, 'test_loss': 0.7868770516437033}\n",
      "{'learning_rate': 0.0005, 'num_layers': 5, 'filter_size': 16, 'train_loss': 0.618857510961019, 'val_loss': 0.8307959735393524, 'test_loss': 0.6547666891761448}\n",
      "{'learning_rate': 0.0005, 'num_layers': 5, 'filter_size': 32, 'train_loss': 0.6060978594498757, 'val_loss': 0.8359554807345072, 'test_loss': 0.6637012738248577}\n",
      "{'learning_rate': 0.0005, 'num_layers': 5, 'filter_size': 64, 'train_loss': 0.5191889191285158, 'val_loss': 1.0014171848694484, 'test_loss': 0.839457577985266}\n",
      "{'learning_rate': 0.0001, 'num_layers': 3, 'filter_size': 16, 'train_loss': 0.6560887514780729, 'val_loss': 0.8497828791538874, 'test_loss': 0.6695333913616512}\n",
      "{'learning_rate': 0.0001, 'num_layers': 3, 'filter_size': 32, 'train_loss': 0.6584047445884118, 'val_loss': 0.8448010484377543, 'test_loss': 0.669065983399101}\n",
      "{'learning_rate': 0.0001, 'num_layers': 3, 'filter_size': 64, 'train_loss': 0.6175453995282834, 'val_loss': 0.8247375339269638, 'test_loss': 0.6484334209690923}\n",
      "{'learning_rate': 0.0001, 'num_layers': 4, 'filter_size': 16, 'train_loss': 0.8711091088942993, 'val_loss': 1.0621637552976608, 'test_loss': 0.8796228144479834}\n",
      "{'learning_rate': 0.0001, 'num_layers': 4, 'filter_size': 32, 'train_loss': 0.6144845246886596, 'val_loss': 0.8126083314418793, 'test_loss': 0.6314641548239667}\n",
      "{'learning_rate': 0.0001, 'num_layers': 4, 'filter_size': 64, 'train_loss': 0.6225772496217337, 'val_loss': 0.8258509586254755, 'test_loss': 0.6470299725947173}\n",
      "{'learning_rate': 0.0001, 'num_layers': 5, 'filter_size': 16, 'train_loss': 0.7921702334514031, 'val_loss': 0.9830225308736166, 'test_loss': 0.8004974152730859}\n",
      "{'learning_rate': 0.0001, 'num_layers': 5, 'filter_size': 32, 'train_loss': 0.7895363691525582, 'val_loss': 0.924990251660347, 'test_loss': 0.7903093358744746}\n",
      "{'learning_rate': 0.0001, 'num_layers': 5, 'filter_size': 64, 'train_loss': 0.6578545375512197, 'val_loss': 0.8533027122418085, 'test_loss': 0.6735339514587236}\n"
     ]
    }
   ],
   "source": [
    "import itertools\n",
    "# Define the hyperparameter grid\n",
    "learning_rates = [0.001, 0.0005, 0.0001]\n",
    "num_layers_options = [3, 4, 5]\n",
    "filter_sizes_options = [16, 32, 64]\n",
    "# Results storage\n",
    "tuning_results = []\n",
    "# Define a function to create the model with variable layers and filter sizes\n",
    "def create_model(num_layers, initial_filter_size):\n",
    "    layers = []\n",
    "    in_channels = 13\n",
    "    for i in range(num_layers):\n",
    "        out_channels = initial_filter_size if i == 0 else in_channels // 2\n",
    "        layers.append(nn.Conv2d(in_channels, out_channels, kernel_size=3, padding=1))\n",
    "        layers.append(nn.ReLU())\n",
    "        in_channels = out_channels\n",
    "    # Add the final layer\n",
    "    layers.append(nn.Conv2d(in_channels, 1, kernel_size=1))\n",
    "    return nn.Sequential(*layers)\n",
    "\n",
    "# Train and evaluate models with different hyperparameters\n",
    "for lr, num_layers, filter_size in itertools.product(learning_rates, num_layers_options, filter_sizes_options):\n",
    "    print(f\"\\nTraining with learning rate={lr}, num_layers={num_layers}, filter_size={filter_size}\")\n",
    "    # Create the model\n",
    "    model = create_model(num_layers, filter_size)\n",
    "    model = model.to(device)\n",
    "    # Define loss function and optimizer\n",
    "    criterion = nn.L1Loss()\n",
    "    optimizer = optim.Adam(model.parameters(), lr=lr)\n",
    "    # Train the model\n",
    "    train_losses, val_losses, test_loss = train_and_evaluate_model(\n",
    "        model=model,\n",
    "        train_loader=train_loader,\n",
    "        val_loader=val_loader,\n",
    "        test_loader=test_loader,\n",
    "        criterion=criterion,\n",
    "        optimizer=optimizer,\n",
    "        num_epochs=num_epochs,\n",
    "        device=device,\n",
    "        verbose=False,  # Suppress progress for each epoch\n",
    "    )\n",
    "    # Record the results\n",
    "    tuning_results.append({\n",
    "        \"learning_rate\": lr,\n",
    "        \"num_layers\": num_layers,\n",
    "        \"filter_size\": filter_size,\n",
    "        \"train_loss\": train_losses[-1],\n",
    "        \"val_loss\": val_losses[-1],\n",
    "        \"test_loss\": test_loss,\n",
    "    })\n",
    "# Display the tuning results\n",
    "print(\"\\nHyperparameter Tuning Results:\")\n",
    "for result in tuning_results:\n",
    "    print(result)\n"
   ]
  },
  {
   "cell_type": "code",
   "execution_count": 19,
   "metadata": {},
   "outputs": [
    {
     "data": {
      "text/html": [
       "<div>\n",
       "<style scoped>\n",
       "    .dataframe tbody tr th:only-of-type {\n",
       "        vertical-align: middle;\n",
       "    }\n",
       "\n",
       "    .dataframe tbody tr th {\n",
       "        vertical-align: top;\n",
       "    }\n",
       "\n",
       "    .dataframe thead th {\n",
       "        text-align: right;\n",
       "    }\n",
       "</style>\n",
       "<table border=\"1\" class=\"dataframe\">\n",
       "  <thead>\n",
       "    <tr style=\"text-align: right;\">\n",
       "      <th></th>\n",
       "      <th>learning_rate</th>\n",
       "      <th>num_layers</th>\n",
       "      <th>filter_size</th>\n",
       "      <th>train_loss</th>\n",
       "      <th>val_loss</th>\n",
       "      <th>test_loss</th>\n",
       "    </tr>\n",
       "  </thead>\n",
       "  <tbody>\n",
       "    <tr>\n",
       "      <th>0</th>\n",
       "      <td>0.0010</td>\n",
       "      <td>4</td>\n",
       "      <td>64</td>\n",
       "      <td>0.616152</td>\n",
       "      <td>0.811098</td>\n",
       "      <td>0.628715</td>\n",
       "    </tr>\n",
       "    <tr>\n",
       "      <th>1</th>\n",
       "      <td>0.0001</td>\n",
       "      <td>4</td>\n",
       "      <td>32</td>\n",
       "      <td>0.614485</td>\n",
       "      <td>0.812608</td>\n",
       "      <td>0.631464</td>\n",
       "    </tr>\n",
       "    <tr>\n",
       "      <th>2</th>\n",
       "      <td>0.0005</td>\n",
       "      <td>3</td>\n",
       "      <td>16</td>\n",
       "      <td>0.611082</td>\n",
       "      <td>0.817975</td>\n",
       "      <td>0.639505</td>\n",
       "    </tr>\n",
       "    <tr>\n",
       "      <th>3</th>\n",
       "      <td>0.0005</td>\n",
       "      <td>3</td>\n",
       "      <td>32</td>\n",
       "      <td>0.611968</td>\n",
       "      <td>0.821283</td>\n",
       "      <td>0.644834</td>\n",
       "    </tr>\n",
       "    <tr>\n",
       "      <th>4</th>\n",
       "      <td>0.0001</td>\n",
       "      <td>4</td>\n",
       "      <td>64</td>\n",
       "      <td>0.622577</td>\n",
       "      <td>0.825851</td>\n",
       "      <td>0.647030</td>\n",
       "    </tr>\n",
       "    <tr>\n",
       "      <th>5</th>\n",
       "      <td>0.0001</td>\n",
       "      <td>3</td>\n",
       "      <td>64</td>\n",
       "      <td>0.617545</td>\n",
       "      <td>0.824738</td>\n",
       "      <td>0.648433</td>\n",
       "    </tr>\n",
       "    <tr>\n",
       "      <th>6</th>\n",
       "      <td>0.0010</td>\n",
       "      <td>5</td>\n",
       "      <td>16</td>\n",
       "      <td>0.595409</td>\n",
       "      <td>0.829031</td>\n",
       "      <td>0.653437</td>\n",
       "    </tr>\n",
       "    <tr>\n",
       "      <th>7</th>\n",
       "      <td>0.0005</td>\n",
       "      <td>5</td>\n",
       "      <td>16</td>\n",
       "      <td>0.618858</td>\n",
       "      <td>0.830796</td>\n",
       "      <td>0.654767</td>\n",
       "    </tr>\n",
       "    <tr>\n",
       "      <th>8</th>\n",
       "      <td>0.0005</td>\n",
       "      <td>4</td>\n",
       "      <td>32</td>\n",
       "      <td>0.603227</td>\n",
       "      <td>0.831058</td>\n",
       "      <td>0.658468</td>\n",
       "    </tr>\n",
       "    <tr>\n",
       "      <th>9</th>\n",
       "      <td>0.0010</td>\n",
       "      <td>4</td>\n",
       "      <td>32</td>\n",
       "      <td>0.573038</td>\n",
       "      <td>0.834548</td>\n",
       "      <td>0.660361</td>\n",
       "    </tr>\n",
       "    <tr>\n",
       "      <th>10</th>\n",
       "      <td>0.0005</td>\n",
       "      <td>5</td>\n",
       "      <td>32</td>\n",
       "      <td>0.606098</td>\n",
       "      <td>0.835955</td>\n",
       "      <td>0.663701</td>\n",
       "    </tr>\n",
       "    <tr>\n",
       "      <th>11</th>\n",
       "      <td>0.0010</td>\n",
       "      <td>4</td>\n",
       "      <td>16</td>\n",
       "      <td>0.608642</td>\n",
       "      <td>0.837903</td>\n",
       "      <td>0.666953</td>\n",
       "    </tr>\n",
       "    <tr>\n",
       "      <th>12</th>\n",
       "      <td>0.0001</td>\n",
       "      <td>3</td>\n",
       "      <td>32</td>\n",
       "      <td>0.658405</td>\n",
       "      <td>0.844801</td>\n",
       "      <td>0.669066</td>\n",
       "    </tr>\n",
       "    <tr>\n",
       "      <th>13</th>\n",
       "      <td>0.0001</td>\n",
       "      <td>3</td>\n",
       "      <td>16</td>\n",
       "      <td>0.656089</td>\n",
       "      <td>0.849783</td>\n",
       "      <td>0.669533</td>\n",
       "    </tr>\n",
       "    <tr>\n",
       "      <th>14</th>\n",
       "      <td>0.0001</td>\n",
       "      <td>5</td>\n",
       "      <td>64</td>\n",
       "      <td>0.657855</td>\n",
       "      <td>0.853303</td>\n",
       "      <td>0.673534</td>\n",
       "    </tr>\n",
       "    <tr>\n",
       "      <th>15</th>\n",
       "      <td>0.0010</td>\n",
       "      <td>3</td>\n",
       "      <td>16</td>\n",
       "      <td>0.576946</td>\n",
       "      <td>0.877530</td>\n",
       "      <td>0.709269</td>\n",
       "    </tr>\n",
       "    <tr>\n",
       "      <th>16</th>\n",
       "      <td>0.0005</td>\n",
       "      <td>4</td>\n",
       "      <td>16</td>\n",
       "      <td>0.558389</td>\n",
       "      <td>0.909006</td>\n",
       "      <td>0.748003</td>\n",
       "    </tr>\n",
       "    <tr>\n",
       "      <th>17</th>\n",
       "      <td>0.0010</td>\n",
       "      <td>3</td>\n",
       "      <td>32</td>\n",
       "      <td>0.529176</td>\n",
       "      <td>0.910939</td>\n",
       "      <td>0.750057</td>\n",
       "    </tr>\n",
       "    <tr>\n",
       "      <th>18</th>\n",
       "      <td>0.0010</td>\n",
       "      <td>3</td>\n",
       "      <td>64</td>\n",
       "      <td>0.575373</td>\n",
       "      <td>0.920714</td>\n",
       "      <td>0.761902</td>\n",
       "    </tr>\n",
       "    <tr>\n",
       "      <th>19</th>\n",
       "      <td>0.0010</td>\n",
       "      <td>5</td>\n",
       "      <td>64</td>\n",
       "      <td>0.524094</td>\n",
       "      <td>0.927341</td>\n",
       "      <td>0.766710</td>\n",
       "    </tr>\n",
       "    <tr>\n",
       "      <th>20</th>\n",
       "      <td>0.0010</td>\n",
       "      <td>5</td>\n",
       "      <td>32</td>\n",
       "      <td>0.536706</td>\n",
       "      <td>0.938933</td>\n",
       "      <td>0.773461</td>\n",
       "    </tr>\n",
       "    <tr>\n",
       "      <th>21</th>\n",
       "      <td>0.0005</td>\n",
       "      <td>3</td>\n",
       "      <td>64</td>\n",
       "      <td>0.532963</td>\n",
       "      <td>0.942114</td>\n",
       "      <td>0.783564</td>\n",
       "    </tr>\n",
       "    <tr>\n",
       "      <th>22</th>\n",
       "      <td>0.0005</td>\n",
       "      <td>4</td>\n",
       "      <td>64</td>\n",
       "      <td>0.525472</td>\n",
       "      <td>0.945528</td>\n",
       "      <td>0.786877</td>\n",
       "    </tr>\n",
       "    <tr>\n",
       "      <th>23</th>\n",
       "      <td>0.0001</td>\n",
       "      <td>5</td>\n",
       "      <td>32</td>\n",
       "      <td>0.789536</td>\n",
       "      <td>0.924990</td>\n",
       "      <td>0.790309</td>\n",
       "    </tr>\n",
       "    <tr>\n",
       "      <th>24</th>\n",
       "      <td>0.0001</td>\n",
       "      <td>5</td>\n",
       "      <td>16</td>\n",
       "      <td>0.792170</td>\n",
       "      <td>0.983023</td>\n",
       "      <td>0.800497</td>\n",
       "    </tr>\n",
       "    <tr>\n",
       "      <th>25</th>\n",
       "      <td>0.0005</td>\n",
       "      <td>5</td>\n",
       "      <td>64</td>\n",
       "      <td>0.519189</td>\n",
       "      <td>1.001417</td>\n",
       "      <td>0.839458</td>\n",
       "    </tr>\n",
       "    <tr>\n",
       "      <th>26</th>\n",
       "      <td>0.0001</td>\n",
       "      <td>4</td>\n",
       "      <td>16</td>\n",
       "      <td>0.871109</td>\n",
       "      <td>1.062164</td>\n",
       "      <td>0.879623</td>\n",
       "    </tr>\n",
       "  </tbody>\n",
       "</table>\n",
       "</div>"
      ],
      "text/plain": [
       "    learning_rate  num_layers  filter_size  train_loss  val_loss  test_loss\n",
       "0          0.0010           4           64    0.616152  0.811098   0.628715\n",
       "1          0.0001           4           32    0.614485  0.812608   0.631464\n",
       "2          0.0005           3           16    0.611082  0.817975   0.639505\n",
       "3          0.0005           3           32    0.611968  0.821283   0.644834\n",
       "4          0.0001           4           64    0.622577  0.825851   0.647030\n",
       "5          0.0001           3           64    0.617545  0.824738   0.648433\n",
       "6          0.0010           5           16    0.595409  0.829031   0.653437\n",
       "7          0.0005           5           16    0.618858  0.830796   0.654767\n",
       "8          0.0005           4           32    0.603227  0.831058   0.658468\n",
       "9          0.0010           4           32    0.573038  0.834548   0.660361\n",
       "10         0.0005           5           32    0.606098  0.835955   0.663701\n",
       "11         0.0010           4           16    0.608642  0.837903   0.666953\n",
       "12         0.0001           3           32    0.658405  0.844801   0.669066\n",
       "13         0.0001           3           16    0.656089  0.849783   0.669533\n",
       "14         0.0001           5           64    0.657855  0.853303   0.673534\n",
       "15         0.0010           3           16    0.576946  0.877530   0.709269\n",
       "16         0.0005           4           16    0.558389  0.909006   0.748003\n",
       "17         0.0010           3           32    0.529176  0.910939   0.750057\n",
       "18         0.0010           3           64    0.575373  0.920714   0.761902\n",
       "19         0.0010           5           64    0.524094  0.927341   0.766710\n",
       "20         0.0010           5           32    0.536706  0.938933   0.773461\n",
       "21         0.0005           3           64    0.532963  0.942114   0.783564\n",
       "22         0.0005           4           64    0.525472  0.945528   0.786877\n",
       "23         0.0001           5           32    0.789536  0.924990   0.790309\n",
       "24         0.0001           5           16    0.792170  0.983023   0.800497\n",
       "25         0.0005           5           64    0.519189  1.001417   0.839458\n",
       "26         0.0001           4           16    0.871109  1.062164   0.879623"
      ]
     },
     "execution_count": 19,
     "metadata": {},
     "output_type": "execute_result"
    }
   ],
   "source": [
    "tuning_results_df = pd.DataFrame(tuning_results)\n",
    "tuning_results_df.sort_values(by='test_loss', ascending=True).reset_index(drop=True)"
   ]
  },
  {
   "cell_type": "code",
   "execution_count": null,
   "metadata": {},
   "outputs": [],
   "source": [
    "# we see above that we'll proceed with a learning rate of 0.0005, 4 layers, and a filter size of 64\n",
    "\n",
    "# edit: i'm realizing that after ~2 hours of hyperparameter tuning and moving onto  PI-loss\n",
    "#  that the 'best' model returned here is still worse than our simplest CNN. \n",
    "# The PI-loss is implemented on the model seen in the table above rather than the simpler one\n",
    "# that performs best. But further in this notebook, we go back to tuning the simpler, better model"
   ]
  },
  {
   "cell_type": "markdown",
   "metadata": {},
   "source": [
    "#### Incorporation of Physics-Informed Loss (via chatgpt)"
   ]
  },
  {
   "cell_type": "code",
   "execution_count": 47,
   "metadata": {},
   "outputs": [],
   "source": [
    "class PhysicsInformedLoss(torch.nn.Module):\n",
    "    def __init__(self, lambda_gradient=0.1):\n",
    "        super(PhysicsInformedLoss, self).__init__()\n",
    "        self.lambda_gradient = lambda_gradient\n",
    "\n",
    "    def forward(self, predicted, target, features):\n",
    "        # Add channel dimension to predicted since model output doesn't have it\n",
    "        predicted = predicted.unsqueeze(1)\n",
    "        target = target.unsqueeze(1)\n",
    "        \n",
    "        # Traditional MAE loss\n",
    "        mae_loss = F.l1_loss(predicted, target)\n",
    "        \n",
    "        # Extract TPI and ensure it has matching dimensions\n",
    "        tpi = features[:, 3:4, :, :]  # Keep channel dimension\n",
    "        \n",
    "        # Calculate gradients with padding to maintain size\n",
    "        grad_predicted = F.pad(torch.abs(predicted[:, :, 1:, :] - predicted[:, :, :-1, :]), (0, 0, 1, 0))\n",
    "        grad_target = F.pad(torch.abs(target[:, :, 1:, :] - target[:, :, :-1, :]), (0, 0, 1, 0))\n",
    "        grad_tpi = F.pad(torch.abs(tpi[:, :, 1:, :] - tpi[:, :, :-1, :]), (0, 0, 1, 0))\n",
    "        \n",
    "        # Calculate terrain gradient loss\n",
    "        terrain_gradient_loss = torch.mean(torch.abs(grad_predicted - grad_target) * grad_tpi)\n",
    "        \n",
    "        return mae_loss + self.lambda_gradient * terrain_gradient_loss"
   ]
  },
  {
   "cell_type": "markdown",
   "metadata": {},
   "source": [
    "Physics-informed loss explanation (ChatGPT's, I need to research this on my own and understand it better and what lambda to use):\n",
    "\n",
    "Explanation of Physics-Informed Loss:\n",
    "\n",
    "\n",
    "Traditional MAE Loss:\n",
    "\n",
    "This term captures the basic prediction accuracy, comparing the predicted snow depth with the true snow depth at each pixel.\n",
    "\n",
    "\n",
    "Terrain Gradient Loss:\n",
    "\n",
    "We compute the gradient of both the predicted and actual snow depth with respect to neighboring pixels (in both the x and y directions).\n",
    "The terrain gradient loss ensures that the model doesn’t produce unrealistic sharp transitions in snow depth where there should be smooth changes, especially considering the relationship between snow depth and elevation. This helps to model the spatial continuity of snow depth, which should naturally change with elevation and other terrain features.\n",
    "\n",
    "\n",
    "Weighting Factor 𝜆\n",
    "\n",
    "The weighting factor λ controls the importance of the gradient loss relative to the traditional MAE loss. This allows you to balance between fitting the data and adhering to the physical constraints.\n",
    "\n",
    "\n",
    "Relevance to the Geoscientific Problem:\n",
    "\n",
    "Snow Accumulation and Melting: Snow depth predictions should adhere to physical laws such as the conservation of mass. Sharp, discontinuous changes in snow depth are not physically realistic, especially when they occur across similar elevations.\n",
    "\n",
    "\n",
    "Terrain Influence: \n",
    "Elevation plays a key role in snow accumulation and melting. The higher the elevation, the greater the snow accumulation. The physics-informed loss ensures that the snow depth predictions are consistent with the terrain features, making the model more physically grounded.\n",
    "\n",
    "\n",
    "Improved Generalization: \n",
    "By adding domain knowledge into the loss function, the model is guided to produce more physically realistic predictions. This can help prevent overfitting and lead to better generalization in real-world applications, where snow depth predictions are needed for tasks like avalanche forecasting, hydrological modeling, or climate studies."
   ]
  },
  {
   "cell_type": "code",
   "execution_count": 48,
   "metadata": {},
   "outputs": [],
   "source": [
    "class SnowDepthCNN(nn.Module):\n",
    "    def __init__(self):\n",
    "        super(SnowDepthCNN, self).__init__()\n",
    "        # Define the 4 layers with filter size 64\n",
    "        self.conv1 = nn.Conv2d(in_channels=13, out_channels=64, kernel_size=3, padding=1)\n",
    "        self.conv2 = nn.Conv2d(in_channels=64, out_channels=64, kernel_size=3, padding=1)\n",
    "        self.conv3 = nn.Conv2d(in_channels=64, out_channels=64, kernel_size=3, padding=1)\n",
    "        self.conv4 = nn.Conv2d(in_channels=64, out_channels=64, kernel_size=3, padding=1)\n",
    "        \n",
    "        # Fully connected layers adjusted for 64 filters\n",
    "        self.fc1 = nn.Linear(64 * 8 * 8, 512)\n",
    "        self.fc2 = nn.Linear(512, 128 * 128)\n",
    "\n",
    "    def forward(self, x):\n",
    "        x = F.relu(self.conv1(x))\n",
    "        x = F.max_pool2d(x, 2)\n",
    "        x = F.relu(self.conv2(x))\n",
    "        x = F.max_pool2d(x, 2)\n",
    "        x = F.relu(self.conv3(x))\n",
    "        x = F.max_pool2d(x, 2)\n",
    "        x = F.relu(self.conv4(x))\n",
    "        x = F.max_pool2d(x, 2)\n",
    "        \n",
    "        x = x.view(x.size(0), -1)\n",
    "        x = F.relu(self.fc1(x))\n",
    "        x = self.fc2(x)\n",
    "        x = x.view(-1, 128, 128)  # Reshape to match target dimensions\n",
    "        \n",
    "        return x"
   ]
  },
  {
   "cell_type": "code",
   "execution_count": 49,
   "metadata": {},
   "outputs": [],
   "source": [
    "import torch\n",
    "import json\n",
    "\n",
    "def train_and_evaluate_model(model, train_loader, val_loader, test_loader, criterion, optimizer, num_epochs, device, verbose=True, save_dir='weights'):\n",
    "    \"\"\"\n",
    "    Train, validate, and test the model. Save model weights, logs, and metrics to JSON.\n",
    "\n",
    "    Args:\n",
    "        model (nn.Module): The PyTorch model to train and evaluate.\n",
    "        train_loader (DataLoader): DataLoader for the training dataset.\n",
    "        val_loader (DataLoader): DataLoader for the validation dataset.\n",
    "        test_loader (DataLoader): DataLoader for the test dataset.\n",
    "        criterion (Loss): The loss function.\n",
    "        optimizer (Optimizer): The optimizer for model training.\n",
    "        num_epochs (int): Number of training epochs.\n",
    "        device (torch.device): Device to use for computation.\n",
    "        verbose (bool): Whether to print detailed progress for each epoch.\n",
    "        save_dir (str): Directory to save model weights, logs, and metrics.\n",
    "\n",
    "    Returns:\n",
    "        tuple: A tuple containing training losses, validation losses, and final test loss.\n",
    "    \"\"\"\n",
    "    train_losses = []\n",
    "    val_losses = []\n",
    "    performance_metrics = {}\n",
    "\n",
    "    # Make sure the save directory exists\n",
    "    os.makedirs(save_dir, exist_ok=True)\n",
    "\n",
    "    for epoch in range(num_epochs):\n",
    "        # Training phase\n",
    "        model.train()\n",
    "        train_loss = 0\n",
    "        for features, targets in train_loader:\n",
    "            features, targets = features.to(device), targets.to(device)\n",
    "            optimizer.zero_grad()\n",
    "            outputs = model(features).squeeze(1)\n",
    "            loss = criterion(outputs, targets, features)  # Pass features as well\n",
    "            loss.backward()\n",
    "            optimizer.step()\n",
    "            train_loss += loss.item()\n",
    "        \n",
    "        # Validation phase\n",
    "        model.eval()\n",
    "        val_loss = 0\n",
    "        with torch.no_grad():\n",
    "            for features, targets in val_loader:\n",
    "                features, targets = features.to(device), targets.to(device)\n",
    "                outputs = model(features)\n",
    "                val_loss += criterion(outputs, targets, features).item()  # Pass features as well\n",
    "        \n",
    "        # Compute average losses\n",
    "        avg_train_loss = train_loss / len(train_loader)\n",
    "        avg_val_loss = val_loss / len(val_loader)\n",
    "        train_losses.append(avg_train_loss)\n",
    "        val_losses.append(avg_val_loss)\n",
    "\n",
    "        if verbose:\n",
    "            print(f'Epoch [{epoch+1}/{num_epochs}]')\n",
    "            print(f'Training Loss: {avg_train_loss:.4f}')\n",
    "            print(f'Validation Loss: {avg_val_loss:.4f}')\n",
    "        \n",
    "        # Save logs after each epoch (optional)\n",
    "        performance_metrics[f\"epoch_{epoch+1}\"] = {\n",
    "            \"train_loss\": avg_train_loss,\n",
    "            \"val_loss\": avg_val_loss\n",
    "        }\n",
    "\n",
    "    # Testing phase\n",
    "    model.eval()\n",
    "    test_loss = 0\n",
    "    with torch.no_grad():\n",
    "        for features, targets in test_loader:\n",
    "            features, targets = features.to(device), targets.to(device)\n",
    "            outputs = model(features)\n",
    "            test_loss += criterion(outputs, targets, features).item()  # Pass features as well\n",
    "\n",
    "    final_test_loss = test_loss / len(test_loader)\n",
    "    performance_metrics[\"final_test_loss\"] = final_test_loss\n",
    "\n",
    "    if verbose:\n",
    "        print(f'\\nFinal Test Loss: {final_test_loss:.4f}')\n",
    "    \n",
    "    # Save model weights to file\n",
    "    model_weight_path = os.path.join(save_dir, 'jackk_pinn1.pth')\n",
    "    torch.save(model.state_dict(), model_weight_path)\n",
    "\n",
    "    # Save training logs and performance metrics to JSON file\n",
    "    performance_metrics_path = os.path.join(save_dir, 'performance_metrics.json')\n",
    "    with open(performance_metrics_path, 'w') as json_file:\n",
    "        json.dump(performance_metrics, json_file, indent=4)\n",
    "\n",
    "    return train_losses, val_losses, final_test_loss"
   ]
  },
  {
   "cell_type": "code",
   "execution_count": 50,
   "metadata": {},
   "outputs": [],
   "source": [
    "#files_subset = files[:]\n",
    "#random.shuffle(files_subset)\n",
    "#train_size = int(0.7 * len(files_subset))  # 70% for training\n",
    "#test_size = int(0.2 * len(files_subset))   # 20% for testing\n",
    "#val_size = len(files_subset) - train_size - test_size  # Remaining 10% for validation\n",
    "#train_files = files_subset[:train_size]\n",
    "#test_files = files_subset[train_size:train_size + test_size]\n",
    "#val_files = files_subset[train_size + test_size:]\n",
    "#train_dataset = create_dataset(train_files)\n",
    "#test_dataset = create_dataset(test_files)\n",
    "#val_dataset = create_dataset(val_files)\n",
    "#train_loader = DataLoader(train_dataset, batch_size=32, shuffle=True)\n",
    "#test_loader = DataLoader(test_dataset, batch_size=32, shuffle=False)\n",
    "#val_loader = DataLoader(val_dataset, batch_size=32, shuffle=False)"
   ]
  },
  {
   "cell_type": "code",
   "execution_count": 51,
   "metadata": {},
   "outputs": [
    {
     "name": "stdout",
     "output_type": "stream",
     "text": [
      "Epoch [1/10]\n",
      "Training Loss: 0.6246\n",
      "Validation Loss: 0.8120\n",
      "Epoch [2/10]\n",
      "Training Loss: 0.6141\n",
      "Validation Loss: 0.8114\n",
      "Epoch [3/10]\n",
      "Training Loss: 0.6157\n",
      "Validation Loss: 0.8114\n",
      "Epoch [4/10]\n",
      "Training Loss: 0.6154\n",
      "Validation Loss: 0.8114\n",
      "Epoch [5/10]\n",
      "Training Loss: 0.6167\n",
      "Validation Loss: 0.8114\n",
      "Epoch [6/10]\n",
      "Training Loss: 0.6141\n",
      "Validation Loss: 0.8114\n",
      "Epoch [7/10]\n",
      "Training Loss: 0.6203\n",
      "Validation Loss: 0.8114\n",
      "Epoch [8/10]\n",
      "Training Loss: 0.6156\n",
      "Validation Loss: 0.8115\n",
      "Epoch [9/10]\n",
      "Training Loss: 0.6144\n",
      "Validation Loss: 0.8114\n",
      "Epoch [10/10]\n",
      "Training Loss: 0.6146\n",
      "Validation Loss: 0.8114\n",
      "\n",
      "Final Test Loss: 0.6287\n"
     ]
    }
   ],
   "source": [
    "# now train the physics-informed loss on the entire dataset\n",
    "model = SnowDepthCNN()  # Your SnowDepthCNN model\n",
    "loss_fn = PhysicsInformedLoss(lambda_gradient=0.1)  # Physics-Informed Loss function\n",
    "optimizer = optim.Adam(model.parameters(), lr=0.001)  # Adam optimizer\n",
    "# Move the model to the appropriate device (GPU or CPU)\n",
    "device = torch.device(\"cuda\" if torch.cuda.is_available() else \"cpu\")\n",
    "model.to(device)\n",
    "# Train and evaluate the model using your custom function\n",
    "train_losses, val_losses, test_loss = train_and_evaluate_model(\n",
    "    model, train_loader, val_loader, test_loader, \n",
    "    criterion=loss_fn, optimizer=optimizer, \n",
    "    num_epochs=10, device=device, verbose=True\n",
    ")"
   ]
  },
  {
   "cell_type": "code",
   "execution_count": null,
   "metadata": {},
   "outputs": [],
   "source": [
    "# the physics-informed loss didn't perform any better than regular MAE loss, so we'll stick\n",
    "# with MAE loss to keep it simpler"
   ]
  },
  {
   "cell_type": "markdown",
   "metadata": {},
   "source": [
    "#### Exploration and Analysis (7%): Investigates losses, activation functions, and layer design, demonstrating a strong understanding of model behavior"
   ]
  },
  {
   "cell_type": "code",
   "execution_count": null,
   "metadata": {},
   "outputs": [],
   "source": [
    "# let's go back to our classic CNN model to somewhat optimize the parameters requested"
   ]
  },
  {
   "cell_type": "code",
   "execution_count": null,
   "metadata": {},
   "outputs": [
    {
     "name": "stderr",
     "output_type": "stream",
     "text": [
      "Epoch 1: 100%|██████████| 78/78 [00:14<00:00,  5.25it/s]\n"
     ]
    },
    {
     "name": "stdout",
     "output_type": "stream",
     "text": [
      "Epoch [1/10]\n",
      "Training Loss: 1.4779\n",
      "Validation Loss: 1.1276\n"
     ]
    },
    {
     "name": "stderr",
     "output_type": "stream",
     "text": [
      "Epoch 2: 100%|██████████| 78/78 [00:16<00:00,  4.72it/s]\n"
     ]
    },
    {
     "name": "stdout",
     "output_type": "stream",
     "text": [
      "Epoch [2/10]\n",
      "Training Loss: 0.9268\n",
      "Validation Loss: 1.0363\n"
     ]
    },
    {
     "name": "stderr",
     "output_type": "stream",
     "text": [
      "Epoch 3: 100%|██████████| 78/78 [00:14<00:00,  5.52it/s]\n"
     ]
    },
    {
     "name": "stdout",
     "output_type": "stream",
     "text": [
      "Epoch [3/10]\n",
      "Training Loss: 0.7659\n",
      "Validation Loss: 0.8087\n"
     ]
    },
    {
     "name": "stderr",
     "output_type": "stream",
     "text": [
      "Epoch 4: 100%|██████████| 78/78 [00:17<00:00,  4.54it/s]\n"
     ]
    },
    {
     "name": "stdout",
     "output_type": "stream",
     "text": [
      "Epoch [4/10]\n",
      "Training Loss: 0.6247\n",
      "Validation Loss: 0.7977\n"
     ]
    },
    {
     "name": "stderr",
     "output_type": "stream",
     "text": [
      "Epoch 5: 100%|██████████| 78/78 [00:13<00:00,  5.81it/s]\n"
     ]
    },
    {
     "name": "stdout",
     "output_type": "stream",
     "text": [
      "Epoch [5/10]\n",
      "Training Loss: 0.6123\n",
      "Validation Loss: 0.7903\n"
     ]
    },
    {
     "name": "stderr",
     "output_type": "stream",
     "text": [
      "Epoch 6: 100%|██████████| 78/78 [00:13<00:00,  5.61it/s]\n"
     ]
    },
    {
     "name": "stdout",
     "output_type": "stream",
     "text": [
      "Epoch [6/10]\n",
      "Training Loss: 0.6114\n",
      "Validation Loss: 0.7822\n"
     ]
    },
    {
     "name": "stderr",
     "output_type": "stream",
     "text": [
      "Epoch 7: 100%|██████████| 78/78 [00:15<00:00,  4.88it/s]\n"
     ]
    },
    {
     "name": "stdout",
     "output_type": "stream",
     "text": [
      "Epoch [7/10]\n",
      "Training Loss: 0.6026\n",
      "Validation Loss: 0.7740\n"
     ]
    },
    {
     "name": "stderr",
     "output_type": "stream",
     "text": [
      "Epoch 8: 100%|██████████| 78/78 [00:15<00:00,  5.02it/s]\n"
     ]
    },
    {
     "name": "stdout",
     "output_type": "stream",
     "text": [
      "Epoch [8/10]\n",
      "Training Loss: 0.5957\n",
      "Validation Loss: 0.7654\n"
     ]
    },
    {
     "name": "stderr",
     "output_type": "stream",
     "text": [
      "Epoch 9: 100%|██████████| 78/78 [00:17<00:00,  4.45it/s]\n"
     ]
    },
    {
     "name": "stdout",
     "output_type": "stream",
     "text": [
      "Epoch [9/10]\n",
      "Training Loss: 0.5931\n",
      "Validation Loss: 0.7616\n"
     ]
    },
    {
     "name": "stderr",
     "output_type": "stream",
     "text": [
      "Epoch 10: 100%|██████████| 78/78 [00:13<00:00,  5.84it/s]\n"
     ]
    },
    {
     "name": "stdout",
     "output_type": "stream",
     "text": [
      "Epoch [10/10]\n",
      "Training Loss: 0.5839\n",
      "Validation Loss: 0.7477\n",
      "\n",
      "Final Test Loss: 0.5916\n"
     ]
    }
   ],
   "source": [
    "class SnowDepthCNN(nn.Module):\n",
    "    def __init__(self):\n",
    "        super(SnowDepthCNN, self).__init__()\n",
    "        # First conv layer: (12, 128, 128) -> (32, 128, 128)\n",
    "        self.conv1 = nn.Conv2d(in_channels=13, out_channels=32, kernel_size=3, padding=1)\n",
    "        self.relu = nn.ReLU()\n",
    "        # Second conv layer: (32, 128, 128) -> (16, 128, 128)\n",
    "        self.conv2 = nn.Conv2d(in_channels=32, out_channels=16, kernel_size=3, padding=1)\n",
    "        # Final conv layer: (16, 128, 128) -> (1, 128, 128)\n",
    "        self.conv3 = nn.Conv2d(in_channels=16, out_channels=1, kernel_size=1)\n",
    "    def forward(self, x):\n",
    "        x = self.relu(self.conv1(x))\n",
    "        x = self.relu(self.conv2(x))\n",
    "        x = self.conv3(x)\n",
    "        return x.squeeze(1)  # Remove channel dimension to match target shape\n",
    "def train_and_evaluate_model(model, train_loader, val_loader, test_loader, criterion, optimizer, num_epochs, device):\n",
    "    \"\"\"\n",
    "    Train, validate, and test the model.\n",
    "\n",
    "    Args:\n",
    "        model (nn.Module): The PyTorch model to train and evaluate.\n",
    "        train_loader (DataLoader): DataLoader for the training dataset.\n",
    "        val_loader (DataLoader): DataLoader for the validation dataset.\n",
    "        test_loader (DataLoader): DataLoader for the test dataset.\n",
    "        criterion (Loss): The loss function.\n",
    "        optimizer (Optimizer): The optimizer for model training.\n",
    "        num_epochs (int): Number of training epochs.\n",
    "        device (torch.device): Device to use for computation.\n",
    "\n",
    "    Returns:\n",
    "        tuple: A tuple containing training losses, validation losses, and final test loss.\n",
    "    \"\"\"\n",
    "    train_losses = []\n",
    "    val_losses = []\n",
    "\n",
    "    for epoch in range(num_epochs):\n",
    "        # Training\n",
    "        model.train()\n",
    "        train_loss = 0\n",
    "        for features, targets in tqdm(train_loader, desc=f'Epoch {epoch+1}'):\n",
    "            features, targets = features.to(device), targets.to(device)\n",
    "            optimizer.zero_grad()\n",
    "            outputs = model(features)\n",
    "            loss = criterion(outputs, targets)\n",
    "            loss.backward()\n",
    "            optimizer.step()\n",
    "            train_loss += loss.item()\n",
    "        \n",
    "        # Validation\n",
    "        model.eval()\n",
    "        val_loss = 0\n",
    "        with torch.no_grad():\n",
    "            for features, targets in val_loader:\n",
    "                features, targets = features.to(device), targets.to(device)\n",
    "                outputs = model(features)\n",
    "                val_loss += criterion(outputs, targets).item()\n",
    "        \n",
    "        # Compute average losses\n",
    "        avg_train_loss = train_loss / len(train_loader)\n",
    "        avg_val_loss = val_loss / len(val_loader)\n",
    "        train_losses.append(avg_train_loss)\n",
    "        val_losses.append(avg_val_loss)\n",
    "\n",
    "        print(f'Epoch [{epoch+1}/{num_epochs}]')\n",
    "        print(f'Training Loss: {avg_train_loss:.4f}')\n",
    "        print(f'Validation Loss: {avg_val_loss:.4f}')\n",
    "    \n",
    "    # Testing\n",
    "    model.eval()\n",
    "    test_loss = 0\n",
    "    with torch.no_grad():\n",
    "        for features, targets in test_loader:\n",
    "            features, targets = features.to(device), targets.to(device)\n",
    "            outputs = model(features)\n",
    "            test_loss += criterion(outputs, targets).item()\n",
    "\n",
    "    final_test_loss = test_loss / len(test_loader)\n",
    "    print(f'\\nFinal Test Loss: {final_test_loss:.4f}')\n",
    "\n",
    "    return train_losses, val_losses, final_test_loss\n",
    "# Initialize model\n",
    "model = SnowDepthCNN()\n",
    "# Loss function: MAE is appropriate for continuous regression problems like snow depth\n",
    "criterion = nn.L1Loss()\n",
    "device = torch.device(\"cuda\" if torch.cuda.is_available() else \"cpu\")\n",
    "optimizer = torch.optim.Adam(model.parameters(), lr=0.001)\n",
    "num_epochs = 10\n",
    "# Call the function\n",
    "train_losses, val_losses, test_loss = train_and_evaluate_model(\n",
    "    model=model,\n",
    "    train_loader=train_loader,\n",
    "    val_loader=val_loader,\n",
    "    test_loader=test_loader,\n",
    "    criterion=criterion,\n",
    "    optimizer=optimizer,\n",
    "    num_epochs=num_epochs,\n",
    "    device=device\n",
    ")\n",
    "# remember our final test loss was below 0.6"
   ]
  },
  {
   "cell_type": "code",
   "execution_count": 55,
   "metadata": {},
   "outputs": [
    {
     "name": "stderr",
     "output_type": "stream",
     "text": [
      "Epoch 1: 100%|██████████| 78/78 [00:16<00:00,  4.60it/s]\n"
     ]
    },
    {
     "name": "stdout",
     "output_type": "stream",
     "text": [
      "Epoch [1/10]\n",
      "Training Loss: 0.5324\n",
      "Validation Loss: 0.4294\n"
     ]
    },
    {
     "name": "stderr",
     "output_type": "stream",
     "text": [
      "Epoch 2: 100%|██████████| 78/78 [00:13<00:00,  5.79it/s]\n"
     ]
    },
    {
     "name": "stdout",
     "output_type": "stream",
     "text": [
      "Epoch [2/10]\n",
      "Training Loss: 0.3311\n",
      "Validation Loss: 0.4100\n"
     ]
    },
    {
     "name": "stderr",
     "output_type": "stream",
     "text": [
      "Epoch 3: 100%|██████████| 78/78 [00:17<00:00,  4.44it/s]\n"
     ]
    },
    {
     "name": "stdout",
     "output_type": "stream",
     "text": [
      "Epoch [3/10]\n",
      "Training Loss: 0.3193\n",
      "Validation Loss: 0.4047\n"
     ]
    },
    {
     "name": "stderr",
     "output_type": "stream",
     "text": [
      "Epoch 4: 100%|██████████| 78/78 [00:14<00:00,  5.32it/s]\n"
     ]
    },
    {
     "name": "stdout",
     "output_type": "stream",
     "text": [
      "Epoch [4/10]\n",
      "Training Loss: 0.3136\n",
      "Validation Loss: 0.3987\n"
     ]
    },
    {
     "name": "stderr",
     "output_type": "stream",
     "text": [
      "Epoch 5: 100%|██████████| 78/78 [00:16<00:00,  4.63it/s]\n"
     ]
    },
    {
     "name": "stdout",
     "output_type": "stream",
     "text": [
      "Epoch [5/10]\n",
      "Training Loss: 0.3075\n",
      "Validation Loss: 0.3929\n"
     ]
    },
    {
     "name": "stderr",
     "output_type": "stream",
     "text": [
      "Epoch 6: 100%|██████████| 78/78 [00:14<00:00,  5.22it/s]\n"
     ]
    },
    {
     "name": "stdout",
     "output_type": "stream",
     "text": [
      "Epoch [6/10]\n",
      "Training Loss: 0.3038\n",
      "Validation Loss: 0.3890\n"
     ]
    },
    {
     "name": "stderr",
     "output_type": "stream",
     "text": [
      "Epoch 7: 100%|██████████| 78/78 [00:16<00:00,  4.79it/s]\n"
     ]
    },
    {
     "name": "stdout",
     "output_type": "stream",
     "text": [
      "Epoch [7/10]\n",
      "Training Loss: 0.2989\n",
      "Validation Loss: 0.3826\n"
     ]
    },
    {
     "name": "stderr",
     "output_type": "stream",
     "text": [
      "Epoch 8: 100%|██████████| 78/78 [00:13<00:00,  5.75it/s]\n"
     ]
    },
    {
     "name": "stdout",
     "output_type": "stream",
     "text": [
      "Epoch [8/10]\n",
      "Training Loss: 0.2961\n",
      "Validation Loss: 0.3731\n"
     ]
    },
    {
     "name": "stderr",
     "output_type": "stream",
     "text": [
      "Epoch 9: 100%|██████████| 78/78 [00:16<00:00,  4.73it/s]\n"
     ]
    },
    {
     "name": "stdout",
     "output_type": "stream",
     "text": [
      "Epoch [9/10]\n",
      "Training Loss: 0.2912\n",
      "Validation Loss: 0.3665\n"
     ]
    },
    {
     "name": "stderr",
     "output_type": "stream",
     "text": [
      "Epoch 10: 100%|██████████| 78/78 [00:13<00:00,  5.71it/s]\n"
     ]
    },
    {
     "name": "stdout",
     "output_type": "stream",
     "text": [
      "Epoch [10/10]\n",
      "Training Loss: 0.2870\n",
      "Validation Loss: 0.3630\n",
      "\n",
      "Final Test Loss: 0.2904\n"
     ]
    },
    {
     "name": "stderr",
     "output_type": "stream",
     "text": [
      "Epoch 1: 100%|██████████| 78/78 [00:15<00:00,  4.98it/s]\n"
     ]
    },
    {
     "name": "stdout",
     "output_type": "stream",
     "text": [
      "Epoch [1/10]\n",
      "Training Loss: 1.8228\n",
      "Validation Loss: 1.0100\n"
     ]
    },
    {
     "name": "stderr",
     "output_type": "stream",
     "text": [
      "Epoch 2: 100%|██████████| 78/78 [00:14<00:00,  5.51it/s]\n"
     ]
    },
    {
     "name": "stdout",
     "output_type": "stream",
     "text": [
      "Epoch [2/10]\n",
      "Training Loss: 1.0155\n",
      "Validation Loss: 0.9753\n"
     ]
    },
    {
     "name": "stderr",
     "output_type": "stream",
     "text": [
      "Epoch 3: 100%|██████████| 78/78 [00:17<00:00,  4.53it/s]\n"
     ]
    },
    {
     "name": "stdout",
     "output_type": "stream",
     "text": [
      "Epoch [3/10]\n",
      "Training Loss: 0.8764\n",
      "Validation Loss: 0.8564\n"
     ]
    },
    {
     "name": "stderr",
     "output_type": "stream",
     "text": [
      "Epoch 4: 100%|██████████| 78/78 [00:13<00:00,  5.81it/s]\n"
     ]
    },
    {
     "name": "stdout",
     "output_type": "stream",
     "text": [
      "Epoch [4/10]\n",
      "Training Loss: 0.6797\n",
      "Validation Loss: 0.8167\n"
     ]
    },
    {
     "name": "stderr",
     "output_type": "stream",
     "text": [
      "Epoch 5: 100%|██████████| 78/78 [00:13<00:00,  5.86it/s]\n"
     ]
    },
    {
     "name": "stdout",
     "output_type": "stream",
     "text": [
      "Epoch [5/10]\n",
      "Training Loss: 0.6380\n",
      "Validation Loss: 0.7892\n"
     ]
    },
    {
     "name": "stderr",
     "output_type": "stream",
     "text": [
      "Epoch 6: 100%|██████████| 78/78 [00:16<00:00,  4.66it/s]\n"
     ]
    },
    {
     "name": "stdout",
     "output_type": "stream",
     "text": [
      "Epoch [6/10]\n",
      "Training Loss: 0.6107\n",
      "Validation Loss: 0.7525\n"
     ]
    },
    {
     "name": "stderr",
     "output_type": "stream",
     "text": [
      "Epoch 7: 100%|██████████| 78/78 [00:15<00:00,  5.05it/s]\n"
     ]
    },
    {
     "name": "stdout",
     "output_type": "stream",
     "text": [
      "Epoch [7/10]\n",
      "Training Loss: 0.5899\n",
      "Validation Loss: 0.7258\n"
     ]
    },
    {
     "name": "stderr",
     "output_type": "stream",
     "text": [
      "Epoch 8: 100%|██████████| 78/78 [00:17<00:00,  4.45it/s]\n"
     ]
    },
    {
     "name": "stdout",
     "output_type": "stream",
     "text": [
      "Epoch [8/10]\n",
      "Training Loss: 0.5792\n",
      "Validation Loss: 0.7043\n"
     ]
    },
    {
     "name": "stderr",
     "output_type": "stream",
     "text": [
      "Epoch 9: 100%|██████████| 78/78 [00:15<00:00,  5.06it/s]\n"
     ]
    },
    {
     "name": "stdout",
     "output_type": "stream",
     "text": [
      "Epoch [9/10]\n",
      "Training Loss: 0.5705\n",
      "Validation Loss: 0.6777\n"
     ]
    },
    {
     "name": "stderr",
     "output_type": "stream",
     "text": [
      "Epoch 10: 100%|██████████| 78/78 [00:15<00:00,  5.00it/s]\n"
     ]
    },
    {
     "name": "stdout",
     "output_type": "stream",
     "text": [
      "Epoch [10/10]\n",
      "Training Loss: 0.5573\n",
      "Validation Loss: 0.6673\n",
      "\n",
      "Final Test Loss: 0.5525\n"
     ]
    },
    {
     "name": "stderr",
     "output_type": "stream",
     "text": [
      "Epoch 1: 100%|██████████| 78/78 [00:13<00:00,  5.93it/s]\n"
     ]
    },
    {
     "name": "stdout",
     "output_type": "stream",
     "text": [
      "Epoch [1/10]\n",
      "Training Loss: 2.6282\n",
      "Validation Loss: 2.7670\n"
     ]
    },
    {
     "name": "stderr",
     "output_type": "stream",
     "text": [
      "Epoch 2: 100%|██████████| 78/78 [00:14<00:00,  5.22it/s]\n"
     ]
    },
    {
     "name": "stdout",
     "output_type": "stream",
     "text": [
      "Epoch [2/10]\n",
      "Training Loss: 2.2075\n",
      "Validation Loss: 2.4674\n"
     ]
    },
    {
     "name": "stderr",
     "output_type": "stream",
     "text": [
      "Epoch 3: 100%|██████████| 78/78 [00:13<00:00,  5.92it/s]\n"
     ]
    },
    {
     "name": "stdout",
     "output_type": "stream",
     "text": [
      "Epoch [3/10]\n",
      "Training Loss: 1.6744\n",
      "Validation Loss: 1.7105\n"
     ]
    },
    {
     "name": "stderr",
     "output_type": "stream",
     "text": [
      "Epoch 4: 100%|██████████| 78/78 [00:17<00:00,  4.54it/s]\n"
     ]
    },
    {
     "name": "stdout",
     "output_type": "stream",
     "text": [
      "Epoch [4/10]\n",
      "Training Loss: 1.3325\n",
      "Validation Loss: 1.6859\n"
     ]
    },
    {
     "name": "stderr",
     "output_type": "stream",
     "text": [
      "Epoch 5: 100%|██████████| 78/78 [00:15<00:00,  5.00it/s]\n"
     ]
    },
    {
     "name": "stdout",
     "output_type": "stream",
     "text": [
      "Epoch [5/10]\n",
      "Training Loss: 1.3074\n",
      "Validation Loss: 1.6419\n"
     ]
    },
    {
     "name": "stderr",
     "output_type": "stream",
     "text": [
      "Epoch 6: 100%|██████████| 78/78 [00:17<00:00,  4.41it/s]\n"
     ]
    },
    {
     "name": "stdout",
     "output_type": "stream",
     "text": [
      "Epoch [6/10]\n",
      "Training Loss: 1.2721\n",
      "Validation Loss: 1.6283\n"
     ]
    },
    {
     "name": "stderr",
     "output_type": "stream",
     "text": [
      "Epoch 7: 100%|██████████| 78/78 [00:15<00:00,  4.96it/s]\n"
     ]
    },
    {
     "name": "stdout",
     "output_type": "stream",
     "text": [
      "Epoch [7/10]\n",
      "Training Loss: 1.2595\n",
      "Validation Loss: 1.6033\n"
     ]
    },
    {
     "name": "stderr",
     "output_type": "stream",
     "text": [
      "Epoch 8: 100%|██████████| 78/78 [00:17<00:00,  4.39it/s]\n"
     ]
    },
    {
     "name": "stdout",
     "output_type": "stream",
     "text": [
      "Epoch [8/10]\n",
      "Training Loss: 1.2329\n",
      "Validation Loss: 1.5833\n"
     ]
    },
    {
     "name": "stderr",
     "output_type": "stream",
     "text": [
      "Epoch 9: 100%|██████████| 78/78 [00:15<00:00,  5.01it/s]\n"
     ]
    },
    {
     "name": "stdout",
     "output_type": "stream",
     "text": [
      "Epoch [9/10]\n",
      "Training Loss: 1.2061\n",
      "Validation Loss: 1.5531\n"
     ]
    },
    {
     "name": "stderr",
     "output_type": "stream",
     "text": [
      "Epoch 10: 100%|██████████| 78/78 [00:17<00:00,  4.45it/s]\n"
     ]
    },
    {
     "name": "stdout",
     "output_type": "stream",
     "text": [
      "Epoch [10/10]\n",
      "Training Loss: 1.1833\n",
      "Validation Loss: 1.5022\n",
      "\n",
      "Final Test Loss: 1.1856\n"
     ]
    },
    {
     "name": "stderr",
     "output_type": "stream",
     "text": [
      "Epoch 1: 100%|██████████| 78/78 [00:15<00:00,  5.08it/s]\n"
     ]
    },
    {
     "name": "stdout",
     "output_type": "stream",
     "text": [
      "Epoch [1/10]\n",
      "Training Loss: 263622.3526\n",
      "Validation Loss: 194237.0212\n"
     ]
    },
    {
     "name": "stderr",
     "output_type": "stream",
     "text": [
      "Epoch 2: 100%|██████████| 78/78 [00:17<00:00,  4.39it/s]\n"
     ]
    },
    {
     "name": "stdout",
     "output_type": "stream",
     "text": [
      "Epoch [2/10]\n",
      "Training Loss: 168216.6552\n",
      "Validation Loss: 180453.7051\n"
     ]
    },
    {
     "name": "stderr",
     "output_type": "stream",
     "text": [
      "Epoch 3: 100%|██████████| 78/78 [00:15<00:00,  5.05it/s]\n"
     ]
    },
    {
     "name": "stdout",
     "output_type": "stream",
     "text": [
      "Epoch [3/10]\n",
      "Training Loss: 160272.6587\n",
      "Validation Loss: 179533.4639\n"
     ]
    },
    {
     "name": "stderr",
     "output_type": "stream",
     "text": [
      "Epoch 4: 100%|██████████| 78/78 [00:17<00:00,  4.49it/s]\n"
     ]
    },
    {
     "name": "stdout",
     "output_type": "stream",
     "text": [
      "Epoch [4/10]\n",
      "Training Loss: 159253.9284\n",
      "Validation Loss: 177796.0745\n"
     ]
    },
    {
     "name": "stderr",
     "output_type": "stream",
     "text": [
      "Epoch 5: 100%|██████████| 78/78 [00:15<00:00,  5.10it/s]\n"
     ]
    },
    {
     "name": "stdout",
     "output_type": "stream",
     "text": [
      "Epoch [5/10]\n",
      "Training Loss: 158030.5673\n",
      "Validation Loss: 175895.4774\n"
     ]
    },
    {
     "name": "stderr",
     "output_type": "stream",
     "text": [
      "Epoch 6: 100%|██████████| 78/78 [00:17<00:00,  4.48it/s]\n"
     ]
    },
    {
     "name": "stdout",
     "output_type": "stream",
     "text": [
      "Epoch [6/10]\n",
      "Training Loss: 156778.2640\n",
      "Validation Loss: 174146.9800\n"
     ]
    },
    {
     "name": "stderr",
     "output_type": "stream",
     "text": [
      "Epoch 7: 100%|██████████| 78/78 [00:15<00:00,  5.11it/s]\n"
     ]
    },
    {
     "name": "stdout",
     "output_type": "stream",
     "text": [
      "Epoch [7/10]\n",
      "Training Loss: 155369.3051\n",
      "Validation Loss: 172452.4300\n"
     ]
    },
    {
     "name": "stderr",
     "output_type": "stream",
     "text": [
      "Epoch 8: 100%|██████████| 78/78 [00:17<00:00,  4.39it/s]\n"
     ]
    },
    {
     "name": "stdout",
     "output_type": "stream",
     "text": [
      "Epoch [8/10]\n",
      "Training Loss: 153580.3467\n",
      "Validation Loss: 171415.1956\n"
     ]
    },
    {
     "name": "stderr",
     "output_type": "stream",
     "text": [
      "Epoch 9: 100%|██████████| 78/78 [00:15<00:00,  5.00it/s]\n"
     ]
    },
    {
     "name": "stdout",
     "output_type": "stream",
     "text": [
      "Epoch [9/10]\n",
      "Training Loss: 151598.5502\n",
      "Validation Loss: 166859.4489\n"
     ]
    },
    {
     "name": "stderr",
     "output_type": "stream",
     "text": [
      "Epoch 10: 100%|██████████| 78/78 [00:17<00:00,  4.39it/s]\n"
     ]
    },
    {
     "name": "stdout",
     "output_type": "stream",
     "text": [
      "Epoch [10/10]\n",
      "Training Loss: 148769.7965\n",
      "Validation Loss: 162994.0365\n",
      "\n",
      "Final Test Loss: 145722.5017\n"
     ]
    },
    {
     "name": "stderr",
     "output_type": "stream",
     "text": [
      "Epoch 1: 100%|██████████| 78/78 [00:15<00:00,  5.15it/s]\n"
     ]
    },
    {
     "name": "stdout",
     "output_type": "stream",
     "text": [
      "Epoch [1/10]\n",
      "Training Loss: 585621.8856\n",
      "Validation Loss: 412958.7575\n"
     ]
    },
    {
     "name": "stderr",
     "output_type": "stream",
     "text": [
      "Epoch 2: 100%|██████████| 78/78 [00:17<00:00,  4.49it/s]\n"
     ]
    },
    {
     "name": "stdout",
     "output_type": "stream",
     "text": [
      "Epoch [2/10]\n",
      "Training Loss: 354009.2003\n",
      "Validation Loss: 387639.9486\n"
     ]
    },
    {
     "name": "stderr",
     "output_type": "stream",
     "text": [
      "Epoch 3: 100%|██████████| 78/78 [00:15<00:00,  5.07it/s]\n"
     ]
    },
    {
     "name": "stdout",
     "output_type": "stream",
     "text": [
      "Epoch [3/10]\n",
      "Training Loss: 338274.2929\n",
      "Validation Loss: 360571.1768\n"
     ]
    },
    {
     "name": "stderr",
     "output_type": "stream",
     "text": [
      "Epoch 4: 100%|██████████| 78/78 [00:15<00:00,  5.13it/s]\n"
     ]
    },
    {
     "name": "stdout",
     "output_type": "stream",
     "text": [
      "Epoch [4/10]\n",
      "Training Loss: 332038.5691\n",
      "Validation Loss: 356511.7637\n"
     ]
    },
    {
     "name": "stderr",
     "output_type": "stream",
     "text": [
      "Epoch 5: 100%|██████████| 78/78 [00:13<00:00,  6.00it/s]\n"
     ]
    },
    {
     "name": "stdout",
     "output_type": "stream",
     "text": [
      "Epoch [5/10]\n",
      "Training Loss: 324835.9172\n",
      "Validation Loss: 342060.7467\n"
     ]
    },
    {
     "name": "stderr",
     "output_type": "stream",
     "text": [
      "Epoch 6: 100%|██████████| 78/78 [00:15<00:00,  5.14it/s]\n"
     ]
    },
    {
     "name": "stdout",
     "output_type": "stream",
     "text": [
      "Epoch [6/10]\n",
      "Training Loss: 305998.2314\n",
      "Validation Loss: 332142.7907\n"
     ]
    },
    {
     "name": "stderr",
     "output_type": "stream",
     "text": [
      "Epoch 7: 100%|██████████| 78/78 [00:13<00:00,  5.96it/s]\n"
     ]
    },
    {
     "name": "stdout",
     "output_type": "stream",
     "text": [
      "Epoch [7/10]\n",
      "Training Loss: 299170.3562\n",
      "Validation Loss: 322744.5319\n"
     ]
    },
    {
     "name": "stderr",
     "output_type": "stream",
     "text": [
      "Epoch 8: 100%|██████████| 78/78 [00:15<00:00,  5.15it/s]\n"
     ]
    },
    {
     "name": "stdout",
     "output_type": "stream",
     "text": [
      "Epoch [8/10]\n",
      "Training Loss: 293210.8620\n",
      "Validation Loss: 317029.1686\n"
     ]
    },
    {
     "name": "stderr",
     "output_type": "stream",
     "text": [
      "Epoch 9: 100%|██████████| 78/78 [00:13<00:00,  5.86it/s]\n"
     ]
    },
    {
     "name": "stdout",
     "output_type": "stream",
     "text": [
      "Epoch [9/10]\n",
      "Training Loss: 289830.1394\n",
      "Validation Loss: 309477.0501\n"
     ]
    },
    {
     "name": "stderr",
     "output_type": "stream",
     "text": [
      "Epoch 10: 100%|██████████| 78/78 [00:12<00:00,  6.04it/s]\n"
     ]
    },
    {
     "name": "stdout",
     "output_type": "stream",
     "text": [
      "Epoch [10/10]\n",
      "Training Loss: 285890.7623\n",
      "Validation Loss: 306517.4603\n",
      "\n",
      "Final Test Loss: 279884.3400\n"
     ]
    },
    {
     "name": "stderr",
     "output_type": "stream",
     "text": [
      "Epoch 1: 100%|██████████| 78/78 [00:12<00:00,  6.07it/s]\n"
     ]
    },
    {
     "name": "stdout",
     "output_type": "stream",
     "text": [
      "Epoch [1/10]\n",
      "Training Loss: 1326795.8129\n",
      "Validation Loss: 1040520.5833\n"
     ]
    },
    {
     "name": "stderr",
     "output_type": "stream",
     "text": [
      "Epoch 2: 100%|██████████| 78/78 [00:13<00:00,  5.93it/s]\n"
     ]
    },
    {
     "name": "stdout",
     "output_type": "stream",
     "text": [
      "Epoch [2/10]\n",
      "Training Loss: 1132475.5429\n",
      "Validation Loss: 761785.5339\n"
     ]
    },
    {
     "name": "stderr",
     "output_type": "stream",
     "text": [
      "Epoch 3: 100%|██████████| 78/78 [00:15<00:00,  5.01it/s]\n"
     ]
    },
    {
     "name": "stdout",
     "output_type": "stream",
     "text": [
      "Epoch [3/10]\n",
      "Training Loss: 689400.1887\n",
      "Validation Loss: 736806.6315\n"
     ]
    },
    {
     "name": "stderr",
     "output_type": "stream",
     "text": [
      "Epoch 4: 100%|██████████| 78/78 [00:13<00:00,  5.92it/s]\n"
     ]
    },
    {
     "name": "stdout",
     "output_type": "stream",
     "text": [
      "Epoch [4/10]\n",
      "Training Loss: 709686.6562\n",
      "Validation Loss: 727990.2135\n"
     ]
    },
    {
     "name": "stderr",
     "output_type": "stream",
     "text": [
      "Epoch 5: 100%|██████████| 78/78 [00:15<00:00,  5.07it/s]\n"
     ]
    },
    {
     "name": "stdout",
     "output_type": "stream",
     "text": [
      "Epoch [5/10]\n",
      "Training Loss: 668810.2839\n",
      "Validation Loss: 718808.2884\n"
     ]
    },
    {
     "name": "stderr",
     "output_type": "stream",
     "text": [
      "Epoch 6: 100%|██████████| 78/78 [00:13<00:00,  5.91it/s]\n"
     ]
    },
    {
     "name": "stdout",
     "output_type": "stream",
     "text": [
      "Epoch [6/10]\n",
      "Training Loss: 638921.7143\n",
      "Validation Loss: 689354.0339\n"
     ]
    },
    {
     "name": "stderr",
     "output_type": "stream",
     "text": [
      "Epoch 7: 100%|██████████| 78/78 [00:15<00:00,  5.09it/s]\n"
     ]
    },
    {
     "name": "stdout",
     "output_type": "stream",
     "text": [
      "Epoch [7/10]\n",
      "Training Loss: 620386.8830\n",
      "Validation Loss: 665378.7422\n"
     ]
    },
    {
     "name": "stderr",
     "output_type": "stream",
     "text": [
      "Epoch 8: 100%|██████████| 78/78 [00:13<00:00,  5.90it/s]\n"
     ]
    },
    {
     "name": "stdout",
     "output_type": "stream",
     "text": [
      "Epoch [8/10]\n",
      "Training Loss: 600612.4872\n",
      "Validation Loss: 640275.5592\n"
     ]
    },
    {
     "name": "stderr",
     "output_type": "stream",
     "text": [
      "Epoch 9: 100%|██████████| 78/78 [00:12<00:00,  6.01it/s]\n"
     ]
    },
    {
     "name": "stdout",
     "output_type": "stream",
     "text": [
      "Epoch [9/10]\n",
      "Training Loss: 586830.3321\n",
      "Validation Loss: 630830.1973\n"
     ]
    },
    {
     "name": "stderr",
     "output_type": "stream",
     "text": [
      "Epoch 10: 100%|██████████| 78/78 [00:15<00:00,  5.03it/s]\n"
     ]
    },
    {
     "name": "stdout",
     "output_type": "stream",
     "text": [
      "Epoch [10/10]\n",
      "Training Loss: 585726.7648\n",
      "Validation Loss: 626670.3522\n",
      "\n",
      "Final Test Loss: 574411.6272\n",
      "\n",
      "Best loss function configuration:\n",
      "Reduction: mean\n",
      "Beta: 0.5\n",
      "Test loss: 0.2904\n"
     ]
    }
   ],
   "source": [
    "# first, let's do a baby grid search for the loss function:\n",
    "# Define loss function hyperparameter grid\n",
    "loss_param_grid = {\n",
    "    'reduction': ['mean', 'sum'],\n",
    "    'beta': [0.5, 1.0, 2.0]  # Weight factor for the loss\n",
    "}\n",
    "\n",
    "# Results storage\n",
    "results = []\n",
    "\n",
    "# Grid search over loss function parameters\n",
    "for reduction in loss_param_grid['reduction']:\n",
    "    for beta in loss_param_grid['beta']:\n",
    "        # Initialize model\n",
    "        model = SnowDepthCNN()\n",
    "        model = model.to(device)\n",
    "        \n",
    "        # Initialize loss with current parameters\n",
    "        criterion = nn.L1Loss(reduction=reduction)\n",
    "        if beta != 1.0:\n",
    "            criterion = lambda x, y: beta * nn.L1Loss(reduction=reduction)(x, y)\n",
    "            \n",
    "        optimizer = torch.optim.Adam(model.parameters(), lr=0.001)\n",
    "        \n",
    "        # Train and evaluate\n",
    "        train_losses, val_losses, test_loss = train_and_evaluate_model(\n",
    "            model=model,\n",
    "            train_loader=train_loader,\n",
    "            val_loader=val_loader,\n",
    "            test_loader=test_loader,\n",
    "            criterion=criterion,\n",
    "            optimizer=optimizer,\n",
    "            num_epochs=num_epochs,\n",
    "            device=device\n",
    "        )\n",
    "        \n",
    "        results.append({\n",
    "            'reduction': reduction,\n",
    "            'beta': beta,\n",
    "            'test_loss': test_loss,\n",
    "            'final_val_loss': val_losses[-1]\n",
    "        })\n",
    "\n",
    "# Find best configuration\n",
    "best_result = min(results, key=lambda x: x['test_loss'])\n",
    "print(\"\\nBest loss function configuration:\")\n",
    "print(f\"Reduction: {best_result['reduction']}\")\n",
    "print(f\"Beta: {best_result['beta']}\")\n",
    "print(f\"Test loss: {best_result['test_loss']:.4f}\")\n"
   ]
  },
  {
   "cell_type": "code",
   "execution_count": null,
   "metadata": {},
   "outputs": [],
   "source": [
    "# ok wow, that minimum loss from the somewhat-optimal loss parameters is pretty incredible\n",
    "# the summed lopss is harder to interpret, so let's just skip that"
   ]
  },
  {
   "cell_type": "code",
   "execution_count": 56,
   "metadata": {},
   "outputs": [
    {
     "name": "stderr",
     "output_type": "stream",
     "text": [
      "Epoch 1: 100%|██████████| 78/78 [00:15<00:00,  5.14it/s]\n"
     ]
    },
    {
     "name": "stdout",
     "output_type": "stream",
     "text": [
      "Epoch [1/10]\n",
      "Training Loss: 0.6842\n",
      "Validation Loss: 0.4623\n"
     ]
    },
    {
     "name": "stderr",
     "output_type": "stream",
     "text": [
      "Epoch 2: 100%|██████████| 78/78 [00:17<00:00,  4.34it/s]\n"
     ]
    },
    {
     "name": "stdout",
     "output_type": "stream",
     "text": [
      "Epoch [2/10]\n",
      "Training Loss: 0.6074\n",
      "Validation Loss: 0.6001\n"
     ]
    },
    {
     "name": "stderr",
     "output_type": "stream",
     "text": [
      "Epoch 3: 100%|██████████| 78/78 [00:15<00:00,  5.07it/s]\n"
     ]
    },
    {
     "name": "stdout",
     "output_type": "stream",
     "text": [
      "Epoch [3/10]\n",
      "Training Loss: 0.4905\n",
      "Validation Loss: 0.4296\n"
     ]
    },
    {
     "name": "stderr",
     "output_type": "stream",
     "text": [
      "Epoch 4: 100%|██████████| 78/78 [00:18<00:00,  4.29it/s]\n"
     ]
    },
    {
     "name": "stdout",
     "output_type": "stream",
     "text": [
      "Epoch [4/10]\n",
      "Training Loss: 0.3462\n",
      "Validation Loss: 0.4155\n"
     ]
    },
    {
     "name": "stderr",
     "output_type": "stream",
     "text": [
      "Epoch 5: 100%|██████████| 78/78 [00:15<00:00,  5.01it/s]\n"
     ]
    },
    {
     "name": "stdout",
     "output_type": "stream",
     "text": [
      "Epoch [5/10]\n",
      "Training Loss: 0.3318\n",
      "Validation Loss: 0.4122\n"
     ]
    },
    {
     "name": "stderr",
     "output_type": "stream",
     "text": [
      "Epoch 6: 100%|██████████| 78/78 [00:18<00:00,  4.32it/s]\n"
     ]
    },
    {
     "name": "stdout",
     "output_type": "stream",
     "text": [
      "Epoch [6/10]\n",
      "Training Loss: 0.3274\n",
      "Validation Loss: 0.4067\n"
     ]
    },
    {
     "name": "stderr",
     "output_type": "stream",
     "text": [
      "Epoch 7: 100%|██████████| 78/78 [00:15<00:00,  5.04it/s]\n"
     ]
    },
    {
     "name": "stdout",
     "output_type": "stream",
     "text": [
      "Epoch [7/10]\n",
      "Training Loss: 0.3169\n",
      "Validation Loss: 0.4075\n"
     ]
    },
    {
     "name": "stderr",
     "output_type": "stream",
     "text": [
      "Epoch 8: 100%|██████████| 78/78 [00:16<00:00,  4.67it/s]\n"
     ]
    },
    {
     "name": "stdout",
     "output_type": "stream",
     "text": [
      "Epoch [8/10]\n",
      "Training Loss: 0.3210\n",
      "Validation Loss: 0.3939\n"
     ]
    },
    {
     "name": "stderr",
     "output_type": "stream",
     "text": [
      "Epoch 9: 100%|██████████| 78/78 [00:13<00:00,  5.94it/s]\n"
     ]
    },
    {
     "name": "stdout",
     "output_type": "stream",
     "text": [
      "Epoch [9/10]\n",
      "Training Loss: 0.3055\n",
      "Validation Loss: 0.3679\n"
     ]
    },
    {
     "name": "stderr",
     "output_type": "stream",
     "text": [
      "Epoch 10: 100%|██████████| 78/78 [00:15<00:00,  4.93it/s]\n"
     ]
    },
    {
     "name": "stdout",
     "output_type": "stream",
     "text": [
      "Epoch [10/10]\n",
      "Training Loss: 0.2887\n",
      "Validation Loss: 0.3537\n",
      "\n",
      "Final Test Loss: 0.2878\n"
     ]
    },
    {
     "name": "stderr",
     "output_type": "stream",
     "text": [
      "Epoch 1: 100%|██████████| 78/78 [00:13<00:00,  5.98it/s]\n"
     ]
    },
    {
     "name": "stdout",
     "output_type": "stream",
     "text": [
      "Epoch [1/10]\n",
      "Training Loss: 0.7596\n",
      "Validation Loss: 0.4596\n"
     ]
    },
    {
     "name": "stderr",
     "output_type": "stream",
     "text": [
      "Epoch 2: 100%|██████████| 78/78 [00:16<00:00,  4.86it/s]\n"
     ]
    },
    {
     "name": "stdout",
     "output_type": "stream",
     "text": [
      "Epoch [2/10]\n",
      "Training Loss: 0.3889\n",
      "Validation Loss: 0.4153\n"
     ]
    },
    {
     "name": "stderr",
     "output_type": "stream",
     "text": [
      "Epoch 3: 100%|██████████| 78/78 [00:12<00:00,  6.00it/s]\n"
     ]
    },
    {
     "name": "stdout",
     "output_type": "stream",
     "text": [
      "Epoch [3/10]\n",
      "Training Loss: 0.3822\n",
      "Validation Loss: 0.4083\n"
     ]
    },
    {
     "name": "stderr",
     "output_type": "stream",
     "text": [
      "Epoch 4: 100%|██████████| 78/78 [00:13<00:00,  5.94it/s]\n"
     ]
    },
    {
     "name": "stdout",
     "output_type": "stream",
     "text": [
      "Epoch [4/10]\n",
      "Training Loss: 0.3205\n",
      "Validation Loss: 0.3975\n"
     ]
    },
    {
     "name": "stderr",
     "output_type": "stream",
     "text": [
      "Epoch 5: 100%|██████████| 78/78 [00:15<00:00,  5.04it/s]\n"
     ]
    },
    {
     "name": "stdout",
     "output_type": "stream",
     "text": [
      "Epoch [5/10]\n",
      "Training Loss: 0.3157\n",
      "Validation Loss: 0.3841\n"
     ]
    },
    {
     "name": "stderr",
     "output_type": "stream",
     "text": [
      "Epoch 6: 100%|██████████| 78/78 [00:13<00:00,  5.92it/s]\n"
     ]
    },
    {
     "name": "stdout",
     "output_type": "stream",
     "text": [
      "Epoch [6/10]\n",
      "Training Loss: 0.2988\n",
      "Validation Loss: 0.3780\n"
     ]
    },
    {
     "name": "stderr",
     "output_type": "stream",
     "text": [
      "Epoch 7: 100%|██████████| 78/78 [00:15<00:00,  5.05it/s]\n"
     ]
    },
    {
     "name": "stdout",
     "output_type": "stream",
     "text": [
      "Epoch [7/10]\n",
      "Training Loss: 0.2938\n",
      "Validation Loss: 0.3681\n"
     ]
    },
    {
     "name": "stderr",
     "output_type": "stream",
     "text": [
      "Epoch 8: 100%|██████████| 78/78 [00:12<00:00,  6.02it/s]\n"
     ]
    },
    {
     "name": "stdout",
     "output_type": "stream",
     "text": [
      "Epoch [8/10]\n",
      "Training Loss: 0.2905\n",
      "Validation Loss: 0.3628\n"
     ]
    },
    {
     "name": "stderr",
     "output_type": "stream",
     "text": [
      "Epoch 9: 100%|██████████| 78/78 [00:15<00:00,  5.18it/s]\n"
     ]
    },
    {
     "name": "stdout",
     "output_type": "stream",
     "text": [
      "Epoch [9/10]\n",
      "Training Loss: 0.2854\n",
      "Validation Loss: 0.3587\n"
     ]
    },
    {
     "name": "stderr",
     "output_type": "stream",
     "text": [
      "Epoch 10: 100%|██████████| 78/78 [00:13<00:00,  5.82it/s]\n"
     ]
    },
    {
     "name": "stdout",
     "output_type": "stream",
     "text": [
      "Epoch [10/10]\n",
      "Training Loss: 0.2861\n",
      "Validation Loss: 0.3641\n",
      "\n",
      "Final Test Loss: 0.2979\n"
     ]
    },
    {
     "name": "stderr",
     "output_type": "stream",
     "text": [
      "Epoch 1: 100%|██████████| 78/78 [00:22<00:00,  3.45it/s]\n"
     ]
    },
    {
     "name": "stdout",
     "output_type": "stream",
     "text": [
      "Epoch [1/10]\n",
      "Training Loss: 0.8167\n",
      "Validation Loss: 0.4301\n"
     ]
    },
    {
     "name": "stderr",
     "output_type": "stream",
     "text": [
      "Epoch 2: 100%|██████████| 78/78 [00:25<00:00,  3.05it/s]\n"
     ]
    },
    {
     "name": "stdout",
     "output_type": "stream",
     "text": [
      "Epoch [2/10]\n",
      "Training Loss: 0.4252\n",
      "Validation Loss: 0.4898\n"
     ]
    },
    {
     "name": "stderr",
     "output_type": "stream",
     "text": [
      "Epoch 3: 100%|██████████| 78/78 [00:25<00:00,  3.10it/s]\n"
     ]
    },
    {
     "name": "stdout",
     "output_type": "stream",
     "text": [
      "Epoch [3/10]\n",
      "Training Loss: 0.3633\n",
      "Validation Loss: 0.4325\n"
     ]
    },
    {
     "name": "stderr",
     "output_type": "stream",
     "text": [
      "Epoch 4: 100%|██████████| 78/78 [00:26<00:00,  2.90it/s]\n"
     ]
    },
    {
     "name": "stdout",
     "output_type": "stream",
     "text": [
      "Epoch [4/10]\n",
      "Training Loss: 0.3811\n",
      "Validation Loss: 0.4341\n"
     ]
    },
    {
     "name": "stderr",
     "output_type": "stream",
     "text": [
      "Epoch 5: 100%|██████████| 78/78 [00:27<00:00,  2.85it/s]\n"
     ]
    },
    {
     "name": "stdout",
     "output_type": "stream",
     "text": [
      "Epoch [5/10]\n",
      "Training Loss: 0.3505\n",
      "Validation Loss: 0.4244\n"
     ]
    },
    {
     "name": "stderr",
     "output_type": "stream",
     "text": [
      "Epoch 6: 100%|██████████| 78/78 [00:28<00:00,  2.74it/s]\n"
     ]
    },
    {
     "name": "stdout",
     "output_type": "stream",
     "text": [
      "Epoch [6/10]\n",
      "Training Loss: 0.3376\n",
      "Validation Loss: 0.4040\n"
     ]
    },
    {
     "name": "stderr",
     "output_type": "stream",
     "text": [
      "Epoch 7: 100%|██████████| 78/78 [00:26<00:00,  2.92it/s]\n"
     ]
    },
    {
     "name": "stdout",
     "output_type": "stream",
     "text": [
      "Epoch [7/10]\n",
      "Training Loss: 0.3329\n",
      "Validation Loss: 0.4189\n"
     ]
    },
    {
     "name": "stderr",
     "output_type": "stream",
     "text": [
      "Epoch 8: 100%|██████████| 78/78 [00:26<00:00,  3.00it/s]\n"
     ]
    },
    {
     "name": "stdout",
     "output_type": "stream",
     "text": [
      "Epoch [8/10]\n",
      "Training Loss: 0.3264\n",
      "Validation Loss: 0.3907\n"
     ]
    },
    {
     "name": "stderr",
     "output_type": "stream",
     "text": [
      "Epoch 9: 100%|██████████| 78/78 [00:27<00:00,  2.88it/s]\n"
     ]
    },
    {
     "name": "stdout",
     "output_type": "stream",
     "text": [
      "Epoch [9/10]\n",
      "Training Loss: 0.3161\n",
      "Validation Loss: 0.3859\n"
     ]
    },
    {
     "name": "stderr",
     "output_type": "stream",
     "text": [
      "Epoch 10: 100%|██████████| 78/78 [00:27<00:00,  2.82it/s]\n"
     ]
    },
    {
     "name": "stdout",
     "output_type": "stream",
     "text": [
      "Epoch [10/10]\n",
      "Training Loss: 0.3088\n",
      "Validation Loss: 0.3762\n",
      "\n",
      "Final Test Loss: 0.3031\n"
     ]
    },
    {
     "name": "stderr",
     "output_type": "stream",
     "text": [
      "Epoch 1: 100%|██████████| 78/78 [00:20<00:00,  3.81it/s]\n"
     ]
    },
    {
     "name": "stdout",
     "output_type": "stream",
     "text": [
      "Epoch [1/10]\n",
      "Training Loss: 0.3117\n",
      "Validation Loss: 0.4046\n"
     ]
    },
    {
     "name": "stderr",
     "output_type": "stream",
     "text": [
      "Epoch 2: 100%|██████████| 78/78 [00:18<00:00,  4.20it/s]\n"
     ]
    },
    {
     "name": "stdout",
     "output_type": "stream",
     "text": [
      "Epoch [2/10]\n",
      "Training Loss: 0.3067\n",
      "Validation Loss: 0.4046\n"
     ]
    },
    {
     "name": "stderr",
     "output_type": "stream",
     "text": [
      "Epoch 3: 100%|██████████| 78/78 [00:20<00:00,  3.72it/s]\n"
     ]
    },
    {
     "name": "stdout",
     "output_type": "stream",
     "text": [
      "Epoch [3/10]\n",
      "Training Loss: 0.3069\n",
      "Validation Loss: 0.4025\n"
     ]
    },
    {
     "name": "stderr",
     "output_type": "stream",
     "text": [
      "Epoch 4: 100%|██████████| 78/78 [00:20<00:00,  3.76it/s]\n"
     ]
    },
    {
     "name": "stdout",
     "output_type": "stream",
     "text": [
      "Epoch [4/10]\n",
      "Training Loss: 0.3064\n",
      "Validation Loss: 0.4011\n"
     ]
    },
    {
     "name": "stderr",
     "output_type": "stream",
     "text": [
      "Epoch 5: 100%|██████████| 78/78 [00:18<00:00,  4.20it/s]\n"
     ]
    },
    {
     "name": "stdout",
     "output_type": "stream",
     "text": [
      "Epoch [5/10]\n",
      "Training Loss: 0.3056\n",
      "Validation Loss: 0.3994\n"
     ]
    },
    {
     "name": "stderr",
     "output_type": "stream",
     "text": [
      "Epoch 6: 100%|██████████| 78/78 [00:20<00:00,  3.80it/s]\n"
     ]
    },
    {
     "name": "stdout",
     "output_type": "stream",
     "text": [
      "Epoch [6/10]\n",
      "Training Loss: 0.3069\n",
      "Validation Loss: 0.3980\n"
     ]
    },
    {
     "name": "stderr",
     "output_type": "stream",
     "text": [
      "Epoch 7: 100%|██████████| 78/78 [00:18<00:00,  4.21it/s]\n"
     ]
    },
    {
     "name": "stdout",
     "output_type": "stream",
     "text": [
      "Epoch [7/10]\n",
      "Training Loss: 0.3042\n",
      "Validation Loss: 0.3977\n"
     ]
    },
    {
     "name": "stderr",
     "output_type": "stream",
     "text": [
      "Epoch 8: 100%|██████████| 78/78 [00:20<00:00,  3.79it/s]\n"
     ]
    },
    {
     "name": "stdout",
     "output_type": "stream",
     "text": [
      "Epoch [8/10]\n",
      "Training Loss: 0.3049\n",
      "Validation Loss: 0.3930\n"
     ]
    },
    {
     "name": "stderr",
     "output_type": "stream",
     "text": [
      "Epoch 9: 100%|██████████| 78/78 [00:20<00:00,  3.76it/s]\n"
     ]
    },
    {
     "name": "stdout",
     "output_type": "stream",
     "text": [
      "Epoch [9/10]\n",
      "Training Loss: 0.3033\n",
      "Validation Loss: 0.3883\n"
     ]
    },
    {
     "name": "stderr",
     "output_type": "stream",
     "text": [
      "Epoch 10: 100%|██████████| 78/78 [00:18<00:00,  4.22it/s]\n"
     ]
    },
    {
     "name": "stdout",
     "output_type": "stream",
     "text": [
      "Epoch [10/10]\n",
      "Training Loss: 0.3020\n",
      "Validation Loss: 0.3879\n",
      "\n",
      "Final Test Loss: 0.3081\n",
      "\n",
      "Best activation function:\n",
      "Activation: ReLU\n",
      "Test loss: 0.2878\n"
     ]
    }
   ],
   "source": [
    "# now let's do activation functions\n",
    "# and implement those awesome loss function parameters\n",
    "activation_functions = [torch.nn.ReLU(), torch.nn.LeakyReLU(), torch.nn.ELU(), torch.nn.Sigmoid()]\n",
    "\n",
    "class SnowDepthCNN(nn.Module):\n",
    "    def __init__(self, activation=nn.ReLU()):\n",
    "        super(SnowDepthCNN, self).__init__()\n",
    "        self.conv1 = nn.Conv2d(in_channels=13, out_channels=32, kernel_size=3, padding=1)\n",
    "        self.conv2 = nn.Conv2d(in_channels=32, out_channels=16, kernel_size=3, padding=1)\n",
    "        self.conv3 = nn.Conv2d(in_channels=16, out_channels=1, kernel_size=1)\n",
    "        self.activation = activation\n",
    "\n",
    "    def forward(self, x):\n",
    "        x = self.activation(self.conv1(x))\n",
    "        x = self.activation(self.conv2(x))\n",
    "        x = self.conv3(x)\n",
    "        return x.squeeze(1)\n",
    "\n",
    "# Custom L1Loss with beta=0.5\n",
    "class CustomL1Loss(nn.Module):\n",
    "    def __init__(self, beta=0.5):\n",
    "        super(CustomL1Loss, self).__init__()\n",
    "        self.beta = beta\n",
    "        self.base_loss = nn.L1Loss(reduction='mean')\n",
    "    \n",
    "    def forward(self, pred, target):\n",
    "        return self.beta * self.base_loss(pred, target)\n",
    "\n",
    "# Test different activation functions\n",
    "activation_functions = [nn.ReLU(), nn.LeakyReLU(), nn.ELU(), nn.Sigmoid()]\n",
    "results = []\n",
    "\n",
    "for activation in activation_functions:\n",
    "    model = SnowDepthCNN(activation=activation)\n",
    "    model = model.to(device)\n",
    "    criterion = CustomL1Loss(beta=0.5)\n",
    "    optimizer = torch.optim.Adam(model.parameters(), lr=0.001)\n",
    "    \n",
    "    train_losses, val_losses, test_loss = train_and_evaluate_model(\n",
    "        model=model,\n",
    "        train_loader=train_loader,\n",
    "        val_loader=val_loader,\n",
    "        test_loader=test_loader,\n",
    "        criterion=criterion,\n",
    "        optimizer=optimizer,\n",
    "        num_epochs=num_epochs,\n",
    "        device=device\n",
    "    )\n",
    "    \n",
    "    results.append({\n",
    "        'activation': activation.__class__.__name__,\n",
    "        'test_loss': test_loss,\n",
    "        'final_val_loss': val_losses[-1]\n",
    "    })\n",
    "\n",
    "# Find best activation function\n",
    "best_result = min(results, key=lambda x: x['test_loss'])\n",
    "print(\"\\nBest activation function:\")\n",
    "print(f\"Activation: {best_result['activation']}\")\n",
    "print(f\"Test loss: {best_result['test_loss']:.4f}\")"
   ]
  },
  {
   "cell_type": "code",
   "execution_count": null,
   "metadata": {},
   "outputs": [],
   "source": [
    "# So ReLU seems to be the best activation function for this problem, at least of the four we tested"
   ]
  },
  {
   "cell_type": "code",
   "execution_count": 57,
   "metadata": {},
   "outputs": [
    {
     "name": "stderr",
     "output_type": "stream",
     "text": [
      "Epoch 1: 100%|██████████| 78/78 [00:16<00:00,  4.72it/s]\n"
     ]
    },
    {
     "name": "stdout",
     "output_type": "stream",
     "text": [
      "Epoch [1/10]\n",
      "Training Loss: 0.5685\n",
      "Validation Loss: 0.4200\n"
     ]
    },
    {
     "name": "stderr",
     "output_type": "stream",
     "text": [
      "Epoch 2: 100%|██████████| 78/78 [00:14<00:00,  5.44it/s]\n"
     ]
    },
    {
     "name": "stdout",
     "output_type": "stream",
     "text": [
      "Epoch [2/10]\n",
      "Training Loss: 0.3159\n",
      "Validation Loss: 0.4043\n"
     ]
    },
    {
     "name": "stderr",
     "output_type": "stream",
     "text": [
      "Epoch 3: 100%|██████████| 78/78 [00:12<00:00,  6.04it/s]\n"
     ]
    },
    {
     "name": "stdout",
     "output_type": "stream",
     "text": [
      "Epoch [3/10]\n",
      "Training Loss: 0.3106\n",
      "Validation Loss: 0.4023\n"
     ]
    },
    {
     "name": "stderr",
     "output_type": "stream",
     "text": [
      "Epoch 4: 100%|██████████| 78/78 [00:15<00:00,  4.99it/s]\n"
     ]
    },
    {
     "name": "stdout",
     "output_type": "stream",
     "text": [
      "Epoch [4/10]\n",
      "Training Loss: 0.3073\n",
      "Validation Loss: 0.4015\n"
     ]
    },
    {
     "name": "stderr",
     "output_type": "stream",
     "text": [
      "Epoch 5: 100%|██████████| 78/78 [00:12<00:00,  6.01it/s]\n"
     ]
    },
    {
     "name": "stdout",
     "output_type": "stream",
     "text": [
      "Epoch [5/10]\n",
      "Training Loss: 0.3061\n",
      "Validation Loss: 0.4003\n"
     ]
    },
    {
     "name": "stderr",
     "output_type": "stream",
     "text": [
      "Epoch 6: 100%|██████████| 78/78 [00:15<00:00,  4.97it/s]\n"
     ]
    },
    {
     "name": "stdout",
     "output_type": "stream",
     "text": [
      "Epoch [6/10]\n",
      "Training Loss: 0.3059\n",
      "Validation Loss: 0.3963\n"
     ]
    },
    {
     "name": "stderr",
     "output_type": "stream",
     "text": [
      "Epoch 7: 100%|██████████| 78/78 [00:13<00:00,  5.88it/s]\n"
     ]
    },
    {
     "name": "stdout",
     "output_type": "stream",
     "text": [
      "Epoch [7/10]\n",
      "Training Loss: 0.3016\n",
      "Validation Loss: 0.3828\n"
     ]
    },
    {
     "name": "stderr",
     "output_type": "stream",
     "text": [
      "Epoch 8: 100%|██████████| 78/78 [00:15<00:00,  5.06it/s]\n"
     ]
    },
    {
     "name": "stdout",
     "output_type": "stream",
     "text": [
      "Epoch [8/10]\n",
      "Training Loss: 0.2945\n",
      "Validation Loss: 0.3690\n"
     ]
    },
    {
     "name": "stderr",
     "output_type": "stream",
     "text": [
      "Epoch 9: 100%|██████████| 78/78 [00:13<00:00,  5.82it/s]\n"
     ]
    },
    {
     "name": "stdout",
     "output_type": "stream",
     "text": [
      "Epoch [9/10]\n",
      "Training Loss: 0.2852\n",
      "Validation Loss: 0.3529\n"
     ]
    },
    {
     "name": "stderr",
     "output_type": "stream",
     "text": [
      "Epoch 10: 100%|██████████| 78/78 [00:17<00:00,  4.44it/s]\n"
     ]
    },
    {
     "name": "stdout",
     "output_type": "stream",
     "text": [
      "Epoch [10/10]\n",
      "Training Loss: 0.2801\n",
      "Validation Loss: 0.3489\n",
      "\n",
      "Final Test Loss: 0.2818\n"
     ]
    },
    {
     "name": "stderr",
     "output_type": "stream",
     "text": [
      "Epoch 1: 100%|██████████| 78/78 [00:33<00:00,  2.30it/s]\n"
     ]
    },
    {
     "name": "stdout",
     "output_type": "stream",
     "text": [
      "Epoch [1/10]\n",
      "Training Loss: 0.9071\n",
      "Validation Loss: 0.6191\n"
     ]
    },
    {
     "name": "stderr",
     "output_type": "stream",
     "text": [
      "Epoch 2: 100%|██████████| 78/78 [00:33<00:00,  2.32it/s]\n"
     ]
    },
    {
     "name": "stdout",
     "output_type": "stream",
     "text": [
      "Epoch [2/10]\n",
      "Training Loss: 0.4048\n",
      "Validation Loss: 0.4170\n"
     ]
    },
    {
     "name": "stderr",
     "output_type": "stream",
     "text": [
      "Epoch 3: 100%|██████████| 78/78 [00:34<00:00,  2.29it/s]\n"
     ]
    },
    {
     "name": "stdout",
     "output_type": "stream",
     "text": [
      "Epoch [3/10]\n",
      "Training Loss: 0.3324\n",
      "Validation Loss: 0.4070\n"
     ]
    },
    {
     "name": "stderr",
     "output_type": "stream",
     "text": [
      "Epoch 4: 100%|██████████| 78/78 [00:33<00:00,  2.33it/s]\n"
     ]
    },
    {
     "name": "stdout",
     "output_type": "stream",
     "text": [
      "Epoch [4/10]\n",
      "Training Loss: 0.3139\n",
      "Validation Loss: 0.4000\n"
     ]
    },
    {
     "name": "stderr",
     "output_type": "stream",
     "text": [
      "Epoch 5: 100%|██████████| 78/78 [00:33<00:00,  2.31it/s]\n"
     ]
    },
    {
     "name": "stdout",
     "output_type": "stream",
     "text": [
      "Epoch [5/10]\n",
      "Training Loss: 0.3052\n",
      "Validation Loss: 0.3945\n"
     ]
    },
    {
     "name": "stderr",
     "output_type": "stream",
     "text": [
      "Epoch 6: 100%|██████████| 78/78 [00:33<00:00,  2.32it/s]\n"
     ]
    },
    {
     "name": "stdout",
     "output_type": "stream",
     "text": [
      "Epoch [6/10]\n",
      "Training Loss: 0.3010\n",
      "Validation Loss: 0.3848\n"
     ]
    },
    {
     "name": "stderr",
     "output_type": "stream",
     "text": [
      "Epoch 7: 100%|██████████| 78/78 [00:33<00:00,  2.34it/s]\n"
     ]
    },
    {
     "name": "stdout",
     "output_type": "stream",
     "text": [
      "Epoch [7/10]\n",
      "Training Loss: 0.2940\n",
      "Validation Loss: 0.3716\n"
     ]
    },
    {
     "name": "stderr",
     "output_type": "stream",
     "text": [
      "Epoch 8: 100%|██████████| 78/78 [00:33<00:00,  2.31it/s]\n"
     ]
    },
    {
     "name": "stdout",
     "output_type": "stream",
     "text": [
      "Epoch [8/10]\n",
      "Training Loss: 0.2869\n",
      "Validation Loss: 0.3597\n"
     ]
    },
    {
     "name": "stderr",
     "output_type": "stream",
     "text": [
      "Epoch 9: 100%|██████████| 78/78 [00:34<00:00,  2.29it/s]\n"
     ]
    },
    {
     "name": "stdout",
     "output_type": "stream",
     "text": [
      "Epoch [9/10]\n",
      "Training Loss: 0.2822\n",
      "Validation Loss: 0.3441\n"
     ]
    },
    {
     "name": "stderr",
     "output_type": "stream",
     "text": [
      "Epoch 10: 100%|██████████| 78/78 [00:33<00:00,  2.31it/s]\n"
     ]
    },
    {
     "name": "stdout",
     "output_type": "stream",
     "text": [
      "Epoch [10/10]\n",
      "Training Loss: 0.2773\n",
      "Validation Loss: 0.3487\n",
      "\n",
      "Final Test Loss: 0.2827\n"
     ]
    },
    {
     "name": "stderr",
     "output_type": "stream",
     "text": [
      "Epoch 1: 100%|██████████| 78/78 [00:16<00:00,  4.60it/s]\n"
     ]
    },
    {
     "name": "stdout",
     "output_type": "stream",
     "text": [
      "Epoch [1/10]\n",
      "Training Loss: 0.8512\n",
      "Validation Loss: 0.4846\n"
     ]
    },
    {
     "name": "stderr",
     "output_type": "stream",
     "text": [
      "Epoch 2: 100%|██████████| 78/78 [00:14<00:00,  5.47it/s]\n"
     ]
    },
    {
     "name": "stdout",
     "output_type": "stream",
     "text": [
      "Epoch [2/10]\n",
      "Training Loss: 0.5303\n",
      "Validation Loss: 0.4846\n"
     ]
    },
    {
     "name": "stderr",
     "output_type": "stream",
     "text": [
      "Epoch 3: 100%|██████████| 78/78 [00:15<00:00,  5.12it/s]\n"
     ]
    },
    {
     "name": "stdout",
     "output_type": "stream",
     "text": [
      "Epoch [3/10]\n",
      "Training Loss: 0.4891\n",
      "Validation Loss: 0.5925\n"
     ]
    },
    {
     "name": "stderr",
     "output_type": "stream",
     "text": [
      "Epoch 4: 100%|██████████| 78/78 [00:14<00:00,  5.41it/s]\n"
     ]
    },
    {
     "name": "stdout",
     "output_type": "stream",
     "text": [
      "Epoch [4/10]\n",
      "Training Loss: 0.4600\n",
      "Validation Loss: 0.4523\n"
     ]
    },
    {
     "name": "stderr",
     "output_type": "stream",
     "text": [
      "Epoch 5: 100%|██████████| 78/78 [00:14<00:00,  5.21it/s]\n"
     ]
    },
    {
     "name": "stdout",
     "output_type": "stream",
     "text": [
      "Epoch [5/10]\n",
      "Training Loss: 0.4449\n",
      "Validation Loss: 0.4300\n"
     ]
    },
    {
     "name": "stderr",
     "output_type": "stream",
     "text": [
      "Epoch 6: 100%|██████████| 78/78 [00:16<00:00,  4.74it/s]\n"
     ]
    },
    {
     "name": "stdout",
     "output_type": "stream",
     "text": [
      "Epoch [6/10]\n",
      "Training Loss: 0.4196\n",
      "Validation Loss: 0.4474\n"
     ]
    },
    {
     "name": "stderr",
     "output_type": "stream",
     "text": [
      "Epoch 7: 100%|██████████| 78/78 [00:14<00:00,  5.21it/s]\n"
     ]
    },
    {
     "name": "stdout",
     "output_type": "stream",
     "text": [
      "Epoch [7/10]\n",
      "Training Loss: 0.3986\n",
      "Validation Loss: 0.5160\n"
     ]
    },
    {
     "name": "stderr",
     "output_type": "stream",
     "text": [
      "Epoch 8: 100%|██████████| 78/78 [00:16<00:00,  4.69it/s]\n"
     ]
    },
    {
     "name": "stdout",
     "output_type": "stream",
     "text": [
      "Epoch [8/10]\n",
      "Training Loss: 0.3616\n",
      "Validation Loss: 0.4447\n"
     ]
    },
    {
     "name": "stderr",
     "output_type": "stream",
     "text": [
      "Epoch 9: 100%|██████████| 78/78 [00:14<00:00,  5.23it/s]\n"
     ]
    },
    {
     "name": "stdout",
     "output_type": "stream",
     "text": [
      "Epoch [9/10]\n",
      "Training Loss: 0.3683\n",
      "Validation Loss: 0.4307\n"
     ]
    },
    {
     "name": "stderr",
     "output_type": "stream",
     "text": [
      "Epoch 10: 100%|██████████| 78/78 [00:16<00:00,  4.66it/s]\n"
     ]
    },
    {
     "name": "stdout",
     "output_type": "stream",
     "text": [
      "Epoch [10/10]\n",
      "Training Loss: 0.3339\n",
      "Validation Loss: 0.4271\n",
      "\n",
      "Final Test Loss: 0.3534\n"
     ]
    },
    {
     "name": "stderr",
     "output_type": "stream",
     "text": [
      "Epoch 1: 100%|██████████| 78/78 [00:57<00:00,  1.36it/s]\n"
     ]
    },
    {
     "name": "stdout",
     "output_type": "stream",
     "text": [
      "Epoch [1/10]\n",
      "Training Loss: 1.0064\n",
      "Validation Loss: 0.5155\n"
     ]
    },
    {
     "name": "stderr",
     "output_type": "stream",
     "text": [
      "Epoch 2: 100%|██████████| 78/78 [00:51<00:00,  1.53it/s]\n"
     ]
    },
    {
     "name": "stdout",
     "output_type": "stream",
     "text": [
      "Epoch [2/10]\n",
      "Training Loss: 0.3585\n",
      "Validation Loss: 0.4034\n"
     ]
    },
    {
     "name": "stderr",
     "output_type": "stream",
     "text": [
      "Epoch 3: 100%|██████████| 78/78 [00:55<00:00,  1.41it/s]\n"
     ]
    },
    {
     "name": "stdout",
     "output_type": "stream",
     "text": [
      "Epoch [3/10]\n",
      "Training Loss: 0.3088\n",
      "Validation Loss: 0.4029\n"
     ]
    },
    {
     "name": "stderr",
     "output_type": "stream",
     "text": [
      "Epoch 4: 100%|██████████| 78/78 [00:55<00:00,  1.41it/s]\n"
     ]
    },
    {
     "name": "stdout",
     "output_type": "stream",
     "text": [
      "Epoch [4/10]\n",
      "Training Loss: 0.3078\n",
      "Validation Loss: 0.4029\n"
     ]
    },
    {
     "name": "stderr",
     "output_type": "stream",
     "text": [
      "Epoch 5: 100%|██████████| 78/78 [00:52<00:00,  1.49it/s]\n"
     ]
    },
    {
     "name": "stdout",
     "output_type": "stream",
     "text": [
      "Epoch [5/10]\n",
      "Training Loss: 0.3090\n",
      "Validation Loss: 0.4025\n"
     ]
    },
    {
     "name": "stderr",
     "output_type": "stream",
     "text": [
      "Epoch 6: 100%|██████████| 78/78 [00:55<00:00,  1.41it/s]\n"
     ]
    },
    {
     "name": "stdout",
     "output_type": "stream",
     "text": [
      "Epoch [6/10]\n",
      "Training Loss: 0.3064\n",
      "Validation Loss: 0.4017\n"
     ]
    },
    {
     "name": "stderr",
     "output_type": "stream",
     "text": [
      "Epoch 7: 100%|██████████| 78/78 [00:54<00:00,  1.44it/s]\n"
     ]
    },
    {
     "name": "stdout",
     "output_type": "stream",
     "text": [
      "Epoch [7/10]\n",
      "Training Loss: 0.3079\n",
      "Validation Loss: 0.3984\n"
     ]
    },
    {
     "name": "stderr",
     "output_type": "stream",
     "text": [
      "Epoch 8: 100%|██████████| 78/78 [00:53<00:00,  1.46it/s]\n"
     ]
    },
    {
     "name": "stdout",
     "output_type": "stream",
     "text": [
      "Epoch [8/10]\n",
      "Training Loss: 0.3035\n",
      "Validation Loss: 0.3918\n"
     ]
    },
    {
     "name": "stderr",
     "output_type": "stream",
     "text": [
      "Epoch 9: 100%|██████████| 78/78 [00:55<00:00,  1.40it/s]\n"
     ]
    },
    {
     "name": "stdout",
     "output_type": "stream",
     "text": [
      "Epoch [9/10]\n",
      "Training Loss: 0.3019\n",
      "Validation Loss: 0.3888\n"
     ]
    },
    {
     "name": "stderr",
     "output_type": "stream",
     "text": [
      "Epoch 10: 100%|██████████| 78/78 [00:55<00:00,  1.41it/s]\n"
     ]
    },
    {
     "name": "stdout",
     "output_type": "stream",
     "text": [
      "Epoch [10/10]\n",
      "Training Loss: 0.2994\n",
      "Validation Loss: 0.3789\n",
      "\n",
      "Final Test Loss: 0.2998\n",
      "\n",
      "Best layer configuration:\n",
      "Layers: [(13, 32), (32, 16), (16, 1)]\n",
      "Test loss: 0.2818\n"
     ]
    }
   ],
   "source": [
    "# Now let's test different layer designs (all 3 layer designs)\n",
    "# Define different 3-layer configurations to test\n",
    "layer_configs = [\n",
    "    # Current baseline\n",
    "    [(13, 32), (32, 16), (16, 1)],\n",
    "    # Wider throughout\n",
    "    [(13, 64), (64, 32), (32, 1)],\n",
    "    # Narrow to wide\n",
    "    [(13, 16), (16, 32), (32, 1)],\n",
    "    # Wide to narrow\n",
    "    [(13, 128), (128, 32), (32, 1)]\n",
    "]\n",
    "\n",
    "results = []\n",
    "\n",
    "for config in layer_configs:\n",
    "    class SnowDepthCNNTest(nn.Module):\n",
    "        def __init__(self):\n",
    "            super(SnowDepthCNNTest, self).__init__()\n",
    "            self.layers = nn.ModuleList([\n",
    "                nn.Conv2d(in_channels=in_ch, out_channels=out_ch, \n",
    "                         kernel_size=3, padding=1)\n",
    "                for in_ch, out_ch in config[:-1]\n",
    "            ])\n",
    "            # Final 1x1 conv layer\n",
    "            self.final = nn.Conv2d(config[-2][1], 1, kernel_size=1)\n",
    "            self.activation = nn.ReLU()\n",
    "\n",
    "        def forward(self, x):\n",
    "            for layer in self.layers:\n",
    "                x = self.activation(layer(x))\n",
    "            x = self.final(x)\n",
    "            return x.squeeze(1)\n",
    "\n",
    "    model = SnowDepthCNNTest()\n",
    "    model = model.to(device)\n",
    "    criterion = CustomL1Loss(beta=0.5)\n",
    "    optimizer = torch.optim.Adam(model.parameters(), lr=0.001)\n",
    "    \n",
    "    train_losses, val_losses, test_loss = train_and_evaluate_model(\n",
    "        model=model,\n",
    "        train_loader=train_loader,\n",
    "        val_loader=val_loader,\n",
    "        test_loader=test_loader,\n",
    "        criterion=criterion,\n",
    "        optimizer=optimizer,\n",
    "        num_epochs=num_epochs,\n",
    "        device=device\n",
    "    )\n",
    "    \n",
    "    results.append({\n",
    "        'config': config,\n",
    "        'test_loss': test_loss,\n",
    "        'final_val_loss': val_losses[-1]\n",
    "    })\n",
    "\n",
    "# Find best layer configuration\n",
    "best_result = min(results, key=lambda x: x['test_loss'])\n",
    "print(\"\\nBest layer configuration:\")\n",
    "print(f\"Layers: {best_result['config']}\")\n",
    "print(f\"Test loss: {best_result['test_loss']:.4f}\")"
   ]
  },
  {
   "cell_type": "code",
   "execution_count": 58,
   "metadata": {},
   "outputs": [
    {
     "name": "stderr",
     "output_type": "stream",
     "text": [
      "Epoch 1: 100%|██████████| 78/78 [00:15<00:00,  4.95it/s]\n"
     ]
    },
    {
     "name": "stdout",
     "output_type": "stream",
     "text": [
      "Epoch [1/10]\n",
      "Training Loss: 0.8922\n",
      "Validation Loss: 0.5012\n"
     ]
    },
    {
     "name": "stderr",
     "output_type": "stream",
     "text": [
      "Epoch 2: 100%|██████████| 78/78 [00:17<00:00,  4.46it/s]\n"
     ]
    },
    {
     "name": "stdout",
     "output_type": "stream",
     "text": [
      "Epoch [2/10]\n",
      "Training Loss: 0.4775\n",
      "Validation Loss: 0.4404\n"
     ]
    },
    {
     "name": "stderr",
     "output_type": "stream",
     "text": [
      "Epoch 3: 100%|██████████| 78/78 [00:15<00:00,  5.07it/s]\n"
     ]
    },
    {
     "name": "stdout",
     "output_type": "stream",
     "text": [
      "Epoch [3/10]\n",
      "Training Loss: 0.3673\n",
      "Validation Loss: 0.4673\n"
     ]
    },
    {
     "name": "stderr",
     "output_type": "stream",
     "text": [
      "Epoch 4: 100%|██████████| 78/78 [00:17<00:00,  4.49it/s]\n"
     ]
    },
    {
     "name": "stdout",
     "output_type": "stream",
     "text": [
      "Epoch [4/10]\n",
      "Training Loss: 0.3557\n",
      "Validation Loss: 0.4134\n"
     ]
    },
    {
     "name": "stderr",
     "output_type": "stream",
     "text": [
      "Epoch 5: 100%|██████████| 78/78 [00:15<00:00,  4.94it/s]\n"
     ]
    },
    {
     "name": "stdout",
     "output_type": "stream",
     "text": [
      "Epoch [5/10]\n",
      "Training Loss: 0.3196\n",
      "Validation Loss: 0.4068\n"
     ]
    },
    {
     "name": "stderr",
     "output_type": "stream",
     "text": [
      "Epoch 6: 100%|██████████| 78/78 [00:17<00:00,  4.43it/s]\n"
     ]
    },
    {
     "name": "stdout",
     "output_type": "stream",
     "text": [
      "Epoch [6/10]\n",
      "Training Loss: 0.3139\n",
      "Validation Loss: 0.4032\n"
     ]
    },
    {
     "name": "stderr",
     "output_type": "stream",
     "text": [
      "Epoch 7: 100%|██████████| 78/78 [00:15<00:00,  5.00it/s]\n"
     ]
    },
    {
     "name": "stdout",
     "output_type": "stream",
     "text": [
      "Epoch [7/10]\n",
      "Training Loss: 0.3121\n",
      "Validation Loss: 0.3998\n"
     ]
    },
    {
     "name": "stderr",
     "output_type": "stream",
     "text": [
      "Epoch 8: 100%|██████████| 78/78 [00:17<00:00,  4.36it/s]\n"
     ]
    },
    {
     "name": "stdout",
     "output_type": "stream",
     "text": [
      "Epoch [8/10]\n",
      "Training Loss: 0.3098\n",
      "Validation Loss: 0.3968\n"
     ]
    },
    {
     "name": "stderr",
     "output_type": "stream",
     "text": [
      "Epoch 9: 100%|██████████| 78/78 [00:15<00:00,  5.01it/s]\n"
     ]
    },
    {
     "name": "stdout",
     "output_type": "stream",
     "text": [
      "Epoch [9/10]\n",
      "Training Loss: 0.3055\n",
      "Validation Loss: 0.3902\n"
     ]
    },
    {
     "name": "stderr",
     "output_type": "stream",
     "text": [
      "Epoch 10: 100%|██████████| 78/78 [00:17<00:00,  4.39it/s]\n"
     ]
    },
    {
     "name": "stdout",
     "output_type": "stream",
     "text": [
      "Epoch [10/10]\n",
      "Training Loss: 0.3006\n",
      "Validation Loss: 0.3863\n",
      "\n",
      "Final Test Loss: 0.3039\n"
     ]
    },
    {
     "name": "stderr",
     "output_type": "stream",
     "text": [
      "Epoch 1: 100%|██████████| 78/78 [00:15<00:00,  4.99it/s]\n"
     ]
    },
    {
     "name": "stdout",
     "output_type": "stream",
     "text": [
      "Epoch [1/10]\n",
      "Training Loss: 0.5015\n",
      "Validation Loss: 0.4182\n"
     ]
    },
    {
     "name": "stderr",
     "output_type": "stream",
     "text": [
      "Epoch 2: 100%|██████████| 78/78 [00:17<00:00,  4.44it/s]\n"
     ]
    },
    {
     "name": "stdout",
     "output_type": "stream",
     "text": [
      "Epoch [2/10]\n",
      "Training Loss: 0.3185\n",
      "Validation Loss: 0.4090\n"
     ]
    },
    {
     "name": "stderr",
     "output_type": "stream",
     "text": [
      "Epoch 3: 100%|██████████| 78/78 [00:14<00:00,  5.53it/s]\n"
     ]
    },
    {
     "name": "stdout",
     "output_type": "stream",
     "text": [
      "Epoch [3/10]\n",
      "Training Loss: 0.3112\n",
      "Validation Loss: 0.4075\n"
     ]
    },
    {
     "name": "stderr",
     "output_type": "stream",
     "text": [
      "Epoch 4: 100%|██████████| 78/78 [00:15<00:00,  5.11it/s]\n"
     ]
    },
    {
     "name": "stdout",
     "output_type": "stream",
     "text": [
      "Epoch [4/10]\n",
      "Training Loss: 0.3088\n",
      "Validation Loss: 0.4066\n"
     ]
    },
    {
     "name": "stderr",
     "output_type": "stream",
     "text": [
      "Epoch 5: 100%|██████████| 78/78 [00:13<00:00,  5.88it/s]\n"
     ]
    },
    {
     "name": "stdout",
     "output_type": "stream",
     "text": [
      "Epoch [5/10]\n",
      "Training Loss: 0.3083\n",
      "Validation Loss: 0.4063\n"
     ]
    },
    {
     "name": "stderr",
     "output_type": "stream",
     "text": [
      "Epoch 6: 100%|██████████| 78/78 [00:15<00:00,  5.16it/s]\n"
     ]
    },
    {
     "name": "stdout",
     "output_type": "stream",
     "text": [
      "Epoch [6/10]\n",
      "Training Loss: 0.3068\n",
      "Validation Loss: 0.4061\n"
     ]
    },
    {
     "name": "stderr",
     "output_type": "stream",
     "text": [
      "Epoch 7: 100%|██████████| 78/78 [00:13<00:00,  5.94it/s]\n"
     ]
    },
    {
     "name": "stdout",
     "output_type": "stream",
     "text": [
      "Epoch [7/10]\n",
      "Training Loss: 0.3097\n",
      "Validation Loss: 0.4059\n"
     ]
    },
    {
     "name": "stderr",
     "output_type": "stream",
     "text": [
      "Epoch 8: 100%|██████████| 78/78 [00:15<00:00,  5.16it/s]\n"
     ]
    },
    {
     "name": "stdout",
     "output_type": "stream",
     "text": [
      "Epoch [8/10]\n",
      "Training Loss: 0.3070\n",
      "Validation Loss: 0.4058\n"
     ]
    },
    {
     "name": "stderr",
     "output_type": "stream",
     "text": [
      "Epoch 9: 100%|██████████| 78/78 [00:13<00:00,  5.95it/s]\n"
     ]
    },
    {
     "name": "stdout",
     "output_type": "stream",
     "text": [
      "Epoch [9/10]\n",
      "Training Loss: 0.3094\n",
      "Validation Loss: 0.4058\n"
     ]
    },
    {
     "name": "stderr",
     "output_type": "stream",
     "text": [
      "Epoch 10: 100%|██████████| 78/78 [00:13<00:00,  5.88it/s]\n"
     ]
    },
    {
     "name": "stdout",
     "output_type": "stream",
     "text": [
      "Epoch [10/10]\n",
      "Training Loss: 0.3073\n",
      "Validation Loss: 0.4058\n",
      "\n",
      "Final Test Loss: 0.3145\n"
     ]
    },
    {
     "name": "stderr",
     "output_type": "stream",
     "text": [
      "Epoch 1: 100%|██████████| 78/78 [00:15<00:00,  5.02it/s]\n"
     ]
    },
    {
     "name": "stdout",
     "output_type": "stream",
     "text": [
      "Epoch [1/10]\n",
      "Training Loss: 0.5050\n",
      "Validation Loss: 0.4044\n"
     ]
    },
    {
     "name": "stderr",
     "output_type": "stream",
     "text": [
      "Epoch 2: 100%|██████████| 78/78 [00:13<00:00,  5.75it/s]\n"
     ]
    },
    {
     "name": "stdout",
     "output_type": "stream",
     "text": [
      "Epoch [2/10]\n",
      "Training Loss: 0.3065\n",
      "Validation Loss: 0.4021\n"
     ]
    },
    {
     "name": "stderr",
     "output_type": "stream",
     "text": [
      "Epoch 3: 100%|██████████| 78/78 [00:15<00:00,  5.06it/s]\n"
     ]
    },
    {
     "name": "stdout",
     "output_type": "stream",
     "text": [
      "Epoch [3/10]\n",
      "Training Loss: 0.3047\n",
      "Validation Loss: 0.3969\n"
     ]
    },
    {
     "name": "stderr",
     "output_type": "stream",
     "text": [
      "Epoch 4: 100%|██████████| 78/78 [00:13<00:00,  5.88it/s]\n"
     ]
    },
    {
     "name": "stdout",
     "output_type": "stream",
     "text": [
      "Epoch [4/10]\n",
      "Training Loss: 0.3014\n",
      "Validation Loss: 0.3924\n"
     ]
    },
    {
     "name": "stderr",
     "output_type": "stream",
     "text": [
      "Epoch 5: 100%|██████████| 78/78 [00:15<00:00,  5.07it/s]\n"
     ]
    },
    {
     "name": "stdout",
     "output_type": "stream",
     "text": [
      "Epoch [5/10]\n",
      "Training Loss: 0.2969\n",
      "Validation Loss: 0.3863\n"
     ]
    },
    {
     "name": "stderr",
     "output_type": "stream",
     "text": [
      "Epoch 6: 100%|██████████| 78/78 [00:13<00:00,  5.92it/s]\n"
     ]
    },
    {
     "name": "stdout",
     "output_type": "stream",
     "text": [
      "Epoch [6/10]\n",
      "Training Loss: 0.2926\n",
      "Validation Loss: 0.3662\n"
     ]
    },
    {
     "name": "stderr",
     "output_type": "stream",
     "text": [
      "Epoch 7: 100%|██████████| 78/78 [00:15<00:00,  5.10it/s]\n"
     ]
    },
    {
     "name": "stdout",
     "output_type": "stream",
     "text": [
      "Epoch [7/10]\n",
      "Training Loss: 0.2848\n",
      "Validation Loss: 0.3625\n"
     ]
    },
    {
     "name": "stderr",
     "output_type": "stream",
     "text": [
      "Epoch 8: 100%|██████████| 78/78 [00:13<00:00,  5.88it/s]\n"
     ]
    },
    {
     "name": "stdout",
     "output_type": "stream",
     "text": [
      "Epoch [8/10]\n",
      "Training Loss: 0.2791\n",
      "Validation Loss: 0.3641\n"
     ]
    },
    {
     "name": "stderr",
     "output_type": "stream",
     "text": [
      "Epoch 9: 100%|██████████| 78/78 [00:13<00:00,  5.89it/s]\n"
     ]
    },
    {
     "name": "stdout",
     "output_type": "stream",
     "text": [
      "Epoch [9/10]\n",
      "Training Loss: 0.2776\n",
      "Validation Loss: 0.3435\n"
     ]
    },
    {
     "name": "stderr",
     "output_type": "stream",
     "text": [
      "Epoch 10: 100%|██████████| 78/78 [00:15<00:00,  5.16it/s]\n"
     ]
    },
    {
     "name": "stdout",
     "output_type": "stream",
     "text": [
      "Epoch [10/10]\n",
      "Training Loss: 0.2748\n",
      "Validation Loss: 0.3313\n",
      "\n",
      "Final Test Loss: 0.2773\n"
     ]
    },
    {
     "name": "stderr",
     "output_type": "stream",
     "text": [
      "Epoch 1: 100%|██████████| 78/78 [00:13<00:00,  5.92it/s]\n"
     ]
    },
    {
     "name": "stdout",
     "output_type": "stream",
     "text": [
      "Epoch [1/10]\n",
      "Training Loss: 0.6454\n",
      "Validation Loss: 0.6816\n"
     ]
    },
    {
     "name": "stderr",
     "output_type": "stream",
     "text": [
      "Epoch 2: 100%|██████████| 78/78 [00:15<00:00,  5.08it/s]\n"
     ]
    },
    {
     "name": "stdout",
     "output_type": "stream",
     "text": [
      "Epoch [2/10]\n",
      "Training Loss: 0.5280\n",
      "Validation Loss: 0.4375\n"
     ]
    },
    {
     "name": "stderr",
     "output_type": "stream",
     "text": [
      "Epoch 3: 100%|██████████| 78/78 [00:13<00:00,  5.88it/s]\n"
     ]
    },
    {
     "name": "stdout",
     "output_type": "stream",
     "text": [
      "Epoch [3/10]\n",
      "Training Loss: 0.3802\n",
      "Validation Loss: 0.4279\n"
     ]
    },
    {
     "name": "stderr",
     "output_type": "stream",
     "text": [
      "Epoch 4: 100%|██████████| 78/78 [00:15<00:00,  5.13it/s]\n"
     ]
    },
    {
     "name": "stdout",
     "output_type": "stream",
     "text": [
      "Epoch [4/10]\n",
      "Training Loss: 0.3274\n",
      "Validation Loss: 0.4265\n"
     ]
    },
    {
     "name": "stderr",
     "output_type": "stream",
     "text": [
      "Epoch 5: 100%|██████████| 78/78 [00:13<00:00,  5.96it/s]\n"
     ]
    },
    {
     "name": "stdout",
     "output_type": "stream",
     "text": [
      "Epoch [5/10]\n",
      "Training Loss: 0.3259\n",
      "Validation Loss: 0.4045\n"
     ]
    },
    {
     "name": "stderr",
     "output_type": "stream",
     "text": [
      "Epoch 6: 100%|██████████| 78/78 [00:13<00:00,  5.84it/s]\n"
     ]
    },
    {
     "name": "stdout",
     "output_type": "stream",
     "text": [
      "Epoch [6/10]\n",
      "Training Loss: 0.3132\n",
      "Validation Loss: 0.3935\n"
     ]
    },
    {
     "name": "stderr",
     "output_type": "stream",
     "text": [
      "Epoch 7: 100%|██████████| 78/78 [00:15<00:00,  5.04it/s]\n"
     ]
    },
    {
     "name": "stdout",
     "output_type": "stream",
     "text": [
      "Epoch [7/10]\n",
      "Training Loss: 0.3035\n",
      "Validation Loss: 0.3865\n"
     ]
    },
    {
     "name": "stderr",
     "output_type": "stream",
     "text": [
      "Epoch 8: 100%|██████████| 78/78 [00:13<00:00,  5.80it/s]\n"
     ]
    },
    {
     "name": "stdout",
     "output_type": "stream",
     "text": [
      "Epoch [8/10]\n",
      "Training Loss: 0.2993\n",
      "Validation Loss: 0.3753\n"
     ]
    },
    {
     "name": "stderr",
     "output_type": "stream",
     "text": [
      "Epoch 9: 100%|██████████| 78/78 [00:15<00:00,  5.07it/s]\n"
     ]
    },
    {
     "name": "stdout",
     "output_type": "stream",
     "text": [
      "Epoch [9/10]\n",
      "Training Loss: 0.2926\n",
      "Validation Loss: 0.3632\n"
     ]
    },
    {
     "name": "stderr",
     "output_type": "stream",
     "text": [
      "Epoch 10: 100%|██████████| 78/78 [00:13<00:00,  5.91it/s]\n"
     ]
    },
    {
     "name": "stdout",
     "output_type": "stream",
     "text": [
      "Epoch [10/10]\n",
      "Training Loss: 0.2868\n",
      "Validation Loss: 0.3625\n",
      "\n",
      "Final Test Loss: 0.2903\n",
      "\n",
      "Best optimizer configuration:\n",
      "Optimizer: RMSprop\n",
      "Test loss: 0.2773\n"
     ]
    }
   ],
   "source": [
    "# so we'll proceed with the original layer structure as seen above and finally optimize the optimizer\n",
    "class SnowDepthCNN(nn.Module):\n",
    "    def __init__(self):\n",
    "        super(SnowDepthCNN, self).__init__()\n",
    "        self.conv1 = nn.Conv2d(in_channels=13, out_channels=32, kernel_size=3, padding=1)\n",
    "        self.conv2 = nn.Conv2d(in_channels=32, out_channels=16, kernel_size=3, padding=1)\n",
    "        self.conv3 = nn.Conv2d(in_channels=16, out_channels=1, kernel_size=1)\n",
    "        self.activation = nn.ReLU()\n",
    "\n",
    "    def forward(self, x):\n",
    "        x = self.activation(self.conv1(x))\n",
    "        x = self.activation(self.conv2(x))\n",
    "        x = self.conv3(x)\n",
    "        return x.squeeze(1)\n",
    "\n",
    "# Test different optimizers\n",
    "optimizers = {\n",
    "    'Adam': torch.optim.Adam,\n",
    "    'SGD': torch.optim.SGD,\n",
    "    'RMSprop': torch.optim.RMSprop,\n",
    "    'AdamW': torch.optim.AdamW\n",
    "}\n",
    "\n",
    "results = []\n",
    "\n",
    "for opt_name, opt_class in optimizers.items():\n",
    "    model = SnowDepthCNN()\n",
    "    model = model.to(device)\n",
    "    criterion = CustomL1Loss(beta=0.5)\n",
    "    \n",
    "    # Handle SGD separately as it needs momentum\n",
    "    if opt_name == 'SGD':\n",
    "        optimizer = opt_class(model.parameters(), lr=0.001, momentum=0.9)\n",
    "    else:\n",
    "        optimizer = opt_class(model.parameters(), lr=0.001)\n",
    "    \n",
    "    train_losses, val_losses, test_loss = train_and_evaluate_model(\n",
    "        model=model,\n",
    "        train_loader=train_loader,\n",
    "        val_loader=val_loader,\n",
    "        test_loader=test_loader,\n",
    "        criterion=criterion,\n",
    "        optimizer=optimizer,\n",
    "        num_epochs=num_epochs,\n",
    "        device=device\n",
    "    )\n",
    "    \n",
    "    results.append({\n",
    "        'optimizer': opt_name,\n",
    "        'test_loss': test_loss,\n",
    "        'final_val_loss': val_losses[-1]\n",
    "    })\n",
    "\n",
    "# Find best optimizer\n",
    "best_result = min(results, key=lambda x: x['test_loss'])\n",
    "print(\"\\nBest optimizer configuration:\")\n",
    "print(f\"Optimizer: {best_result['optimizer']}\")\n",
    "print(f\"Test loss: {best_result['test_loss']:.4f}\")"
   ]
  },
  {
   "cell_type": "code",
   "execution_count": null,
   "metadata": {},
   "outputs": [],
   "source": [
    "# seems like all of the losses we tested besides SGD are pretty comparable\n",
    "# I would ideally do a comparison with k-fold validations and more epochs for each loss function\n",
    "# but for the sake of time, let's just proceed with RMSprop"
   ]
  },
  {
   "cell_type": "markdown",
   "metadata": {},
   "source": [
    "# 4. Performance Evaluation (20%)"
   ]
  },
  {
   "cell_type": "markdown",
   "metadata": {},
   "source": [
    "#### Quantitative Evaluation (6%): "
   ]
  },
  {
   "cell_type": "code",
   "execution_count": null,
   "metadata": {},
   "outputs": [],
   "source": [
    "# quant evaluation was measured on the model's loss (MAE) after every run\n",
    "# given that this is a regression problem and the goal is to develop a generalized model for \n",
    "# the western US, I want to rely on MAE as the main evaluation metric for hyperparameter tuning"
   ]
  },
  {
   "cell_type": "code",
   "execution_count": 65,
   "metadata": {},
   "outputs": [
    {
     "name": "stderr",
     "output_type": "stream",
     "text": [
      "Epoch 1: 100%|██████████| 70/70 [00:13<00:00,  5.02it/s]\n"
     ]
    },
    {
     "name": "stdout",
     "output_type": "stream",
     "text": [
      "Epoch [1/15]\n",
      "Training Loss: 1.0128\n",
      "Validation Loss: 0.2655\n"
     ]
    },
    {
     "name": "stderr",
     "output_type": "stream",
     "text": [
      "Epoch 2: 100%|██████████| 70/70 [00:14<00:00,  4.69it/s]\n"
     ]
    },
    {
     "name": "stdout",
     "output_type": "stream",
     "text": [
      "Epoch [2/15]\n",
      "Training Loss: 0.3148\n",
      "Validation Loss: 0.2627\n"
     ]
    },
    {
     "name": "stderr",
     "output_type": "stream",
     "text": [
      "Epoch 3: 100%|██████████| 70/70 [00:13<00:00,  5.12it/s]\n"
     ]
    },
    {
     "name": "stdout",
     "output_type": "stream",
     "text": [
      "Epoch [3/15]\n",
      "Training Loss: 0.3137\n",
      "Validation Loss: 0.2618\n"
     ]
    },
    {
     "name": "stderr",
     "output_type": "stream",
     "text": [
      "Epoch 4: 100%|██████████| 70/70 [00:15<00:00,  4.53it/s]\n"
     ]
    },
    {
     "name": "stdout",
     "output_type": "stream",
     "text": [
      "Epoch [4/15]\n",
      "Training Loss: 0.3126\n",
      "Validation Loss: 0.2613\n"
     ]
    },
    {
     "name": "stderr",
     "output_type": "stream",
     "text": [
      "Epoch 5: 100%|██████████| 70/70 [00:13<00:00,  5.14it/s]\n"
     ]
    },
    {
     "name": "stdout",
     "output_type": "stream",
     "text": [
      "Epoch [5/15]\n",
      "Training Loss: 0.3115\n",
      "Validation Loss: 0.2612\n"
     ]
    },
    {
     "name": "stderr",
     "output_type": "stream",
     "text": [
      "Epoch 6: 100%|██████████| 70/70 [00:16<00:00,  4.34it/s]\n"
     ]
    },
    {
     "name": "stdout",
     "output_type": "stream",
     "text": [
      "Epoch [6/15]\n",
      "Training Loss: 0.3096\n",
      "Validation Loss: 0.2605\n"
     ]
    },
    {
     "name": "stderr",
     "output_type": "stream",
     "text": [
      "Epoch 7: 100%|██████████| 70/70 [00:12<00:00,  5.45it/s]\n"
     ]
    },
    {
     "name": "stdout",
     "output_type": "stream",
     "text": [
      "Epoch [7/15]\n",
      "Training Loss: 0.3059\n",
      "Validation Loss: 0.2572\n"
     ]
    },
    {
     "name": "stderr",
     "output_type": "stream",
     "text": [
      "Epoch 8: 100%|██████████| 70/70 [00:15<00:00,  4.41it/s]\n"
     ]
    },
    {
     "name": "stdout",
     "output_type": "stream",
     "text": [
      "Epoch [8/15]\n",
      "Training Loss: 0.3019\n",
      "Validation Loss: 0.2543\n"
     ]
    },
    {
     "name": "stderr",
     "output_type": "stream",
     "text": [
      "Epoch 9: 100%|██████████| 70/70 [00:12<00:00,  5.46it/s]\n"
     ]
    },
    {
     "name": "stdout",
     "output_type": "stream",
     "text": [
      "Epoch [9/15]\n",
      "Training Loss: 0.2971\n",
      "Validation Loss: 0.2544\n"
     ]
    },
    {
     "name": "stderr",
     "output_type": "stream",
     "text": [
      "Epoch 10: 100%|██████████| 70/70 [00:13<00:00,  5.09it/s]\n"
     ]
    },
    {
     "name": "stdout",
     "output_type": "stream",
     "text": [
      "Epoch [10/15]\n",
      "Training Loss: 0.2903\n",
      "Validation Loss: 0.2580\n"
     ]
    },
    {
     "name": "stderr",
     "output_type": "stream",
     "text": [
      "Epoch 11: 100%|██████████| 70/70 [00:14<00:00,  4.72it/s]\n"
     ]
    },
    {
     "name": "stdout",
     "output_type": "stream",
     "text": [
      "Epoch [11/15]\n",
      "Training Loss: 0.2860\n",
      "Validation Loss: 0.2469\n"
     ]
    },
    {
     "name": "stderr",
     "output_type": "stream",
     "text": [
      "Epoch 12: 100%|██████████| 70/70 [00:13<00:00,  5.37it/s]\n"
     ]
    },
    {
     "name": "stdout",
     "output_type": "stream",
     "text": [
      "Epoch [12/15]\n",
      "Training Loss: 0.2831\n",
      "Validation Loss: 0.2506\n"
     ]
    },
    {
     "name": "stderr",
     "output_type": "stream",
     "text": [
      "Epoch 13: 100%|██████████| 70/70 [00:15<00:00,  4.63it/s]\n"
     ]
    },
    {
     "name": "stdout",
     "output_type": "stream",
     "text": [
      "Epoch [13/15]\n",
      "Training Loss: 0.2793\n",
      "Validation Loss: 0.2437\n"
     ]
    },
    {
     "name": "stderr",
     "output_type": "stream",
     "text": [
      "Epoch 14: 100%|██████████| 70/70 [00:13<00:00,  5.31it/s]\n"
     ]
    },
    {
     "name": "stdout",
     "output_type": "stream",
     "text": [
      "Epoch [14/15]\n",
      "Training Loss: 0.2771\n",
      "Validation Loss: 0.2446\n"
     ]
    },
    {
     "name": "stderr",
     "output_type": "stream",
     "text": [
      "Epoch 15: 100%|██████████| 70/70 [00:14<00:00,  4.85it/s]\n"
     ]
    },
    {
     "name": "stdout",
     "output_type": "stream",
     "text": [
      "Epoch [15/15]\n",
      "Training Loss: 0.2746\n",
      "Validation Loss: 0.2765\n",
      "\n",
      "Final Test Loss: 0.2954\n",
      "MAE: 0.5957\n",
      "RMSE: 1.1447\n",
      "R2: 0.1080\n",
      "MAPE: 1332008192.0000\n",
      "PSNR: 26.0702\n",
      "Correlation: 0.4017\n"
     ]
    }
   ],
   "source": [
    "# that being said, let's apply some more robust metric evaluation techniques on our 'best' model\n",
    "def evaluate_model_metrics(model, test_loader, device):\n",
    "    model.eval()\n",
    "    all_predictions = []\n",
    "    all_targets = []\n",
    "    \n",
    "    with torch.no_grad():\n",
    "        for features, targets in test_loader:\n",
    "            features, targets = features.to(device), targets.to(device)\n",
    "            predictions = model(features)\n",
    "            all_predictions.append(predictions)\n",
    "            all_targets.append(targets)\n",
    "    \n",
    "    # Concatenate all batches\n",
    "    predictions = torch.cat(all_predictions)\n",
    "    targets = torch.cat(all_targets)\n",
    "    \n",
    "    # Calculate metrics\n",
    "    mae = torch.mean(torch.abs(predictions - targets))\n",
    "    rmse = torch.sqrt(torch.mean((predictions - targets) ** 2))\n",
    "    \n",
    "    # R-squared\n",
    "    total_ss = torch.sum((targets - torch.mean(targets)) ** 2)\n",
    "    residual_ss = torch.sum((targets - predictions) ** 2)\n",
    "    r2 = 1 - (residual_ss / total_ss)\n",
    "    \n",
    "    # MAPE (adding small constant to avoid division by zero)\n",
    "    mape = torch.mean(torch.abs((targets - predictions) / (targets + 1e-8))) * 100\n",
    "    \n",
    "    # PSNR\n",
    "    mse = torch.mean((predictions - targets) ** 2)\n",
    "    max_pixel = torch.max(targets)\n",
    "    psnr = 20 * torch.log10(max_pixel / torch.sqrt(mse))\n",
    "    \n",
    "    # Correlation\n",
    "    vx = predictions - torch.mean(predictions)\n",
    "    vy = targets - torch.mean(targets)\n",
    "    correlation = torch.sum(vx * vy) / (torch.sqrt(torch.sum(vx ** 2)) * torch.sqrt(torch.sum(vy ** 2)))\n",
    "    \n",
    "    return {\n",
    "        'MAE': mae.item(),\n",
    "        'RMSE': rmse.item(),\n",
    "        'R2': r2.item(),\n",
    "        'MAPE': mape.item(),\n",
    "        'PSNR': psnr.item(),\n",
    "        'Correlation': correlation.item()\n",
    "    }\n",
    "model = SnowDepthCNN().to(device)\n",
    "optimizer = torch.optim.RMSprop(model.parameters(), lr=0.001)\n",
    "criterion = CustomL1Loss(beta=0.5)\n",
    "train_losses, val_losses, test_loss = train_and_evaluate_model(\n",
    "    model=model,\n",
    "    train_loader=train_loader,\n",
    "    val_loader=val_loader,\n",
    "    test_loader=test_loader,\n",
    "    criterion=criterion,\n",
    "    optimizer=optimizer,\n",
    "    num_epochs=15,\n",
    "    device=device\n",
    ")\n",
    "metrics = evaluate_model_metrics(model, test_loader, device)\n",
    "for metric_name, value in metrics.items():\n",
    "    print(f\"{metric_name}: {value:.4f}\")\n"
   ]
  },
  {
   "cell_type": "code",
   "execution_count": null,
   "metadata": {},
   "outputs": [],
   "source": [
    "# the test loss is promising and the MAE of < 0.6 meters isn't bad considering current snow depth models\n",
    "# at a similar scale, but 0.5 meters is still unacceptable\n",
    "# The R2 score is weak and so is the corresponding correlation value, but it's not the worst I've seen\n",
    "# and at least there's some relationship there\n",
    "# I haven't worked much with PSNR much but I'm assuming it's a somewhat-decent score\n",
    "# The MAPE indicatest that we need to handle zero values better, this makes sense given the physics\n",
    "# of predicting small snow depths with satellite observations but this is a big part of what we're hoping\n",
    "# to improve upon"
   ]
  }
 ],
 "metadata": {
  "kernelspec": {
   "display_name": "deep-snow",
   "language": "python",
   "name": "python3"
  },
  "language_info": {
   "codemirror_mode": {
    "name": "ipython",
    "version": 3
   },
   "file_extension": ".py",
   "mimetype": "text/x-python",
   "name": "python",
   "nbconvert_exporter": "python",
   "pygments_lexer": "ipython3",
   "version": "3.12.7"
  }
 },
 "nbformat": 4,
 "nbformat_minor": 2
}
